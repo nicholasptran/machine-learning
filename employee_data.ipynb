{
 "cells": [
  {
   "cell_type": "code",
   "execution_count": 3,
   "metadata": {},
   "outputs": [],
   "source": [
    "from collections import Counter\n",
    "import pandas as pd\n",
    "from sklearn.model_selection import (train_test_split)\n",
    "from sklearn.metrics import (\n",
    "    mean_squared_error as MSE,\n",
    "    classification_report,\n",
    "    confusion_matrix,\n",
    "    roc_auc_score,\n",
    "    accuracy_score\n",
    ")\n",
    "import numpy as np\n",
    "import optuna\n",
    "from sklearn.preprocessing import LabelEncoder\n",
    "import matplotlib.pyplot as plt\n",
    "import xgboost as xgb\n",
    "\n",
    "\n",
    "data = pd.read_csv(\"data/employee_data.csv\")"
   ]
  },
  {
   "cell_type": "code",
   "execution_count": 4,
   "metadata": {},
   "outputs": [
    {
     "data": {
      "text/html": [
       "<div>\n",
       "<style scoped>\n",
       "    .dataframe tbody tr th:only-of-type {\n",
       "        vertical-align: middle;\n",
       "    }\n",
       "\n",
       "    .dataframe tbody tr th {\n",
       "        vertical-align: top;\n",
       "    }\n",
       "\n",
       "    .dataframe thead th {\n",
       "        text-align: right;\n",
       "    }\n",
       "</style>\n",
       "<table border=\"1\" class=\"dataframe\">\n",
       "  <thead>\n",
       "    <tr style=\"text-align: right;\">\n",
       "      <th></th>\n",
       "      <th>Age</th>\n",
       "      <th>Staying?</th>\n",
       "      <th>BusinessTravel</th>\n",
       "      <th>DailyRate</th>\n",
       "      <th>Department</th>\n",
       "      <th>DistanceFromHome</th>\n",
       "      <th>Education</th>\n",
       "      <th>EducationField</th>\n",
       "      <th>EmployeeCount</th>\n",
       "      <th>EmployeeNumber</th>\n",
       "      <th>...</th>\n",
       "      <th>RelationshipSatisfaction</th>\n",
       "      <th>StandardHours</th>\n",
       "      <th>StockOptionLevel</th>\n",
       "      <th>TotalWorkingYears</th>\n",
       "      <th>TrainingTimesLastYear</th>\n",
       "      <th>WorkLifeBalance</th>\n",
       "      <th>YearsAtCompany</th>\n",
       "      <th>YearsInCurrentRole</th>\n",
       "      <th>YearsSinceLastPromotion</th>\n",
       "      <th>YearsWithCurrManager</th>\n",
       "    </tr>\n",
       "  </thead>\n",
       "  <tbody>\n",
       "    <tr>\n",
       "      <th>0</th>\n",
       "      <td>41</td>\n",
       "      <td>Yes</td>\n",
       "      <td>Travel_Rarely</td>\n",
       "      <td>1102</td>\n",
       "      <td>Sales</td>\n",
       "      <td>1</td>\n",
       "      <td>2</td>\n",
       "      <td>Life Sciences</td>\n",
       "      <td>1</td>\n",
       "      <td>1</td>\n",
       "      <td>...</td>\n",
       "      <td>1</td>\n",
       "      <td>80</td>\n",
       "      <td>0</td>\n",
       "      <td>8</td>\n",
       "      <td>0</td>\n",
       "      <td>1</td>\n",
       "      <td>6</td>\n",
       "      <td>4</td>\n",
       "      <td>0</td>\n",
       "      <td>5</td>\n",
       "    </tr>\n",
       "    <tr>\n",
       "      <th>1</th>\n",
       "      <td>49</td>\n",
       "      <td>No</td>\n",
       "      <td>Travel_Frequently</td>\n",
       "      <td>279</td>\n",
       "      <td>Research &amp; Development</td>\n",
       "      <td>8</td>\n",
       "      <td>1</td>\n",
       "      <td>Life Sciences</td>\n",
       "      <td>1</td>\n",
       "      <td>2</td>\n",
       "      <td>...</td>\n",
       "      <td>4</td>\n",
       "      <td>80</td>\n",
       "      <td>1</td>\n",
       "      <td>10</td>\n",
       "      <td>3</td>\n",
       "      <td>3</td>\n",
       "      <td>10</td>\n",
       "      <td>7</td>\n",
       "      <td>1</td>\n",
       "      <td>7</td>\n",
       "    </tr>\n",
       "  </tbody>\n",
       "</table>\n",
       "<p>2 rows × 35 columns</p>\n",
       "</div>"
      ],
      "text/plain": [
       "   Age Staying?     BusinessTravel  DailyRate              Department   \n",
       "0   41      Yes      Travel_Rarely       1102                   Sales  \\\n",
       "1   49       No  Travel_Frequently        279  Research & Development   \n",
       "\n",
       "   DistanceFromHome  Education EducationField  EmployeeCount  EmployeeNumber   \n",
       "0                 1          2  Life Sciences              1               1  \\\n",
       "1                 8          1  Life Sciences              1               2   \n",
       "\n",
       "   ...  RelationshipSatisfaction StandardHours  StockOptionLevel   \n",
       "0  ...                         1            80                 0  \\\n",
       "1  ...                         4            80                 1   \n",
       "\n",
       "   TotalWorkingYears  TrainingTimesLastYear WorkLifeBalance  YearsAtCompany   \n",
       "0                  8                      0               1               6  \\\n",
       "1                 10                      3               3              10   \n",
       "\n",
       "  YearsInCurrentRole  YearsSinceLastPromotion  YearsWithCurrManager  \n",
       "0                  4                        0                     5  \n",
       "1                  7                        1                     7  \n",
       "\n",
       "[2 rows x 35 columns]"
      ]
     },
     "execution_count": 4,
     "metadata": {},
     "output_type": "execute_result"
    }
   ],
   "source": [
    "data.head(2)"
   ]
  },
  {
   "cell_type": "code",
   "execution_count": 5,
   "metadata": {},
   "outputs": [
    {
     "data": {
      "text/html": [
       "<div>\n",
       "<style scoped>\n",
       "    .dataframe tbody tr th:only-of-type {\n",
       "        vertical-align: middle;\n",
       "    }\n",
       "\n",
       "    .dataframe tbody tr th {\n",
       "        vertical-align: top;\n",
       "    }\n",
       "\n",
       "    .dataframe thead th {\n",
       "        text-align: right;\n",
       "    }\n",
       "</style>\n",
       "<table border=\"1\" class=\"dataframe\">\n",
       "  <thead>\n",
       "    <tr style=\"text-align: right;\">\n",
       "      <th></th>\n",
       "      <th>Age</th>\n",
       "      <th>DailyRate</th>\n",
       "      <th>DistanceFromHome</th>\n",
       "      <th>Education</th>\n",
       "      <th>EmployeeCount</th>\n",
       "      <th>EmployeeNumber</th>\n",
       "      <th>EnvironmentSatisfaction</th>\n",
       "      <th>HourlyRate</th>\n",
       "      <th>JobInvolvement</th>\n",
       "      <th>JobLevel</th>\n",
       "      <th>...</th>\n",
       "      <th>RelationshipSatisfaction</th>\n",
       "      <th>StandardHours</th>\n",
       "      <th>StockOptionLevel</th>\n",
       "      <th>TotalWorkingYears</th>\n",
       "      <th>TrainingTimesLastYear</th>\n",
       "      <th>WorkLifeBalance</th>\n",
       "      <th>YearsAtCompany</th>\n",
       "      <th>YearsInCurrentRole</th>\n",
       "      <th>YearsSinceLastPromotion</th>\n",
       "      <th>YearsWithCurrManager</th>\n",
       "    </tr>\n",
       "  </thead>\n",
       "  <tbody>\n",
       "    <tr>\n",
       "      <th>count</th>\n",
       "      <td>1470.000000</td>\n",
       "      <td>1470.000000</td>\n",
       "      <td>1470.000000</td>\n",
       "      <td>1470.000000</td>\n",
       "      <td>1470.0</td>\n",
       "      <td>1470.000000</td>\n",
       "      <td>1470.000000</td>\n",
       "      <td>1470.000000</td>\n",
       "      <td>1470.000000</td>\n",
       "      <td>1470.000000</td>\n",
       "      <td>...</td>\n",
       "      <td>1470.000000</td>\n",
       "      <td>1470.0</td>\n",
       "      <td>1470.000000</td>\n",
       "      <td>1470.000000</td>\n",
       "      <td>1470.000000</td>\n",
       "      <td>1470.000000</td>\n",
       "      <td>1470.000000</td>\n",
       "      <td>1470.000000</td>\n",
       "      <td>1470.000000</td>\n",
       "      <td>1470.000000</td>\n",
       "    </tr>\n",
       "    <tr>\n",
       "      <th>mean</th>\n",
       "      <td>36.923810</td>\n",
       "      <td>802.485714</td>\n",
       "      <td>9.192517</td>\n",
       "      <td>2.912925</td>\n",
       "      <td>1.0</td>\n",
       "      <td>1024.865306</td>\n",
       "      <td>2.721769</td>\n",
       "      <td>65.891156</td>\n",
       "      <td>2.729932</td>\n",
       "      <td>2.063946</td>\n",
       "      <td>...</td>\n",
       "      <td>2.712245</td>\n",
       "      <td>80.0</td>\n",
       "      <td>0.793878</td>\n",
       "      <td>11.279592</td>\n",
       "      <td>2.799320</td>\n",
       "      <td>2.761224</td>\n",
       "      <td>7.008163</td>\n",
       "      <td>4.229252</td>\n",
       "      <td>2.187755</td>\n",
       "      <td>4.123129</td>\n",
       "    </tr>\n",
       "    <tr>\n",
       "      <th>std</th>\n",
       "      <td>9.135373</td>\n",
       "      <td>403.509100</td>\n",
       "      <td>8.106864</td>\n",
       "      <td>1.024165</td>\n",
       "      <td>0.0</td>\n",
       "      <td>602.024335</td>\n",
       "      <td>1.093082</td>\n",
       "      <td>20.329428</td>\n",
       "      <td>0.711561</td>\n",
       "      <td>1.106940</td>\n",
       "      <td>...</td>\n",
       "      <td>1.081209</td>\n",
       "      <td>0.0</td>\n",
       "      <td>0.852077</td>\n",
       "      <td>7.780782</td>\n",
       "      <td>1.289271</td>\n",
       "      <td>0.706476</td>\n",
       "      <td>6.126525</td>\n",
       "      <td>3.623137</td>\n",
       "      <td>3.222430</td>\n",
       "      <td>3.568136</td>\n",
       "    </tr>\n",
       "    <tr>\n",
       "      <th>min</th>\n",
       "      <td>18.000000</td>\n",
       "      <td>102.000000</td>\n",
       "      <td>1.000000</td>\n",
       "      <td>1.000000</td>\n",
       "      <td>1.0</td>\n",
       "      <td>1.000000</td>\n",
       "      <td>1.000000</td>\n",
       "      <td>30.000000</td>\n",
       "      <td>1.000000</td>\n",
       "      <td>1.000000</td>\n",
       "      <td>...</td>\n",
       "      <td>1.000000</td>\n",
       "      <td>80.0</td>\n",
       "      <td>0.000000</td>\n",
       "      <td>0.000000</td>\n",
       "      <td>0.000000</td>\n",
       "      <td>1.000000</td>\n",
       "      <td>0.000000</td>\n",
       "      <td>0.000000</td>\n",
       "      <td>0.000000</td>\n",
       "      <td>0.000000</td>\n",
       "    </tr>\n",
       "    <tr>\n",
       "      <th>25%</th>\n",
       "      <td>30.000000</td>\n",
       "      <td>465.000000</td>\n",
       "      <td>2.000000</td>\n",
       "      <td>2.000000</td>\n",
       "      <td>1.0</td>\n",
       "      <td>491.250000</td>\n",
       "      <td>2.000000</td>\n",
       "      <td>48.000000</td>\n",
       "      <td>2.000000</td>\n",
       "      <td>1.000000</td>\n",
       "      <td>...</td>\n",
       "      <td>2.000000</td>\n",
       "      <td>80.0</td>\n",
       "      <td>0.000000</td>\n",
       "      <td>6.000000</td>\n",
       "      <td>2.000000</td>\n",
       "      <td>2.000000</td>\n",
       "      <td>3.000000</td>\n",
       "      <td>2.000000</td>\n",
       "      <td>0.000000</td>\n",
       "      <td>2.000000</td>\n",
       "    </tr>\n",
       "    <tr>\n",
       "      <th>50%</th>\n",
       "      <td>36.000000</td>\n",
       "      <td>802.000000</td>\n",
       "      <td>7.000000</td>\n",
       "      <td>3.000000</td>\n",
       "      <td>1.0</td>\n",
       "      <td>1020.500000</td>\n",
       "      <td>3.000000</td>\n",
       "      <td>66.000000</td>\n",
       "      <td>3.000000</td>\n",
       "      <td>2.000000</td>\n",
       "      <td>...</td>\n",
       "      <td>3.000000</td>\n",
       "      <td>80.0</td>\n",
       "      <td>1.000000</td>\n",
       "      <td>10.000000</td>\n",
       "      <td>3.000000</td>\n",
       "      <td>3.000000</td>\n",
       "      <td>5.000000</td>\n",
       "      <td>3.000000</td>\n",
       "      <td>1.000000</td>\n",
       "      <td>3.000000</td>\n",
       "    </tr>\n",
       "    <tr>\n",
       "      <th>75%</th>\n",
       "      <td>43.000000</td>\n",
       "      <td>1157.000000</td>\n",
       "      <td>14.000000</td>\n",
       "      <td>4.000000</td>\n",
       "      <td>1.0</td>\n",
       "      <td>1555.750000</td>\n",
       "      <td>4.000000</td>\n",
       "      <td>83.750000</td>\n",
       "      <td>3.000000</td>\n",
       "      <td>3.000000</td>\n",
       "      <td>...</td>\n",
       "      <td>4.000000</td>\n",
       "      <td>80.0</td>\n",
       "      <td>1.000000</td>\n",
       "      <td>15.000000</td>\n",
       "      <td>3.000000</td>\n",
       "      <td>3.000000</td>\n",
       "      <td>9.000000</td>\n",
       "      <td>7.000000</td>\n",
       "      <td>3.000000</td>\n",
       "      <td>7.000000</td>\n",
       "    </tr>\n",
       "    <tr>\n",
       "      <th>max</th>\n",
       "      <td>60.000000</td>\n",
       "      <td>1499.000000</td>\n",
       "      <td>29.000000</td>\n",
       "      <td>5.000000</td>\n",
       "      <td>1.0</td>\n",
       "      <td>2068.000000</td>\n",
       "      <td>4.000000</td>\n",
       "      <td>100.000000</td>\n",
       "      <td>4.000000</td>\n",
       "      <td>5.000000</td>\n",
       "      <td>...</td>\n",
       "      <td>4.000000</td>\n",
       "      <td>80.0</td>\n",
       "      <td>3.000000</td>\n",
       "      <td>40.000000</td>\n",
       "      <td>6.000000</td>\n",
       "      <td>4.000000</td>\n",
       "      <td>40.000000</td>\n",
       "      <td>18.000000</td>\n",
       "      <td>15.000000</td>\n",
       "      <td>17.000000</td>\n",
       "    </tr>\n",
       "  </tbody>\n",
       "</table>\n",
       "<p>8 rows × 26 columns</p>\n",
       "</div>"
      ],
      "text/plain": [
       "               Age    DailyRate  DistanceFromHome    Education  EmployeeCount   \n",
       "count  1470.000000  1470.000000       1470.000000  1470.000000         1470.0  \\\n",
       "mean     36.923810   802.485714          9.192517     2.912925            1.0   \n",
       "std       9.135373   403.509100          8.106864     1.024165            0.0   \n",
       "min      18.000000   102.000000          1.000000     1.000000            1.0   \n",
       "25%      30.000000   465.000000          2.000000     2.000000            1.0   \n",
       "50%      36.000000   802.000000          7.000000     3.000000            1.0   \n",
       "75%      43.000000  1157.000000         14.000000     4.000000            1.0   \n",
       "max      60.000000  1499.000000         29.000000     5.000000            1.0   \n",
       "\n",
       "       EmployeeNumber  EnvironmentSatisfaction   HourlyRate  JobInvolvement   \n",
       "count     1470.000000              1470.000000  1470.000000     1470.000000  \\\n",
       "mean      1024.865306                 2.721769    65.891156        2.729932   \n",
       "std        602.024335                 1.093082    20.329428        0.711561   \n",
       "min          1.000000                 1.000000    30.000000        1.000000   \n",
       "25%        491.250000                 2.000000    48.000000        2.000000   \n",
       "50%       1020.500000                 3.000000    66.000000        3.000000   \n",
       "75%       1555.750000                 4.000000    83.750000        3.000000   \n",
       "max       2068.000000                 4.000000   100.000000        4.000000   \n",
       "\n",
       "          JobLevel  ...  RelationshipSatisfaction  StandardHours   \n",
       "count  1470.000000  ...               1470.000000         1470.0  \\\n",
       "mean      2.063946  ...                  2.712245           80.0   \n",
       "std       1.106940  ...                  1.081209            0.0   \n",
       "min       1.000000  ...                  1.000000           80.0   \n",
       "25%       1.000000  ...                  2.000000           80.0   \n",
       "50%       2.000000  ...                  3.000000           80.0   \n",
       "75%       3.000000  ...                  4.000000           80.0   \n",
       "max       5.000000  ...                  4.000000           80.0   \n",
       "\n",
       "       StockOptionLevel  TotalWorkingYears  TrainingTimesLastYear   \n",
       "count       1470.000000        1470.000000            1470.000000  \\\n",
       "mean           0.793878          11.279592               2.799320   \n",
       "std            0.852077           7.780782               1.289271   \n",
       "min            0.000000           0.000000               0.000000   \n",
       "25%            0.000000           6.000000               2.000000   \n",
       "50%            1.000000          10.000000               3.000000   \n",
       "75%            1.000000          15.000000               3.000000   \n",
       "max            3.000000          40.000000               6.000000   \n",
       "\n",
       "       WorkLifeBalance  YearsAtCompany  YearsInCurrentRole   \n",
       "count      1470.000000     1470.000000         1470.000000  \\\n",
       "mean          2.761224        7.008163            4.229252   \n",
       "std           0.706476        6.126525            3.623137   \n",
       "min           1.000000        0.000000            0.000000   \n",
       "25%           2.000000        3.000000            2.000000   \n",
       "50%           3.000000        5.000000            3.000000   \n",
       "75%           3.000000        9.000000            7.000000   \n",
       "max           4.000000       40.000000           18.000000   \n",
       "\n",
       "       YearsSinceLastPromotion  YearsWithCurrManager  \n",
       "count              1470.000000           1470.000000  \n",
       "mean                  2.187755              4.123129  \n",
       "std                   3.222430              3.568136  \n",
       "min                   0.000000              0.000000  \n",
       "25%                   0.000000              2.000000  \n",
       "50%                   1.000000              3.000000  \n",
       "75%                   3.000000              7.000000  \n",
       "max                  15.000000             17.000000  \n",
       "\n",
       "[8 rows x 26 columns]"
      ]
     },
     "execution_count": 5,
     "metadata": {},
     "output_type": "execute_result"
    }
   ],
   "source": [
    "data.describe()"
   ]
  },
  {
   "cell_type": "code",
   "execution_count": 6,
   "metadata": {},
   "outputs": [
    {
     "data": {
      "text/html": [
       "<div>\n",
       "<style scoped>\n",
       "    .dataframe tbody tr th:only-of-type {\n",
       "        vertical-align: middle;\n",
       "    }\n",
       "\n",
       "    .dataframe tbody tr th {\n",
       "        vertical-align: top;\n",
       "    }\n",
       "\n",
       "    .dataframe thead th {\n",
       "        text-align: right;\n",
       "    }\n",
       "</style>\n",
       "<table border=\"1\" class=\"dataframe\">\n",
       "  <thead>\n",
       "    <tr style=\"text-align: right;\">\n",
       "      <th></th>\n",
       "      <th>Staying?</th>\n",
       "      <th>BusinessTravel</th>\n",
       "      <th>Department</th>\n",
       "      <th>EducationField</th>\n",
       "      <th>Gender</th>\n",
       "      <th>JobRole</th>\n",
       "      <th>MaritalStatus</th>\n",
       "      <th>Over18</th>\n",
       "      <th>OverTime</th>\n",
       "    </tr>\n",
       "  </thead>\n",
       "  <tbody>\n",
       "    <tr>\n",
       "      <th>count</th>\n",
       "      <td>1470</td>\n",
       "      <td>1470</td>\n",
       "      <td>1470</td>\n",
       "      <td>1470</td>\n",
       "      <td>1470</td>\n",
       "      <td>1470</td>\n",
       "      <td>1470</td>\n",
       "      <td>1470</td>\n",
       "      <td>1470</td>\n",
       "    </tr>\n",
       "    <tr>\n",
       "      <th>unique</th>\n",
       "      <td>2</td>\n",
       "      <td>3</td>\n",
       "      <td>3</td>\n",
       "      <td>6</td>\n",
       "      <td>2</td>\n",
       "      <td>9</td>\n",
       "      <td>3</td>\n",
       "      <td>1</td>\n",
       "      <td>2</td>\n",
       "    </tr>\n",
       "    <tr>\n",
       "      <th>top</th>\n",
       "      <td>No</td>\n",
       "      <td>Travel_Rarely</td>\n",
       "      <td>Research &amp; Development</td>\n",
       "      <td>Life Sciences</td>\n",
       "      <td>Male</td>\n",
       "      <td>Sales Executive</td>\n",
       "      <td>Married</td>\n",
       "      <td>Y</td>\n",
       "      <td>No</td>\n",
       "    </tr>\n",
       "    <tr>\n",
       "      <th>freq</th>\n",
       "      <td>1233</td>\n",
       "      <td>1043</td>\n",
       "      <td>961</td>\n",
       "      <td>606</td>\n",
       "      <td>882</td>\n",
       "      <td>326</td>\n",
       "      <td>673</td>\n",
       "      <td>1470</td>\n",
       "      <td>1054</td>\n",
       "    </tr>\n",
       "  </tbody>\n",
       "</table>\n",
       "</div>"
      ],
      "text/plain": [
       "       Staying? BusinessTravel              Department EducationField Gender   \n",
       "count      1470           1470                    1470           1470   1470  \\\n",
       "unique        2              3                       3              6      2   \n",
       "top          No  Travel_Rarely  Research & Development  Life Sciences   Male   \n",
       "freq       1233           1043                     961            606    882   \n",
       "\n",
       "                JobRole MaritalStatus Over18 OverTime  \n",
       "count              1470          1470   1470     1470  \n",
       "unique                9             3      1        2  \n",
       "top     Sales Executive       Married      Y       No  \n",
       "freq                326           673   1470     1054  "
      ]
     },
     "execution_count": 6,
     "metadata": {},
     "output_type": "execute_result"
    }
   ],
   "source": [
    "data.describe(exclude=\"number\")"
   ]
  },
  {
   "cell_type": "code",
   "execution_count": 7,
   "metadata": {},
   "outputs": [
    {
     "name": "stdout",
     "output_type": "stream",
     "text": [
      "<class 'pandas.core.frame.DataFrame'>\n",
      "RangeIndex: 1470 entries, 0 to 1469\n",
      "Data columns (total 35 columns):\n",
      " #   Column                    Non-Null Count  Dtype \n",
      "---  ------                    --------------  ----- \n",
      " 0   Age                       1470 non-null   int64 \n",
      " 1   Staying?                  1470 non-null   object\n",
      " 2   BusinessTravel            1470 non-null   object\n",
      " 3   DailyRate                 1470 non-null   int64 \n",
      " 4   Department                1470 non-null   object\n",
      " 5   DistanceFromHome          1470 non-null   int64 \n",
      " 6   Education                 1470 non-null   int64 \n",
      " 7   EducationField            1470 non-null   object\n",
      " 8   EmployeeCount             1470 non-null   int64 \n",
      " 9   EmployeeNumber            1470 non-null   int64 \n",
      " 10  EnvironmentSatisfaction   1470 non-null   int64 \n",
      " 11  Gender                    1470 non-null   object\n",
      " 12  HourlyRate                1470 non-null   int64 \n",
      " 13  JobInvolvement            1470 non-null   int64 \n",
      " 14  JobLevel                  1470 non-null   int64 \n",
      " 15  JobRole                   1470 non-null   object\n",
      " 16  JobSatisfaction           1470 non-null   int64 \n",
      " 17  MaritalStatus             1470 non-null   object\n",
      " 18  MonthlyIncome             1470 non-null   int64 \n",
      " 19  MonthlyRate               1470 non-null   int64 \n",
      " 20  NumCompaniesWorked        1470 non-null   int64 \n",
      " 21  Over18                    1470 non-null   object\n",
      " 22  OverTime                  1470 non-null   object\n",
      " 23  PercentSalaryHike         1470 non-null   int64 \n",
      " 24  PerformanceRating         1470 non-null   int64 \n",
      " 25  RelationshipSatisfaction  1470 non-null   int64 \n",
      " 26  StandardHours             1470 non-null   int64 \n",
      " 27  StockOptionLevel          1470 non-null   int64 \n",
      " 28  TotalWorkingYears         1470 non-null   int64 \n",
      " 29  TrainingTimesLastYear     1470 non-null   int64 \n",
      " 30  WorkLifeBalance           1470 non-null   int64 \n",
      " 31  YearsAtCompany            1470 non-null   int64 \n",
      " 32  YearsInCurrentRole        1470 non-null   int64 \n",
      " 33  YearsSinceLastPromotion   1470 non-null   int64 \n",
      " 34  YearsWithCurrManager      1470 non-null   int64 \n",
      "dtypes: int64(26), object(9)\n",
      "memory usage: 402.1+ KB\n"
     ]
    }
   ],
   "source": [
    "data.info()"
   ]
  },
  {
   "attachments": {},
   "cell_type": "markdown",
   "metadata": {},
   "source": [
    "bagging reduces variance\n",
    "\n",
    "boosting decreases bias\n",
    "\n",
    "alpha: l2. bigger = underfit. when you have a lot of features\n",
    "\n",
    "lambda: l1. bigger = underfit\n",
    "\n",
    "## overfitting\n",
    "\n",
    "1st. model complexity\n",
    "\n",
    "* max_depth\n",
    "* min_child_weight\n",
    "* gamma (min_split_loss)\n",
    "\n",
    "2nd. randomness, to make training robust to noise\n",
    "\n",
    "* subsample\n",
    "* colsample_bytree\n",
    "\n",
    "## imbalance\n",
    "\n",
    "overall performance\n",
    "\n",
    "* scale_pos_weight\n",
    "* use auc for evaluation\n",
    "\n",
    "correct probability\n",
    "\n",
    "* when you can't rebalance\n",
    "* max_delta_step to finite number"
   ]
  },
  {
   "cell_type": "code",
   "execution_count": 8,
   "metadata": {},
   "outputs": [],
   "source": [
    "optuna.logging.set_verbosity(optuna.logging.WARNING)\n",
    "# study = optuna.create_study(\n",
    "#     # storage=\"sqlite:///employee_data.db\",\n",
    "#     direction=\"maximize\",\n",
    "#     study_name=\"employee_data\",\n",
    "#     load_if_exists=True,\n",
    "#     pruner=optuna.pruners.HyperbandPruner(),\n",
    "#     sampler=optuna.samplers.TPESampler(),\n",
    "# )\n",
    "study_max = optuna.create_study(\n",
    "    # storage=\"sqlite:///employee_data.db\",\n",
    "    direction=\"maximize\",\n",
    "    study_name=\"employee_data\",\n",
    "    load_if_exists=True,\n",
    "    pruner=optuna.pruners.MedianPruner(),\n",
    "    sampler=optuna.samplers.RandomSampler(),\n",
    ")\n",
    "\n",
    "study_min = optuna.create_study(\n",
    "    # storage=\"sqlite:///employee_data.db\",\n",
    "    direction=\"minimize\",\n",
    "    study_name=\"employee_data\",\n",
    "    load_if_exists=True,\n",
    "    pruner=optuna.pruners.MedianPruner(),\n",
    "    sampler=optuna.samplers.RandomSampler(),\n",
    ")"
   ]
  },
  {
   "cell_type": "code",
   "execution_count": 9,
   "metadata": {},
   "outputs": [],
   "source": [
    "\n",
    "\n",
    "def objective_auc(trial):\n",
    "    data = pd.read_csv(\"data/employee_data.csv\")\n",
    "\n",
    "    X, y = data.drop([\"Staying?\", \"EmployeeNumber\", \"EmployeeCount\", \"StandardHours\", \"HourlyRate\", \"MonthlyIncome\", \"MonthlyRate\"], axis=1), data[\"Staying?\"]\n",
    "\n",
    "    categorical_cols = X.select_dtypes(include=\"object\").columns.tolist()\n",
    "\n",
    "    # same as factors in R\n",
    "    for col in categorical_cols:\n",
    "        X[col] = X[col].astype(\"category\")\n",
    "\n",
    "\n",
    "    y.replace(\"Yes\", 1, inplace=True)\n",
    "    y.replace(\"No\", 0, inplace=True)\n",
    "    y.astype(int)\n",
    "\n",
    "    X_train, X_test, y_train, y_test = train_test_split(X, y, test_size=.3)\n",
    "\n",
    "    d_train = xgb.DMatrix(X_train, y_train, enable_categorical=True)\n",
    "    d_test = xgb.DMatrix(X_test, y_test, enable_categorical=True)\n",
    "\n",
    "    test_metric = \"auc\"\n",
    "    \n",
    "    param = {\n",
    "        \"objective\": \"binary:logistic\",\n",
    "        \"tree_method\": \"hist\",\n",
    "        \"eval_metric\": f\"{test_metric}\",\n",
    "        \"scale_pos_weight\": trial.suggest_float(\"scale_pos_weight\", 1e-8, 10.0),\n",
    "        # \"max_delta_step\": trial.suggest_int(\"max_delta_step\", 1, 10),\n",
    "        \"booster\": trial.suggest_categorical(\"booster\", [\"gbtree\",\"dart\"]),\n",
    "        \"lambda\": trial.suggest_float(\"lambda\", 1e-8, 10.0),\n",
    "        \"alpha\": trial.suggest_float(\"alpha\", 1e-8, 10.0),\n",
    "        \"subsample\": trial.suggest_float(\"subsample\", 0.1, 1.0),\n",
    "        \"colsample_bytree\": trial.suggest_float(\"colsample_bytree\", 1e-8, 1.0),\n",
    "        \"colsample_bylevel\": trial.suggest_float(\"colsample_bylevel\", 1e-8, 1.0), #CRASHES WITH GPU_HIST\n",
    "        \"colsample_bynode\": trial.suggest_float(\"colsample_bynode\", 1e-8, 1.0), #CRASHES WITH GPU_HIST\n",
    "        \"sampling_method\": \"uniform\",  # uniform, gradient_based\n",
    "        \"min_child_weight\": trial.suggest_int(\"min_child_weight\", 1, 10),\n",
    "        \"max_bin\": trial.suggest_int(\"max_bin\", 10, 1000),\n",
    "        \"num_parallel_tree\": trial.suggest_int(\"num_parallel_tree\", 1, 100),\n",
    "        \"num_boost_round\": trial.suggest_int(\"num_boost_round\", 100, 1000),\n",
    "    }\n",
    "\n",
    "    if param[\"booster\"] == \"gbtree\" or param[\"booster\"] == \"dart\":\n",
    "        param[\"max_depth\"] = trial.suggest_int(\"max_depth\", 3, 8)\n",
    "        param[\"eta\"] = trial.suggest_float(\"eta\", 1e-8, 2)\n",
    "        param[\"gamma\"] = trial.suggest_float(\"gamma\", 1e-8, 100.0)\n",
    "        param[\"grow_policy\"] = trial.suggest_categorical(\"grow_policy\", [\"depthwise\",\"lossguide\"])\n",
    "        if param[\"grow_policy\"] == \"lossguide\":\n",
    "            param[\"max_leaves\"] = trial.suggest_int(\"max_leaves\", 1, 20)\n",
    "\n",
    "    if param[\"booster\"] == \"dart\":\n",
    "        param[\"sample_type\"] = trial.suggest_categorical(\"sample_type\", [\"uniform\",\"weighted\"])\n",
    "        param[\"normalize_type\"] = trial.suggest_categorical(\"normalize_type\", [\"tree\",\"forest\"])\n",
    "        param[\"rate_drop\"] = trial.suggest_float(\"rate_drop\", 1e-8, 1.0)\n",
    "        param[\"skip_drop\"] = trial.suggest_float(\"skip_drop\", 1e-8, 1.0)\n",
    "        param[\"one_drop\"] = trial.suggest_categorical(\"one_drop\", [True,False])\n",
    "        \n",
    "    pruning_callback = optuna.integration.XGBoostPruningCallback(trial, f\"test-{test_metric}\")\n",
    "    clf = xgb.train(param, \n",
    "                    d_train, \n",
    "                    evals=[(d_test, \"test\")], \n",
    "                    callbacks=[pruning_callback],\n",
    "                    early_stopping_rounds=10,\n",
    "                    verbose_eval=0\n",
    "                )\n",
    "    y_pred = clf.predict(d_test)\n",
    "    labels = np.rint(y_pred)\n",
    "    auc = roc_auc_score(y_test, labels)\n",
    "    acc = accuracy_score(y_test, labels)\n",
    "    \n",
    "    return auc\n",
    "\n",
    "\n",
    "study_max.optimize(objective_auc, n_trials=1000, n_jobs=-1)"
   ]
  },
  {
   "cell_type": "code",
   "execution_count": 10,
   "metadata": {},
   "outputs": [
    {
     "data": {
      "text/plain": [
       "0.8106568364611261"
      ]
     },
     "execution_count": 10,
     "metadata": {},
     "output_type": "execute_result"
    }
   ],
   "source": [
    "study_max.best_value"
   ]
  },
  {
   "cell_type": "code",
   "execution_count": 11,
   "metadata": {},
   "outputs": [
    {
     "data": {
      "text/plain": [
       "FrozenTrial(number=550, state=1, values=[0.8106568364611261], datetime_start=datetime.datetime(2023, 5, 29, 23, 26, 47, 663486), datetime_complete=datetime.datetime(2023, 5, 29, 23, 26, 49, 859942), params={'scale_pos_weight': 4.35990649757306, 'booster': 'dart', 'lambda': 1.2024475199373714, 'alpha': 5.120988128689648, 'subsample': 0.9920986223684604, 'colsample_bytree': 0.46771388214902837, 'colsample_bylevel': 0.21828521572361279, 'colsample_bynode': 0.2347427433251597, 'min_child_weight': 3, 'max_bin': 778, 'num_parallel_tree': 86, 'num_boost_round': 699, 'max_depth': 3, 'eta': 1.919342616121968, 'gamma': 0.4784987632103332, 'grow_policy': 'depthwise', 'sample_type': 'uniform', 'normalize_type': 'forest', 'rate_drop': 0.5825632256548552, 'skip_drop': 0.9013912160619871, 'one_drop': False}, user_attrs={}, system_attrs={}, intermediate_values={0: 0.8426510014193345, 1: 0.8559769752404983, 2: 0.8515612679388109, 3: 0.8589339220943069, 4: 0.8580665510171898, 5: 0.8633102034379435, 6: 0.8665431319981075, 7: 0.8649660936760764, 8: 0.8679230405298849, 9: 0.8681990222362403}, distributions={'scale_pos_weight': FloatDistribution(high=10.0, log=False, low=1e-08, step=None), 'booster': CategoricalDistribution(choices=('gbtree', 'dart')), 'lambda': FloatDistribution(high=10.0, log=False, low=1e-08, step=None), 'alpha': FloatDistribution(high=10.0, log=False, low=1e-08, step=None), 'subsample': FloatDistribution(high=1.0, log=False, low=0.1, step=None), 'colsample_bytree': FloatDistribution(high=1.0, log=False, low=1e-08, step=None), 'colsample_bylevel': FloatDistribution(high=1.0, log=False, low=1e-08, step=None), 'colsample_bynode': FloatDistribution(high=1.0, log=False, low=1e-08, step=None), 'min_child_weight': IntDistribution(high=10, log=False, low=1, step=1), 'max_bin': IntDistribution(high=1000, log=False, low=10, step=1), 'num_parallel_tree': IntDistribution(high=100, log=False, low=1, step=1), 'num_boost_round': IntDistribution(high=1000, log=False, low=100, step=1), 'max_depth': IntDistribution(high=8, log=False, low=3, step=1), 'eta': FloatDistribution(high=2.0, log=False, low=1e-08, step=None), 'gamma': FloatDistribution(high=100.0, log=False, low=1e-08, step=None), 'grow_policy': CategoricalDistribution(choices=('depthwise', 'lossguide')), 'sample_type': CategoricalDistribution(choices=('uniform', 'weighted')), 'normalize_type': CategoricalDistribution(choices=('tree', 'forest')), 'rate_drop': FloatDistribution(high=1.0, log=False, low=1e-08, step=None), 'skip_drop': FloatDistribution(high=1.0, log=False, low=1e-08, step=None), 'one_drop': CategoricalDistribution(choices=(True, False))}, trial_id=550, value=None)"
      ]
     },
     "execution_count": 11,
     "metadata": {},
     "output_type": "execute_result"
    }
   ],
   "source": [
    "study_max.best_trial"
   ]
  },
  {
   "cell_type": "code",
   "execution_count": 12,
   "metadata": {},
   "outputs": [],
   "source": [
    "final_params = study_max.best_trial.params\n",
    "final_params[\"tree_method\"] = \"hist\""
   ]
  },
  {
   "cell_type": "code",
   "execution_count": 13,
   "metadata": {},
   "outputs": [
    {
     "data": {
      "text/plain": [
       "{'scale_pos_weight': 4.35990649757306,\n",
       " 'booster': 'dart',\n",
       " 'lambda': 1.2024475199373714,\n",
       " 'alpha': 5.120988128689648,\n",
       " 'subsample': 0.9920986223684604,\n",
       " 'colsample_bytree': 0.46771388214902837,\n",
       " 'colsample_bylevel': 0.21828521572361279,\n",
       " 'colsample_bynode': 0.2347427433251597,\n",
       " 'min_child_weight': 3,\n",
       " 'max_bin': 778,\n",
       " 'num_parallel_tree': 86,\n",
       " 'num_boost_round': 699,\n",
       " 'max_depth': 3,\n",
       " 'eta': 1.919342616121968,\n",
       " 'gamma': 0.4784987632103332,\n",
       " 'grow_policy': 'depthwise',\n",
       " 'sample_type': 'uniform',\n",
       " 'normalize_type': 'forest',\n",
       " 'rate_drop': 0.5825632256548552,\n",
       " 'skip_drop': 0.9013912160619871,\n",
       " 'one_drop': False,\n",
       " 'tree_method': 'hist'}"
      ]
     },
     "execution_count": 13,
     "metadata": {},
     "output_type": "execute_result"
    }
   ],
   "source": [
    "final_params"
   ]
  },
  {
   "cell_type": "code",
   "execution_count": 14,
   "metadata": {},
   "outputs": [
    {
     "name": "stdout",
     "output_type": "stream",
     "text": [
      "Counter({0: 1233, 1: 237})\n",
      "0.1922141119221411\n"
     ]
    }
   ],
   "source": [
    "X2, y2 = data.drop([\"Staying?\", \"EmployeeNumber\", \"EmployeeCount\", \"StandardHours\", \"HourlyRate\", \"MonthlyIncome\", \"MonthlyRate\"], axis=1), data[\"Staying?\"]\n",
    "\n",
    "# categorical_cols = X.select_dtypes(include=\"object\").columns.tolist()\n",
    "\n",
    "# same as factors in R\n",
    "# for col in categorical_cols:\n",
    "#     X[col] = X[col].astype(\"category\")\n",
    "for f in X2.columns:\n",
    "    if X2[f].dtype=='object':\n",
    "        lbl = LabelEncoder()\n",
    "        lbl.fit(list(X2[f].values))\n",
    "        X2[f] = lbl.transform(list(X2[f].values))\n",
    "\n",
    "y2.replace(\"Yes\", 1, inplace=True)\n",
    "y2.replace(\"No\", 0, inplace=True)\n",
    "y2.astype(int)\n",
    "\n",
    "X_train2, X_test2, y_train2, y_test2 = train_test_split(X2, y2, test_size=.3)\n",
    "\n",
    "print(Counter(y2))\n",
    "print(Counter(y2)[1] / Counter(y2)[0])"
   ]
  },
  {
   "cell_type": "code",
   "execution_count": 15,
   "metadata": {},
   "outputs": [
    {
     "name": "stdout",
     "output_type": "stream",
     "text": [
      "[23:27:06] WARNING: C:\\buildkite-agent\\builds\\buildkite-windows-cpu-autoscaling-group-i-07593ffd91cd9da33-1\\xgboost\\xgboost-ci-windows\\src\\learner.cc:767: \n",
      "Parameters: { \"num_boost_round\" } are not used.\n",
      "\n",
      "[0]\ttest-rmse:0.40593\n",
      "[9]\ttest-rmse:0.36221\n",
      "auc: 0.812180066245107\n",
      "mse: 0.08533277717087154\n",
      "rmse: 0.29211774538851887\n",
      "              precision    recall  f1-score   support\n",
      "\n",
      "           0       0.92      0.88      0.90       369\n",
      "           1       0.51      0.61      0.55        72\n",
      "\n",
      "    accuracy                           0.84       441\n",
      "   macro avg       0.71      0.75      0.73       441\n",
      "weighted avg       0.85      0.84      0.84       441\n",
      "\n"
     ]
    },
    {
     "data": {
      "text/plain": [
       "<Axes: title={'center': 'Feature importance'}, xlabel='F score', ylabel='Features'>"
      ]
     },
     "execution_count": 15,
     "metadata": {},
     "output_type": "execute_result"
    },
    {
     "data": {
      "image/png": "[encoded data removed]",
      "text/plain": [
       "<Figure size 640x480 with 1 Axes>"
      ]
     },
     "metadata": {},
     "output_type": "display_data"
    }
   ],
   "source": [
    "d_train = xgb.DMatrix(X_train2, y_train2, enable_categorical=True)\n",
    "d_test = xgb.DMatrix(X_test2, y_test2, enable_categorical=True)\n",
    "# final_params = {\"eval_metric\": \"error\"}\n",
    "\n",
    "clf = xgb.train(final_params, d_train, evals=[(d_test, \"test\")], early_stopping_rounds=10, verbose_eval=10)\n",
    "y_pred = clf.predict(d_test)\n",
    "labels = np.rint(y_pred)\n",
    "print(\"auc:\", roc_auc_score(y_test2, y_pred))\n",
    "print(\"mse:\", MSE(y_test2, y_pred) ** 2)\n",
    "print(\"rmse:\", MSE(y_test2, y_pred))\n",
    "print(classification_report(y_test2, y_pred.round(), zero_division=0))\n",
    "xgb.plot_importance(clf)\n"
   ]
  },
  {
   "cell_type": "code",
   "execution_count": 16,
   "metadata": {},
   "outputs": [
    {
     "data": {
      "text/plain": [
       "<xgboost.core.Booster at 0x24888763910>"
      ]
     },
     "execution_count": 16,
     "metadata": {},
     "output_type": "execute_result"
    }
   ],
   "source": [
    "clf"
   ]
  },
  {
   "cell_type": "code",
   "execution_count": 17,
   "metadata": {},
   "outputs": [
    {
     "data": {
      "text/plain": [
       "7"
      ]
     },
     "execution_count": 17,
     "metadata": {},
     "output_type": "execute_result"
    }
   ],
   "source": [
    "clf.best_iteration"
   ]
  },
  {
   "cell_type": "code",
   "execution_count": 18,
   "metadata": {},
   "outputs": [
    {
     "data": {
      "image/png": "[encoded data removed]",
      "text/plain": [
       "<Figure size 15000x10000 with 1 Axes>"
      ]
     },
     "metadata": {},
     "output_type": "display_data"
    }
   ],
   "source": [
    "xgb.plot_tree(clf)\n",
    "fig = plt.gcf()\n",
    "fig.set_size_inches(150, 100)\n",
    "fig.savefig('tree.png')"
   ]
  },
  {
   "cell_type": "code",
   "execution_count": 19,
   "metadata": {},
   "outputs": [
    {
     "data": {
      "application/vnd.plotly.v1+json": {
       "config": {
        "plotlyServerURL": "https://plot.ly"
       },
       "data": [
        {
         "mode": "markers",
         "name": "Objective Value",
         "type": "scatter",
         "x": [
          0,
          1,
          2,
          3,
          4,
          5,
          6,
          7,
          8,
          9,
          10,
          11,
          12,
          13,
          14,
          15,
          16,
          17,
          19,
          21,
          23,
          24,
          27,
          28,
          29,
          35,
          38,
          40,
          43,
          47,
          53,
          56,
          57,
          61,
          63,
          66,
          68,
          72,
          75,
          79,
          82,
          84,
          96,
          110,
          138,
          148,
          153,
          156,
          165,
          166,
          172,
          183,
          200,
          208,
          210,
          221,
          224,
          230,
          233,
          234,
          242,
          243,
          249,
          262,
          313,
          319,
          327,
          329,
          335,
          339,
          342,
          348,
          355,
          376,
          392,
          403,
          437,
          443,
          467,
          481,
          505,
          518,
          529,
          546,
          550,
          551,
          566,
          589,
          597,
          612,
          624,
          641,
          658,
          711,
          792,
          837,
          891,
          920,
          924,
          937,
          938,
          959,
          971,
          975,
          985
         ],
         "y": [
          0.6875956284153006,
          0.5923030303030303,
          0.6031746031746031,
          0.5,
          0.5,
          0.5,
          0.5,
          0.5,
          0.5274996057404195,
          0.5,
          0.7238845144356956,
          0.5922173158807759,
          0.5307486631016043,
          0.5,
          0.5,
          0.5,
          0.5932614555256064,
          0.5,
          0.5,
          0.6973997787045705,
          0.5,
          0.5,
          0.7601162481142959,
          0.6951776976564512,
          0.7452538713519954,
          0.5149253731343284,
          0.6997879787305648,
          0.6805555555555556,
          0.6959697217675942,
          0.6282051282051282,
          0.6290317250495704,
          0.7228993298475588,
          0.5448369565217391,
          0.7637799771602588,
          0.6861185983827494,
          0.6922886467993157,
          0.7245671745152354,
          0.6655681567125709,
          0.7084574151280525,
          0.6699872114154943,
          0.6099254742547425,
          0.5,
          0.611449864498645,
          0.7616441709210434,
          0.7392896174863388,
          0.7181094182825485,
          0.6735221858248959,
          0.6327369623144271,
          0.7492790194664745,
          0.7100864890135578,
          0.5,
          0.7859078590785907,
          0.6807098765432098,
          0.5655191059841385,
          0.5254237288135594,
          0.7257325687110987,
          0.6814750718020472,
          0.7365650969529087,
          0.7448407202216066,
          0.5,
          0.7330491201847951,
          0.5835151515151515,
          0.5,
          0.5,
          0.7380952380952381,
          0.7315638906547998,
          0.7538580246913581,
          0.6400854815911692,
          0.7446516939474686,
          0.7506428237494156,
          0.7918831168831169,
          0.7326423576423577,
          0.7216243862520458,
          0.7745032329285602,
          0.5801015394693744,
          0.7956372840976772,
          0.5,
          0.7530972417017299,
          0.6649062725306417,
          0.7172179872718372,
          0.7329697736748064,
          0.7376284814323608,
          0.7266775777414075,
          0.6473235156615241,
          0.8106568364611261,
          0.5,
          0.7103174603174602,
          0.7069393912503328,
          0.7197178379988088,
          0.6778455284552845,
          0.7602553603335318,
          0.5629370629370629,
          0.7320593735390368,
          0.7908110440034513,
          0.7233333333333333,
          0.5457575757575758,
          0.772977022977023,
          0.7775054073540015,
          0.71195420886884,
          0.7354733090185677,
          0.5121951219512195,
          0.5,
          0.6684751261715933,
          0.5338599162542824,
          0.5382234663302319
         ]
        },
        {
         "name": "Best Value",
         "type": "scatter",
         "x": [
          0,
          1,
          2,
          3,
          4,
          5,
          6,
          7,
          8,
          9,
          10,
          11,
          12,
          13,
          14,
          15,
          16,
          17,
          19,
          21,
          23,
          24,
          27,
          28,
          29,
          35,
          38,
          40,
          43,
          47,
          53,
          56,
          57,
          61,
          63,
          66,
          68,
          72,
          75,
          79,
          82,
          84,
          96,
          110,
          138,
          148,
          153,
          156,
          165,
          166,
          172,
          183,
          200,
          208,
          210,
          221,
          224,
          230,
          233,
          234,
          242,
          243,
          249,
          262,
          313,
          319,
          327,
          329,
          335,
          339,
          342,
          348,
          355,
          376,
          392,
          403,
          437,
          443,
          467,
          481,
          505,
          518,
          529,
          546,
          550,
          551,
          566,
          589,
          597,
          612,
          624,
          641,
          658,
          711,
          792,
          837,
          891,
          920,
          924,
          937,
          938,
          959,
          971,
          975,
          985
         ],
         "y": [
          0.6875956284153006,
          0.6875956284153006,
          0.6875956284153006,
          0.6875956284153006,
          0.6875956284153006,
          0.6875956284153006,
          0.6875956284153006,
          0.6875956284153006,
          0.6875956284153006,
          0.6875956284153006,
          0.7238845144356956,
          0.7238845144356956,
          0.7238845144356956,
          0.7238845144356956,
          0.7238845144356956,
          0.7238845144356956,
          0.7238845144356956,
          0.7238845144356956,
          0.7238845144356956,
          0.7238845144356956,
          0.7238845144356956,
          0.7238845144356956,
          0.7601162481142959,
          0.7601162481142959,
          0.7601162481142959,
          0.7601162481142959,
          0.7601162481142959,
          0.7601162481142959,
          0.7601162481142959,
          0.7601162481142959,
          0.7601162481142959,
          0.7601162481142959,
          0.7601162481142959,
          0.7637799771602588,
          0.7637799771602588,
          0.7637799771602588,
          0.7637799771602588,
          0.7637799771602588,
          0.7637799771602588,
          0.7637799771602588,
          0.7637799771602588,
          0.7637799771602588,
          0.7637799771602588,
          0.7637799771602588,
          0.7637799771602588,
          0.7637799771602588,
          0.7637799771602588,
          0.7637799771602588,
          0.7637799771602588,
          0.7637799771602588,
          0.7637799771602588,
          0.7859078590785907,
          0.7859078590785907,
          0.7859078590785907,
          0.7859078590785907,
          0.7859078590785907,
          0.7859078590785907,
          0.7859078590785907,
          0.7859078590785907,
          0.7859078590785907,
          0.7859078590785907,
          0.7859078590785907,
          0.7859078590785907,
          0.7859078590785907,
          0.7859078590785907,
          0.7859078590785907,
          0.7859078590785907,
          0.7859078590785907,
          0.7859078590785907,
          0.7859078590785907,
          0.7918831168831169,
          0.7918831168831169,
          0.7918831168831169,
          0.7918831168831169,
          0.7918831168831169,
          0.7956372840976772,
          0.7956372840976772,
          0.7956372840976772,
          0.7956372840976772,
          0.7956372840976772,
          0.7956372840976772,
          0.7956372840976772,
          0.7956372840976772,
          0.7956372840976772,
          0.8106568364611261,
          0.8106568364611261,
          0.8106568364611261,
          0.8106568364611261,
          0.8106568364611261,
          0.8106568364611261,
          0.8106568364611261,
          0.8106568364611261,
          0.8106568364611261,
          0.8106568364611261,
          0.8106568364611261,
          0.8106568364611261,
          0.8106568364611261,
          0.8106568364611261,
          0.8106568364611261,
          0.8106568364611261,
          0.8106568364611261,
          0.8106568364611261,
          0.8106568364611261,
          0.8106568364611261,
          0.8106568364611261
         ]
        }
       ],
       "layout": {
        "template": {
         "data": {
          "bar": [
           {
            "error_x": {
             "color": "#2a3f5f"
            },
            "error_y": {
             "color": "#2a3f5f"
            },
            "marker": {
             "line": {
              "color": "#E5ECF6",
              "width": 0.5
             },
             "pattern": {
              "fillmode": "overlay",
              "size": 10,
              "solidity": 0.2
             }
            },
            "type": "bar"
           }
          ],
          "barpolar": [
           {
            "marker": {
             "line": {
              "color": "#E5ECF6",
              "width": 0.5
             },
             "pattern": {
              "fillmode": "overlay",
              "size": 10,
              "solidity": 0.2
             }
            },
            "type": "barpolar"
           }
          ],
          "carpet": [
           {
            "aaxis": {
             "endlinecolor": "#2a3f5f",
             "gridcolor": "white",
             "linecolor": "white",
             "minorgridcolor": "white",
             "startlinecolor": "#2a3f5f"
            },
            "baxis": {
             "endlinecolor": "#2a3f5f",
             "gridcolor": "white",
             "linecolor": "white",
             "minorgridcolor": "white",
             "startlinecolor": "#2a3f5f"
            },
            "type": "carpet"
           }
          ],
          "choropleth": [
           {
            "colorbar": {
             "outlinewidth": 0,
             "ticks": ""
            },
            "type": "choropleth"
           }
          ],
          "contour": [
           {
            "colorbar": {
             "outlinewidth": 0,
             "ticks": ""
            },
            "colorscale": [
             [
              0,
              "#0d0887"
             ],
             [
              0.1111111111111111,
              "#46039f"
             ],
             [
              0.2222222222222222,
              "#7201a8"
             ],
             [
              0.3333333333333333,
              "#9c179e"
             ],
             [
              0.4444444444444444,
              "#bd3786"
             ],
             [
              0.5555555555555556,
              "#d8576b"
             ],
             [
              0.6666666666666666,
              "#ed7953"
             ],
             [
              0.7777777777777778,
              "#fb9f3a"
             ],
             [
              0.8888888888888888,
              "#fdca26"
             ],
             [
              1,
              "#f0f921"
             ]
            ],
            "type": "contour"
           }
          ],
          "contourcarpet": [
           {
            "colorbar": {
             "outlinewidth": 0,
             "ticks": ""
            },
            "type": "contourcarpet"
           }
          ],
          "heatmap": [
           {
            "colorbar": {
             "outlinewidth": 0,
             "ticks": ""
            },
            "colorscale": [
             [
              0,
              "#0d0887"
             ],
             [
              0.1111111111111111,
              "#46039f"
             ],
             [
              0.2222222222222222,
              "#7201a8"
             ],
             [
              0.3333333333333333,
              "#9c179e"
             ],
             [
              0.4444444444444444,
              "#bd3786"
             ],
             [
              0.5555555555555556,
              "#d8576b"
             ],
             [
              0.6666666666666666,
              "#ed7953"
             ],
             [
              0.7777777777777778,
              "#fb9f3a"
             ],
             [
              0.8888888888888888,
              "#fdca26"
             ],
             [
              1,
              "#f0f921"
             ]
            ],
            "type": "heatmap"
           }
          ],
          "heatmapgl": [
           {
            "colorbar": {
             "outlinewidth": 0,
             "ticks": ""
            },
            "colorscale": [
             [
              0,
              "#0d0887"
             ],
             [
              0.1111111111111111,
              "#46039f"
             ],
             [
              0.2222222222222222,
              "#7201a8"
             ],
             [
              0.3333333333333333,
              "#9c179e"
             ],
             [
              0.4444444444444444,
              "#bd3786"
             ],
             [
              0.5555555555555556,
              "#d8576b"
             ],
             [
              0.6666666666666666,
              "#ed7953"
             ],
             [
              0.7777777777777778,
              "#fb9f3a"
             ],
             [
              0.8888888888888888,
              "#fdca26"
             ],
             [
              1,
              "#f0f921"
             ]
            ],
            "type": "heatmapgl"
           }
          ],
          "histogram": [
           {
            "marker": {
             "pattern": {
              "fillmode": "overlay",
              "size": 10,
              "solidity": 0.2
             }
            },
            "type": "histogram"
           }
          ],
          "histogram2d": [
           {
            "colorbar": {
             "outlinewidth": 0,
             "ticks": ""
            },
            "colorscale": [
             [
              0,
              "#0d0887"
             ],
             [
              0.1111111111111111,
              "#46039f"
             ],
             [
              0.2222222222222222,
              "#7201a8"
             ],
             [
              0.3333333333333333,
              "#9c179e"
             ],
             [
              0.4444444444444444,
              "#bd3786"
             ],
             [
              0.5555555555555556,
              "#d8576b"
             ],
             [
              0.6666666666666666,
              "#ed7953"
             ],
             [
              0.7777777777777778,
              "#fb9f3a"
             ],
             [
              0.8888888888888888,
              "#fdca26"
             ],
             [
              1,
              "#f0f921"
             ]
            ],
            "type": "histogram2d"
           }
          ],
          "histogram2dcontour": [
           {
            "colorbar": {
             "outlinewidth": 0,
             "ticks": ""
            },
            "colorscale": [
             [
              0,
              "#0d0887"
             ],
             [
              0.1111111111111111,
              "#46039f"
             ],
             [
              0.2222222222222222,
              "#7201a8"
             ],
             [
              0.3333333333333333,
              "#9c179e"
             ],
             [
              0.4444444444444444,
              "#bd3786"
             ],
             [
              0.5555555555555556,
              "#d8576b"
             ],
             [
              0.6666666666666666,
              "#ed7953"
             ],
             [
              0.7777777777777778,
              "#fb9f3a"
             ],
             [
              0.8888888888888888,
              "#fdca26"
             ],
             [
              1,
              "#f0f921"
             ]
            ],
            "type": "histogram2dcontour"
           }
          ],
          "mesh3d": [
           {
            "colorbar": {
             "outlinewidth": 0,
             "ticks": ""
            },
            "type": "mesh3d"
           }
          ],
          "parcoords": [
           {
            "line": {
             "colorbar": {
              "outlinewidth": 0,
              "ticks": ""
             }
            },
            "type": "parcoords"
           }
          ],
          "pie": [
           {
            "automargin": true,
            "type": "pie"
           }
          ],
          "scatter": [
           {
            "fillpattern": {
             "fillmode": "overlay",
             "size": 10,
             "solidity": 0.2
            },
            "type": "scatter"
           }
          ],
          "scatter3d": [
           {
            "line": {
             "colorbar": {
              "outlinewidth": 0,
              "ticks": ""
             }
            },
            "marker": {
             "colorbar": {
              "outlinewidth": 0,
              "ticks": ""
             }
            },
            "type": "scatter3d"
           }
          ],
          "scattercarpet": [
           {
            "marker": {
             "colorbar": {
              "outlinewidth": 0,
              "ticks": ""
             }
            },
            "type": "scattercarpet"
           }
          ],
          "scattergeo": [
           {
            "marker": {
             "colorbar": {
              "outlinewidth": 0,
              "ticks": ""
             }
            },
            "type": "scattergeo"
           }
          ],
          "scattergl": [
           {
            "marker": {
             "colorbar": {
              "outlinewidth": 0,
              "ticks": ""
             }
            },
            "type": "scattergl"
           }
          ],
          "scattermapbox": [
           {
            "marker": {
             "colorbar": {
              "outlinewidth": 0,
              "ticks": ""
             }
            },
            "type": "scattermapbox"
           }
          ],
          "scatterpolar": [
           {
            "marker": {
             "colorbar": {
              "outlinewidth": 0,
              "ticks": ""
             }
            },
            "type": "scatterpolar"
           }
          ],
          "scatterpolargl": [
           {
            "marker": {
             "colorbar": {
              "outlinewidth": 0,
              "ticks": ""
             }
            },
            "type": "scatterpolargl"
           }
          ],
          "scatterternary": [
           {
            "marker": {
             "colorbar": {
              "outlinewidth": 0,
              "ticks": ""
             }
            },
            "type": "scatterternary"
           }
          ],
          "surface": [
           {
            "colorbar": {
             "outlinewidth": 0,
             "ticks": ""
            },
            "colorscale": [
             [
              0,
              "#0d0887"
             ],
             [
              0.1111111111111111,
              "#46039f"
             ],
             [
              0.2222222222222222,
              "#7201a8"
             ],
             [
              0.3333333333333333,
              "#9c179e"
             ],
             [
              0.4444444444444444,
              "#bd3786"
             ],
             [
              0.5555555555555556,
              "#d8576b"
             ],
             [
              0.6666666666666666,
              "#ed7953"
             ],
             [
              0.7777777777777778,
              "#fb9f3a"
             ],
             [
              0.8888888888888888,
              "#fdca26"
             ],
             [
              1,
              "#f0f921"
             ]
            ],
            "type": "surface"
           }
          ],
          "table": [
           {
            "cells": {
             "fill": {
              "color": "#EBF0F8"
             },
             "line": {
              "color": "white"
             }
            },
            "header": {
             "fill": {
              "color": "#C8D4E3"
             },
             "line": {
              "color": "white"
             }
            },
            "type": "table"
           }
          ]
         },
         "layout": {
          "annotationdefaults": {
           "arrowcolor": "#2a3f5f",
           "arrowhead": 0,
           "arrowwidth": 1
          },
          "autotypenumbers": "strict",
          "coloraxis": {
           "colorbar": {
            "outlinewidth": 0,
            "ticks": ""
           }
          },
          "colorscale": {
           "diverging": [
            [
             0,
             "#8e0152"
            ],
            [
             0.1,
             "#c51b7d"
            ],
            [
             0.2,
             "#de77ae"
            ],
            [
             0.3,
             "#f1b6da"
            ],
            [
             0.4,
             "#fde0ef"
            ],
            [
             0.5,
             "#f7f7f7"
            ],
            [
             0.6,
             "#e6f5d0"
            ],
            [
             0.7,
             "#b8e186"
            ],
            [
             0.8,
             "#7fbc41"
            ],
            [
             0.9,
             "#4d9221"
            ],
            [
             1,
             "#276419"
            ]
           ],
           "sequential": [
            [
             0,
             "#0d0887"
            ],
            [
             0.1111111111111111,
             "#46039f"
            ],
            [
             0.2222222222222222,
             "#7201a8"
            ],
            [
             0.3333333333333333,
             "#9c179e"
            ],
            [
             0.4444444444444444,
             "#bd3786"
            ],
            [
             0.5555555555555556,
             "#d8576b"
            ],
            [
             0.6666666666666666,
             "#ed7953"
            ],
            [
             0.7777777777777778,
             "#fb9f3a"
            ],
            [
             0.8888888888888888,
             "#fdca26"
            ],
            [
             1,
             "#f0f921"
            ]
           ],
           "sequentialminus": [
            [
             0,
             "#0d0887"
            ],
            [
             0.1111111111111111,
             "#46039f"
            ],
            [
             0.2222222222222222,
             "#7201a8"
            ],
            [
             0.3333333333333333,
             "#9c179e"
            ],
            [
             0.4444444444444444,
             "#bd3786"
            ],
            [
             0.5555555555555556,
             "#d8576b"
            ],
            [
             0.6666666666666666,
             "#ed7953"
            ],
            [
             0.7777777777777778,
             "#fb9f3a"
            ],
            [
             0.8888888888888888,
             "#fdca26"
            ],
            [
             1,
             "#f0f921"
            ]
           ]
          },
          "colorway": [
           "#636efa",
           "#EF553B",
           "#00cc96",
           "#ab63fa",
           "#FFA15A",
           "#19d3f3",
           "#FF6692",
           "#B6E880",
           "#FF97FF",
           "#FECB52"
          ],
          "font": {
           "color": "#2a3f5f"
          },
          "geo": {
           "bgcolor": "white",
           "lakecolor": "white",
           "landcolor": "#E5ECF6",
           "showlakes": true,
           "showland": true,
           "subunitcolor": "white"
          },
          "hoverlabel": {
           "align": "left"
          },
          "hovermode": "closest",
          "mapbox": {
           "style": "light"
          },
          "paper_bgcolor": "white",
          "plot_bgcolor": "#E5ECF6",
          "polar": {
           "angularaxis": {
            "gridcolor": "white",
            "linecolor": "white",
            "ticks": ""
           },
           "bgcolor": "#E5ECF6",
           "radialaxis": {
            "gridcolor": "white",
            "linecolor": "white",
            "ticks": ""
           }
          },
          "scene": {
           "xaxis": {
            "backgroundcolor": "#E5ECF6",
            "gridcolor": "white",
            "gridwidth": 2,
            "linecolor": "white",
            "showbackground": true,
            "ticks": "",
            "zerolinecolor": "white"
           },
           "yaxis": {
            "backgroundcolor": "#E5ECF6",
            "gridcolor": "white",
            "gridwidth": 2,
            "linecolor": "white",
            "showbackground": true,
            "ticks": "",
            "zerolinecolor": "white"
           },
           "zaxis": {
            "backgroundcolor": "#E5ECF6",
            "gridcolor": "white",
            "gridwidth": 2,
            "linecolor": "white",
            "showbackground": true,
            "ticks": "",
            "zerolinecolor": "white"
           }
          },
          "shapedefaults": {
           "line": {
            "color": "#2a3f5f"
           }
          },
          "ternary": {
           "aaxis": {
            "gridcolor": "white",
            "linecolor": "white",
            "ticks": ""
           },
           "baxis": {
            "gridcolor": "white",
            "linecolor": "white",
            "ticks": ""
           },
           "bgcolor": "#E5ECF6",
           "caxis": {
            "gridcolor": "white",
            "linecolor": "white",
            "ticks": ""
           }
          },
          "title": {
           "x": 0.05
          },
          "xaxis": {
           "automargin": true,
           "gridcolor": "white",
           "linecolor": "white",
           "ticks": "",
           "title": {
            "standoff": 15
           },
           "zerolinecolor": "white",
           "zerolinewidth": 2
          },
          "yaxis": {
           "automargin": true,
           "gridcolor": "white",
           "linecolor": "white",
           "ticks": "",
           "title": {
            "standoff": 15
           },
           "zerolinecolor": "white",
           "zerolinewidth": 2
          }
         }
        },
        "title": {
         "text": "Optimization History Plot"
        },
        "xaxis": {
         "title": {
          "text": "Trial"
         }
        },
        "yaxis": {
         "title": {
          "text": "Objective Value"
         }
        }
       }
      }
     },
     "metadata": {},
     "output_type": "display_data"
    }
   ],
   "source": [
    "optuna.visualization.plot_optimization_history(study_max)"
   ]
  },
  {
   "cell_type": "code",
   "execution_count": 20,
   "metadata": {},
   "outputs": [
    {
     "data": {
      "application/vnd.plotly.v1+json": {
       "config": {
        "plotlyServerURL": "https://plot.ly"
       },
       "data": [
        {
         "dimensions": [
          {
           "label": "Objective Value",
           "range": [
            0.5,
            0.7616441709210434
           ],
           "values": [
            0.5923030303030303,
            0.6031746031746031,
            0.5,
            0.5,
            0.6805555555555556,
            0.7084574151280525,
            0.7616441709210434,
            0.7181094182825485,
            0.7100864890135578,
            0.5655191059841385,
            0.5,
            0.7380952380952381,
            0.5,
            0.5,
            0.5629370629370629,
            0.5121951219512195,
            0.5338599162542824
           ]
          },
          {
           "label": "alpha",
           "range": [
            0.5274637776108194,
            9.575178387888498
           ],
           "values": [
            6.689592729380507,
            2.6703034632385108,
            5.1151140386790726,
            6.320155386376238,
            4.456718391822706,
            4.823704544237101,
            4.266979049054301,
            0.5274637776108194,
            5.662383231077323,
            9.575178387888498,
            6.225504896595331,
            5.824769012143356,
            5.319894442257757,
            3.9637177187315356,
            8.273728247025483,
            8.356894515077734,
            7.3701748054904295
           ]
          },
          {
           "label": "booster",
           "range": [
            0,
            0
           ],
           "ticktext": [
            "dart"
           ],
           "tickvals": [
            0
           ],
           "values": [
            0,
            0,
            0,
            0,
            0,
            0,
            0,
            0,
            0,
            0,
            0,
            0,
            0,
            0,
            0,
            0,
            0
           ]
          },
          {
           "label": "colsample_bylevel",
           "range": [
            0.009983869284685247,
            0.9999056460904633
           ],
           "values": [
            0.8772358222655072,
            0.883552272451488,
            0.019706783299567453,
            0.009983869284685247,
            0.26099748846680815,
            0.3104742242490839,
            0.7733396141062425,
            0.6812945036861268,
            0.3636145656871514,
            0.6285497192556722,
            0.9122660949270623,
            0.34332905144133596,
            0.04899196457250815,
            0.38053349439342476,
            0.8666929240910178,
            0.9999056460904633,
            0.37417676819110457
           ]
          },
          {
           "label": "colsample_bynode",
           "range": [
            0.012387443091697786,
            0.9455717275377437
           ],
           "values": [
            0.7675952216961253,
            0.24555526783746448,
            0.7457318220652503,
            0.525392481462212,
            0.8227325526669554,
            0.24881398933927037,
            0.40309154131194563,
            0.9455717275377437,
            0.6625555161577247,
            0.2489383080727486,
            0.8928771313667853,
            0.5005909842066956,
            0.2990219939320502,
            0.127134011088001,
            0.7237655884579183,
            0.7630225177790795,
            0.012387443091697786
           ]
          },
          {
           "label": "colsample_bytree",
           "range": [
            0.04100297550512729,
            0.9775357952547183
           ],
           "values": [
            0.9126814030765047,
            0.6547517915431728,
            0.5169340229205117,
            0.9773543640071923,
            0.7493266512150107,
            0.04100297550512729,
            0.6202707452152408,
            0.402458410418958,
            0.6450117387222631,
            0.43557498731558575,
            0.8757868177179912,
            0.6412197410033273,
            0.2390437776577141,
            0.2086733266086178,
            0.4297465576959544,
            0.35179457902083333,
            0.9775357952547183
           ]
          },
          {
           "label": "eta",
           "range": [
            0.16787738150262996,
            1.96938477520465
           ],
           "values": [
            0.2220995603889031,
            1.154148826847421,
            1.1828972500356463,
            0.5483306224546278,
            1.3619119473644334,
            1.3533339017118813,
            1.8898748835512709,
            1.2759737487397043,
            1.8902087026671508,
            1.2839315719988138,
            1.946215970651182,
            1.750289071553841,
            0.16787738150262996,
            1.96938477520465,
            1.636483284677354,
            1.3307178270061402,
            1.400860354942532
           ]
          },
          {
           "label": "gamma",
           "range": [
            2.651489294529979,
            71.10903416400303
           ],
           "values": [
            71.10903416400303,
            14.471380175696074,
            12.420775049132855,
            8.651115792751549,
            28.795431529984207,
            32.35815050219212,
            21.147600487312552,
            13.80264702860443,
            18.48095557051112,
            24.541868608235447,
            26.175646387279226,
            9.953923574930425,
            44.31844366868123,
            2.651489294529979,
            36.86551579134245,
            18.577472630089854,
            10.027367223114531
           ]
          },
          {
           "label": "grow_policy",
           "range": [
            0,
            0
           ],
           "ticktext": [
            "lossguide"
           ],
           "tickvals": [
            0
           ],
           "values": [
            0,
            0,
            0,
            0,
            0,
            0,
            0,
            0,
            0,
            0,
            0,
            0,
            0,
            0,
            0,
            0,
            0
           ]
          },
          {
           "label": "lambda",
           "range": [
            0.04894052523712617,
            9.707293750938254
           ],
           "values": [
            5.222240167872422,
            6.167956513968236,
            2.7830578648995665,
            6.879767877665468,
            4.900080095606936,
            6.35929380736712,
            0.04894052523712617,
            1.2948307328311006,
            9.707293750938254,
            2.762919001674363,
            8.57934864976477,
            3.1496106642516373,
            9.054730337521208,
            1.0492984112960693,
            4.246293599664949,
            3.595051211994279,
            5.35862619324759
           ]
          },
          {
           "label": "max_bin",
           "range": [
            168,
            985
           ],
           "values": [
            985,
            879,
            236,
            973,
            819,
            180,
            649,
            913,
            517,
            673,
            168,
            254,
            424,
            719,
            305,
            679,
            592
           ]
          },
          {
           "label": "max_depth",
           "range": [
            3,
            8
           ],
           "values": [
            4,
            8,
            3,
            3,
            8,
            6,
            6,
            6,
            6,
            8,
            6,
            3,
            5,
            8,
            8,
            7,
            6
           ]
          },
          {
           "label": "max_leaves",
           "range": [
            2,
            20
           ],
           "values": [
            17,
            16,
            15,
            10,
            4,
            2,
            20,
            13,
            19,
            12,
            4,
            11,
            12,
            13,
            18,
            11,
            8
           ]
          },
          {
           "label": "min_child_weight",
           "range": [
            2,
            10
           ],
           "values": [
            10,
            8,
            5,
            10,
            9,
            7,
            3,
            7,
            8,
            2,
            5,
            6,
            3,
            2,
            8,
            3,
            5
           ]
          },
          {
           "label": "normalize_type",
           "range": [
            0,
            1
           ],
           "ticktext": [
            "forest",
            "tree"
           ],
           "tickvals": [
            0,
            1
           ],
           "values": [
            0,
            1,
            0,
            1,
            0,
            0,
            1,
            1,
            0,
            1,
            0,
            1,
            0,
            0,
            0,
            0,
            1
           ]
          },
          {
           "label": "num_boost_round",
           "range": [
            153,
            984
           ],
           "values": [
            230,
            984,
            204,
            718,
            727,
            963,
            732,
            522,
            618,
            441,
            558,
            177,
            153,
            719,
            915,
            236,
            276
           ]
          },
          {
           "label": "num_parallel_tree",
           "range": [
            2,
            100
           ],
           "values": [
            67,
            2,
            48,
            40,
            100,
            83,
            67,
            98,
            42,
            33,
            84,
            65,
            61,
            18,
            92,
            85,
            87
           ]
          },
          {
           "label": "one_drop",
           "range": [
            0,
            1
           ],
           "ticktext": [
            "True",
            "False"
           ],
           "tickvals": [
            0,
            1
           ],
           "values": [
            0,
            0,
            1,
            1,
            1,
            0,
            0,
            0,
            1,
            1,
            0,
            1,
            1,
            0,
            1,
            1,
            1
           ]
          },
          {
           "label": "rate_drop",
           "range": [
            0.04249482648618227,
            0.9950573913134607
           ],
           "values": [
            0.565017898383613,
            0.8452488423148113,
            0.8616939554952495,
            0.45012210211149806,
            0.8629920941246219,
            0.3250595542994763,
            0.7566766780474778,
            0.6778248621256365,
            0.17789191305144603,
            0.4006765030464713,
            0.9950573913134607,
            0.2713322735708436,
            0.21213262602532965,
            0.6344428595634237,
            0.8226440232947271,
            0.04249482648618227,
            0.7823633386010431
           ]
          },
          {
           "label": "sample_type",
           "range": [
            0,
            1
           ],
           "ticktext": [
            "uniform",
            "weighted"
           ],
           "tickvals": [
            0,
            1
           ],
           "values": [
            0,
            0,
            1,
            1,
            1,
            0,
            0,
            0,
            0,
            1,
            0,
            1,
            1,
            1,
            1,
            0,
            1
           ]
          },
          {
           "label": "scale_pos_weight",
           "range": [
            0.9767931802438903,
            9.263972204794898
           ],
           "values": [
            7.829321199534818,
            2.815462797677199,
            1.9160331659505179,
            2.0252620080526853,
            3.323532564356316,
            6.168184037921879,
            5.822450628676694,
            2.7277488700729218,
            8.237325688493764,
            4.045583336690792,
            2.261730501327143,
            4.727915311575255,
            7.2240414860961515,
            0.9767931802438903,
            9.263972204794898,
            3.2924986611946605,
            3.9564467734931634
           ]
          },
          {
           "label": "skip_drop",
           "range": [
            0.09570897352910172,
            0.9734162163111295
           ],
           "values": [
            0.9711438906980456,
            0.3497482856836578,
            0.9734162163111295,
            0.10437961394660683,
            0.22684367907990244,
            0.2543247083204083,
            0.09825095192008429,
            0.8213593851317855,
            0.2416541002379737,
            0.18003491834336108,
            0.4644308039399887,
            0.4586516674976754,
            0.8443823970587448,
            0.3330724174732143,
            0.6887977384830828,
            0.606676564007005,
            0.09570897352910172
           ]
          },
          {
           "label": "subsample",
           "range": [
            0.14727516507758875,
            0.9856510740242869
           ],
           "values": [
            0.9008842491890147,
            0.34198421327115613,
            0.14727516507758875,
            0.5391370918443245,
            0.840301223117413,
            0.6752322893496885,
            0.4033281029940432,
            0.6064575241715296,
            0.9216987941387373,
            0.9213670488705145,
            0.3486745809251156,
            0.8564586049571401,
            0.9856510740242869,
            0.7891787310003409,
            0.4613315456894078,
            0.2478577285428071,
            0.7166505956216116
           ]
          }
         ],
         "labelangle": 30,
         "labelside": "bottom",
         "line": {
          "color": [
           0.5923030303030303,
           0.6031746031746031,
           0.5,
           0.5,
           0.6805555555555556,
           0.7084574151280525,
           0.7616441709210434,
           0.7181094182825485,
           0.7100864890135578,
           0.5655191059841385,
           0.5,
           0.7380952380952381,
           0.5,
           0.5,
           0.5629370629370629,
           0.5121951219512195,
           0.5338599162542824
          ],
          "colorbar": {
           "title": {
            "text": "Objective Value"
           }
          },
          "colorscale": [
           [
            0,
            "rgb(247,251,255)"
           ],
           [
            0.125,
            "rgb(222,235,247)"
           ],
           [
            0.25,
            "rgb(198,219,239)"
           ],
           [
            0.375,
            "rgb(158,202,225)"
           ],
           [
            0.5,
            "rgb(107,174,214)"
           ],
           [
            0.625,
            "rgb(66,146,198)"
           ],
           [
            0.75,
            "rgb(33,113,181)"
           ],
           [
            0.875,
            "rgb(8,81,156)"
           ],
           [
            1,
            "rgb(8,48,107)"
           ]
          ],
          "reversescale": false,
          "showscale": true
         },
         "type": "parcoords"
        }
       ],
       "layout": {
        "template": {
         "data": {
          "bar": [
           {
            "error_x": {
             "color": "#2a3f5f"
            },
            "error_y": {
             "color": "#2a3f5f"
            },
            "marker": {
             "line": {
              "color": "#E5ECF6",
              "width": 0.5
             },
             "pattern": {
              "fillmode": "overlay",
              "size": 10,
              "solidity": 0.2
             }
            },
            "type": "bar"
           }
          ],
          "barpolar": [
           {
            "marker": {
             "line": {
              "color": "#E5ECF6",
              "width": 0.5
             },
             "pattern": {
              "fillmode": "overlay",
              "size": 10,
              "solidity": 0.2
             }
            },
            "type": "barpolar"
           }
          ],
          "carpet": [
           {
            "aaxis": {
             "endlinecolor": "#2a3f5f",
             "gridcolor": "white",
             "linecolor": "white",
             "minorgridcolor": "white",
             "startlinecolor": "#2a3f5f"
            },
            "baxis": {
             "endlinecolor": "#2a3f5f",
             "gridcolor": "white",
             "linecolor": "white",
             "minorgridcolor": "white",
             "startlinecolor": "#2a3f5f"
            },
            "type": "carpet"
           }
          ],
          "choropleth": [
           {
            "colorbar": {
             "outlinewidth": 0,
             "ticks": ""
            },
            "type": "choropleth"
           }
          ],
          "contour": [
           {
            "colorbar": {
             "outlinewidth": 0,
             "ticks": ""
            },
            "colorscale": [
             [
              0,
              "#0d0887"
             ],
             [
              0.1111111111111111,
              "#46039f"
             ],
             [
              0.2222222222222222,
              "#7201a8"
             ],
             [
              0.3333333333333333,
              "#9c179e"
             ],
             [
              0.4444444444444444,
              "#bd3786"
             ],
             [
              0.5555555555555556,
              "#d8576b"
             ],
             [
              0.6666666666666666,
              "#ed7953"
             ],
             [
              0.7777777777777778,
              "#fb9f3a"
             ],
             [
              0.8888888888888888,
              "#fdca26"
             ],
             [
              1,
              "#f0f921"
             ]
            ],
            "type": "contour"
           }
          ],
          "contourcarpet": [
           {
            "colorbar": {
             "outlinewidth": 0,
             "ticks": ""
            },
            "type": "contourcarpet"
           }
          ],
          "heatmap": [
           {
            "colorbar": {
             "outlinewidth": 0,
             "ticks": ""
            },
            "colorscale": [
             [
              0,
              "#0d0887"
             ],
             [
              0.1111111111111111,
              "#46039f"
             ],
             [
              0.2222222222222222,
              "#7201a8"
             ],
             [
              0.3333333333333333,
              "#9c179e"
             ],
             [
              0.4444444444444444,
              "#bd3786"
             ],
             [
              0.5555555555555556,
              "#d8576b"
             ],
             [
              0.6666666666666666,
              "#ed7953"
             ],
             [
              0.7777777777777778,
              "#fb9f3a"
             ],
             [
              0.8888888888888888,
              "#fdca26"
             ],
             [
              1,
              "#f0f921"
             ]
            ],
            "type": "heatmap"
           }
          ],
          "heatmapgl": [
           {
            "colorbar": {
             "outlinewidth": 0,
             "ticks": ""
            },
            "colorscale": [
             [
              0,
              "#0d0887"
             ],
             [
              0.1111111111111111,
              "#46039f"
             ],
             [
              0.2222222222222222,
              "#7201a8"
             ],
             [
              0.3333333333333333,
              "#9c179e"
             ],
             [
              0.4444444444444444,
              "#bd3786"
             ],
             [
              0.5555555555555556,
              "#d8576b"
             ],
             [
              0.6666666666666666,
              "#ed7953"
             ],
             [
              0.7777777777777778,
              "#fb9f3a"
             ],
             [
              0.8888888888888888,
              "#fdca26"
             ],
             [
              1,
              "#f0f921"
             ]
            ],
            "type": "heatmapgl"
           }
          ],
          "histogram": [
           {
            "marker": {
             "pattern": {
              "fillmode": "overlay",
              "size": 10,
              "solidity": 0.2
             }
            },
            "type": "histogram"
           }
          ],
          "histogram2d": [
           {
            "colorbar": {
             "outlinewidth": 0,
             "ticks": ""
            },
            "colorscale": [
             [
              0,
              "#0d0887"
             ],
             [
              0.1111111111111111,
              "#46039f"
             ],
             [
              0.2222222222222222,
              "#7201a8"
             ],
             [
              0.3333333333333333,
              "#9c179e"
             ],
             [
              0.4444444444444444,
              "#bd3786"
             ],
             [
              0.5555555555555556,
              "#d8576b"
             ],
             [
              0.6666666666666666,
              "#ed7953"
             ],
             [
              0.7777777777777778,
              "#fb9f3a"
             ],
             [
              0.8888888888888888,
              "#fdca26"
             ],
             [
              1,
              "#f0f921"
             ]
            ],
            "type": "histogram2d"
           }
          ],
          "histogram2dcontour": [
           {
            "colorbar": {
             "outlinewidth": 0,
             "ticks": ""
            },
            "colorscale": [
             [
              0,
              "#0d0887"
             ],
             [
              0.1111111111111111,
              "#46039f"
             ],
             [
              0.2222222222222222,
              "#7201a8"
             ],
             [
              0.3333333333333333,
              "#9c179e"
             ],
             [
              0.4444444444444444,
              "#bd3786"
             ],
             [
              0.5555555555555556,
              "#d8576b"
             ],
             [
              0.6666666666666666,
              "#ed7953"
             ],
             [
              0.7777777777777778,
              "#fb9f3a"
             ],
             [
              0.8888888888888888,
              "#fdca26"
             ],
             [
              1,
              "#f0f921"
             ]
            ],
            "type": "histogram2dcontour"
           }
          ],
          "mesh3d": [
           {
            "colorbar": {
             "outlinewidth": 0,
             "ticks": ""
            },
            "type": "mesh3d"
           }
          ],
          "parcoords": [
           {
            "line": {
             "colorbar": {
              "outlinewidth": 0,
              "ticks": ""
             }
            },
            "type": "parcoords"
           }
          ],
          "pie": [
           {
            "automargin": true,
            "type": "pie"
           }
          ],
          "scatter": [
           {
            "fillpattern": {
             "fillmode": "overlay",
             "size": 10,
             "solidity": 0.2
            },
            "type": "scatter"
           }
          ],
          "scatter3d": [
           {
            "line": {
             "colorbar": {
              "outlinewidth": 0,
              "ticks": ""
             }
            },
            "marker": {
             "colorbar": {
              "outlinewidth": 0,
              "ticks": ""
             }
            },
            "type": "scatter3d"
           }
          ],
          "scattercarpet": [
           {
            "marker": {
             "colorbar": {
              "outlinewidth": 0,
              "ticks": ""
             }
            },
            "type": "scattercarpet"
           }
          ],
          "scattergeo": [
           {
            "marker": {
             "colorbar": {
              "outlinewidth": 0,
              "ticks": ""
             }
            },
            "type": "scattergeo"
           }
          ],
          "scattergl": [
           {
            "marker": {
             "colorbar": {
              "outlinewidth": 0,
              "ticks": ""
             }
            },
            "type": "scattergl"
           }
          ],
          "scattermapbox": [
           {
            "marker": {
             "colorbar": {
              "outlinewidth": 0,
              "ticks": ""
             }
            },
            "type": "scattermapbox"
           }
          ],
          "scatterpolar": [
           {
            "marker": {
             "colorbar": {
              "outlinewidth": 0,
              "ticks": ""
             }
            },
            "type": "scatterpolar"
           }
          ],
          "scatterpolargl": [
           {
            "marker": {
             "colorbar": {
              "outlinewidth": 0,
              "ticks": ""
             }
            },
            "type": "scatterpolargl"
           }
          ],
          "scatterternary": [
           {
            "marker": {
             "colorbar": {
              "outlinewidth": 0,
              "ticks": ""
             }
            },
            "type": "scatterternary"
           }
          ],
          "surface": [
           {
            "colorbar": {
             "outlinewidth": 0,
             "ticks": ""
            },
            "colorscale": [
             [
              0,
              "#0d0887"
             ],
             [
              0.1111111111111111,
              "#46039f"
             ],
             [
              0.2222222222222222,
              "#7201a8"
             ],
             [
              0.3333333333333333,
              "#9c179e"
             ],
             [
              0.4444444444444444,
              "#bd3786"
             ],
             [
              0.5555555555555556,
              "#d8576b"
             ],
             [
              0.6666666666666666,
              "#ed7953"
             ],
             [
              0.7777777777777778,
              "#fb9f3a"
             ],
             [
              0.8888888888888888,
              "#fdca26"
             ],
             [
              1,
              "#f0f921"
             ]
            ],
            "type": "surface"
           }
          ],
          "table": [
           {
            "cells": {
             "fill": {
              "color": "#EBF0F8"
             },
             "line": {
              "color": "white"
             }
            },
            "header": {
             "fill": {
              "color": "#C8D4E3"
             },
             "line": {
              "color": "white"
             }
            },
            "type": "table"
           }
          ]
         },
         "layout": {
          "annotationdefaults": {
           "arrowcolor": "#2a3f5f",
           "arrowhead": 0,
           "arrowwidth": 1
          },
          "autotypenumbers": "strict",
          "coloraxis": {
           "colorbar": {
            "outlinewidth": 0,
            "ticks": ""
           }
          },
          "colorscale": {
           "diverging": [
            [
             0,
             "#8e0152"
            ],
            [
             0.1,
             "#c51b7d"
            ],
            [
             0.2,
             "#de77ae"
            ],
            [
             0.3,
             "#f1b6da"
            ],
            [
             0.4,
             "#fde0ef"
            ],
            [
             0.5,
             "#f7f7f7"
            ],
            [
             0.6,
             "#e6f5d0"
            ],
            [
             0.7,
             "#b8e186"
            ],
            [
             0.8,
             "#7fbc41"
            ],
            [
             0.9,
             "#4d9221"
            ],
            [
             1,
             "#276419"
            ]
           ],
           "sequential": [
            [
             0,
             "#0d0887"
            ],
            [
             0.1111111111111111,
             "#46039f"
            ],
            [
             0.2222222222222222,
             "#7201a8"
            ],
            [
             0.3333333333333333,
             "#9c179e"
            ],
            [
             0.4444444444444444,
             "#bd3786"
            ],
            [
             0.5555555555555556,
             "#d8576b"
            ],
            [
             0.6666666666666666,
             "#ed7953"
            ],
            [
             0.7777777777777778,
             "#fb9f3a"
            ],
            [
             0.8888888888888888,
             "#fdca26"
            ],
            [
             1,
             "#f0f921"
            ]
           ],
           "sequentialminus": [
            [
             0,
             "#0d0887"
            ],
            [
             0.1111111111111111,
             "#46039f"
            ],
            [
             0.2222222222222222,
             "#7201a8"
            ],
            [
             0.3333333333333333,
             "#9c179e"
            ],
            [
             0.4444444444444444,
             "#bd3786"
            ],
            [
             0.5555555555555556,
             "#d8576b"
            ],
            [
             0.6666666666666666,
             "#ed7953"
            ],
            [
             0.7777777777777778,
             "#fb9f3a"
            ],
            [
             0.8888888888888888,
             "#fdca26"
            ],
            [
             1,
             "#f0f921"
            ]
           ]
          },
          "colorway": [
           "#636efa",
           "#EF553B",
           "#00cc96",
           "#ab63fa",
           "#FFA15A",
           "#19d3f3",
           "#FF6692",
           "#B6E880",
           "#FF97FF",
           "#FECB52"
          ],
          "font": {
           "color": "#2a3f5f"
          },
          "geo": {
           "bgcolor": "white",
           "lakecolor": "white",
           "landcolor": "#E5ECF6",
           "showlakes": true,
           "showland": true,
           "subunitcolor": "white"
          },
          "hoverlabel": {
           "align": "left"
          },
          "hovermode": "closest",
          "mapbox": {
           "style": "light"
          },
          "paper_bgcolor": "white",
          "plot_bgcolor": "#E5ECF6",
          "polar": {
           "angularaxis": {
            "gridcolor": "white",
            "linecolor": "white",
            "ticks": ""
           },
           "bgcolor": "#E5ECF6",
           "radialaxis": {
            "gridcolor": "white",
            "linecolor": "white",
            "ticks": ""
           }
          },
          "scene": {
           "xaxis": {
            "backgroundcolor": "#E5ECF6",
            "gridcolor": "white",
            "gridwidth": 2,
            "linecolor": "white",
            "showbackground": true,
            "ticks": "",
            "zerolinecolor": "white"
           },
           "yaxis": {
            "backgroundcolor": "#E5ECF6",
            "gridcolor": "white",
            "gridwidth": 2,
            "linecolor": "white",
            "showbackground": true,
            "ticks": "",
            "zerolinecolor": "white"
           },
           "zaxis": {
            "backgroundcolor": "#E5ECF6",
            "gridcolor": "white",
            "gridwidth": 2,
            "linecolor": "white",
            "showbackground": true,
            "ticks": "",
            "zerolinecolor": "white"
           }
          },
          "shapedefaults": {
           "line": {
            "color": "#2a3f5f"
           }
          },
          "ternary": {
           "aaxis": {
            "gridcolor": "white",
            "linecolor": "white",
            "ticks": ""
           },
           "baxis": {
            "gridcolor": "white",
            "linecolor": "white",
            "ticks": ""
           },
           "bgcolor": "#E5ECF6",
           "caxis": {
            "gridcolor": "white",
            "linecolor": "white",
            "ticks": ""
           }
          },
          "title": {
           "x": 0.05
          },
          "xaxis": {
           "automargin": true,
           "gridcolor": "white",
           "linecolor": "white",
           "ticks": "",
           "title": {
            "standoff": 15
           },
           "zerolinecolor": "white",
           "zerolinewidth": 2
          },
          "yaxis": {
           "automargin": true,
           "gridcolor": "white",
           "linecolor": "white",
           "ticks": "",
           "title": {
            "standoff": 15
           },
           "zerolinecolor": "white",
           "zerolinewidth": 2
          }
         }
        },
        "title": {
         "text": "Parallel Coordinate Plot"
        }
       }
      }
     },
     "metadata": {},
     "output_type": "display_data"
    }
   ],
   "source": [
    "optuna.visualization.plot_parallel_coordinate(study_max)"
   ]
  },
  {
   "cell_type": "code",
   "execution_count": 21,
   "metadata": {},
   "outputs": [
    {
     "data": {
      "application/vnd.plotly.v1+json": {
       "config": {
        "plotlyServerURL": "https://plot.ly"
       },
       "data": [
        {
         "marker": {
          "color": [
           0,
           1,
           2,
           3,
           4,
           5,
           6,
           7,
           8,
           9,
           10,
           11,
           12,
           13,
           14,
           15,
           16,
           17,
           19,
           21,
           23,
           24,
           27,
           28,
           29,
           35,
           38,
           40,
           43,
           47,
           53,
           56,
           57,
           61,
           63,
           66,
           68,
           72,
           75,
           79,
           82,
           84,
           96,
           110,
           138,
           148,
           153,
           156,
           165,
           166,
           172,
           183,
           200,
           208,
           210,
           221,
           224,
           230,
           233,
           234,
           242,
           243,
           249,
           262,
           313,
           319,
           327,
           329,
           335,
           339,
           342,
           348,
           355,
           376,
           392,
           403,
           437,
           443,
           467,
           481,
           505,
           518,
           529,
           546,
           550,
           551,
           566,
           589,
           597,
           612,
           624,
           641,
           658,
           711,
           792,
           837,
           891,
           920,
           924,
           937,
           938,
           959,
           971,
           975,
           985
          ],
          "colorbar": {
           "title": {
            "text": "Trial"
           },
           "x": 1,
           "xpad": 40
          },
          "colorscale": [
           [
            0,
            "rgb(247,251,255)"
           ],
           [
            0.125,
            "rgb(222,235,247)"
           ],
           [
            0.25,
            "rgb(198,219,239)"
           ],
           [
            0.375,
            "rgb(158,202,225)"
           ],
           [
            0.5,
            "rgb(107,174,214)"
           ],
           [
            0.625,
            "rgb(66,146,198)"
           ],
           [
            0.75,
            "rgb(33,113,181)"
           ],
           [
            0.875,
            "rgb(8,81,156)"
           ],
           [
            1,
            "rgb(8,48,107)"
           ]
          ],
          "line": {
           "color": "Grey",
           "width": 0.5
          },
          "showscale": true
         },
         "mode": "markers",
         "showlegend": false,
         "type": "scatter",
         "x": [
          0.6730708977076493,
          6.689592729380507,
          2.6703034632385108,
          4.370189834943803,
          8.807268725074831,
          5.192280352617097,
          8.206292266816954,
          5.1151140386790726,
          9.596405366211332,
          3.5324037504869206,
          8.248875369617163,
          8.105981187427554,
          1.9898372558021915,
          6.320155386376238,
          9.325672956849733,
          0.37148032341847437,
          5.566094580132631,
          4.209641383091014,
          1.6294568436676446,
          8.442963029624337,
          7.754565812024837,
          3.996920433225012,
          1.4485506840925528,
          3.28987222118663,
          8.454302755690014,
          3.2883291705172826,
          8.267887426884831,
          4.456718391822706,
          0.784398522052213,
          7.9529673257263225,
          0.1927425847579946,
          8.147329525431372,
          9.87732938334878,
          6.881894650573271,
          9.260502933120275,
          8.240275439631686,
          2.3312389556630606,
          2.2937821009597488,
          4.823704544237101,
          6.572006856129938,
          0.504227298227737,
          3.0936337095427406,
          8.0770202171348,
          4.266979049054301,
          6.432797922818413,
          0.5274637776108194,
          0.8022124306144301,
          0.5216022755245661,
          1.6249517583417779,
          5.662383231077323,
          8.24167367829327,
          0.7274017485691664,
          1.8039849867292121,
          9.575178387888498,
          0.5733932982877382,
          9.244409673247072,
          7.9726812109439305,
          2.676244694851272,
          7.1132886327623925,
          1.3001546468257308,
          6.391566898275355,
          9.372318344916785,
          9.952801653653886,
          6.225504896595331,
          5.824769012143356,
          5.269376892800833,
          4.280012649027934,
          5.637858016618532,
          4.207947133822216,
          5.052062406662985,
          4.666709722881021,
          0.8420008352458156,
          2.1486105646258156,
          8.109677369834847,
          8.458571731348503,
          6.832182171969103,
          5.319894442257757,
          8.506252903468333,
          8.92277793144757,
          9.03724014421573,
          7.0266425604155796,
          8.242781472943358,
          2.5743581333755396,
          1.3572918466568897,
          5.120988128689648,
          3.9637177187315356,
          9.482901816738863,
          2.3965749186320786,
          7.803180493520971,
          8.811093487542285,
          0.4819522388422462,
          8.273728247025483,
          3.535999335179095,
          8.489842539810004,
          3.2861005435348765,
          4.316918084086755,
          3.5200039134131558,
          9.496890596691212,
          3.072234701154495,
          5.4347752277902135,
          8.356894515077734,
          7.157167700816366,
          4.718465012197867,
          7.3701748054904295,
          4.595144562252838
         ],
         "xaxis": "x",
         "y": [
          0.6875956284153006,
          0.5923030303030303,
          0.6031746031746031,
          0.5,
          0.5,
          0.5,
          0.5,
          0.5,
          0.5274996057404195,
          0.5,
          0.7238845144356956,
          0.5922173158807759,
          0.5307486631016043,
          0.5,
          0.5,
          0.5,
          0.5932614555256064,
          0.5,
          0.5,
          0.6973997787045705,
          0.5,
          0.5,
          0.7601162481142959,
          0.6951776976564512,
          0.7452538713519954,
          0.5149253731343284,
          0.6997879787305648,
          0.6805555555555556,
          0.6959697217675942,
          0.6282051282051282,
          0.6290317250495704,
          0.7228993298475588,
          0.5448369565217391,
          0.7637799771602588,
          0.6861185983827494,
          0.6922886467993157,
          0.7245671745152354,
          0.6655681567125709,
          0.7084574151280525,
          0.6699872114154943,
          0.6099254742547425,
          0.5,
          0.611449864498645,
          0.7616441709210434,
          0.7392896174863388,
          0.7181094182825485,
          0.6735221858248959,
          0.6327369623144271,
          0.7492790194664745,
          0.7100864890135578,
          0.5,
          0.7859078590785907,
          0.6807098765432098,
          0.5655191059841385,
          0.5254237288135594,
          0.7257325687110987,
          0.6814750718020472,
          0.7365650969529087,
          0.7448407202216066,
          0.5,
          0.7330491201847951,
          0.5835151515151515,
          0.5,
          0.5,
          0.7380952380952381,
          0.7315638906547998,
          0.7538580246913581,
          0.6400854815911692,
          0.7446516939474686,
          0.7506428237494156,
          0.7918831168831169,
          0.7326423576423577,
          0.7216243862520458,
          0.7745032329285602,
          0.5801015394693744,
          0.7956372840976772,
          0.5,
          0.7530972417017299,
          0.6649062725306417,
          0.7172179872718372,
          0.7329697736748064,
          0.7376284814323608,
          0.7266775777414075,
          0.6473235156615241,
          0.8106568364611261,
          0.5,
          0.7103174603174602,
          0.7069393912503328,
          0.7197178379988088,
          0.6778455284552845,
          0.7602553603335318,
          0.5629370629370629,
          0.7320593735390368,
          0.7908110440034513,
          0.7233333333333333,
          0.5457575757575758,
          0.772977022977023,
          0.7775054073540015,
          0.71195420886884,
          0.7354733090185677,
          0.5121951219512195,
          0.5,
          0.6684751261715933,
          0.5338599162542824,
          0.5382234663302319
         ],
         "yaxis": "y"
        },
        {
         "marker": {
          "color": [
           0,
           1,
           2,
           3,
           4,
           5,
           6,
           7,
           8,
           9,
           10,
           11,
           12,
           13,
           14,
           15,
           16,
           17,
           19,
           21,
           23,
           24,
           27,
           28,
           29,
           35,
           38,
           40,
           43,
           47,
           53,
           56,
           57,
           61,
           63,
           66,
           68,
           72,
           75,
           79,
           82,
           84,
           96,
           110,
           138,
           148,
           153,
           156,
           165,
           166,
           172,
           183,
           200,
           208,
           210,
           221,
           224,
           230,
           233,
           234,
           242,
           243,
           249,
           262,
           313,
           319,
           327,
           329,
           335,
           339,
           342,
           348,
           355,
           376,
           392,
           403,
           437,
           443,
           467,
           481,
           505,
           518,
           529,
           546,
           550,
           551,
           566,
           589,
           597,
           612,
           624,
           641,
           658,
           711,
           792,
           837,
           891,
           920,
           924,
           937,
           938,
           959,
           971,
           975,
           985
          ],
          "colorbar": {
           "title": {
            "text": "Trial"
           },
           "x": 1,
           "xpad": 40
          },
          "colorscale": [
           [
            0,
            "rgb(247,251,255)"
           ],
           [
            0.125,
            "rgb(222,235,247)"
           ],
           [
            0.25,
            "rgb(198,219,239)"
           ],
           [
            0.375,
            "rgb(158,202,225)"
           ],
           [
            0.5,
            "rgb(107,174,214)"
           ],
           [
            0.625,
            "rgb(66,146,198)"
           ],
           [
            0.75,
            "rgb(33,113,181)"
           ],
           [
            0.875,
            "rgb(8,81,156)"
           ],
           [
            1,
            "rgb(8,48,107)"
           ]
          ],
          "line": {
           "color": "Grey",
           "width": 0.5
          },
          "showscale": false
         },
         "mode": "markers",
         "showlegend": false,
         "type": "scatter",
         "x": [
          "gbtree",
          "dart",
          "dart",
          "gbtree",
          "gbtree",
          "gbtree",
          "gbtree",
          "dart",
          "gbtree",
          "gbtree",
          "dart",
          "gbtree",
          "dart",
          "dart",
          "gbtree",
          "gbtree",
          "dart",
          "gbtree",
          "gbtree",
          "gbtree",
          "dart",
          "gbtree",
          "dart",
          "gbtree",
          "dart",
          "gbtree",
          "gbtree",
          "dart",
          "dart",
          "gbtree",
          "dart",
          "dart",
          "dart",
          "gbtree",
          "gbtree",
          "gbtree",
          "dart",
          "gbtree",
          "dart",
          "gbtree",
          "dart",
          "gbtree",
          "gbtree",
          "dart",
          "dart",
          "dart",
          "gbtree",
          "dart",
          "dart",
          "dart",
          "gbtree",
          "gbtree",
          "gbtree",
          "dart",
          "gbtree",
          "dart",
          "gbtree",
          "dart",
          "gbtree",
          "gbtree",
          "dart",
          "dart",
          "dart",
          "dart",
          "dart",
          "dart",
          "gbtree",
          "gbtree",
          "gbtree",
          "dart",
          "dart",
          "gbtree",
          "gbtree",
          "gbtree",
          "dart",
          "gbtree",
          "dart",
          "gbtree",
          "dart",
          "dart",
          "gbtree",
          "gbtree",
          "gbtree",
          "gbtree",
          "dart",
          "dart",
          "gbtree",
          "gbtree",
          "dart",
          "gbtree",
          "gbtree",
          "dart",
          "dart",
          "gbtree",
          "gbtree",
          "gbtree",
          "dart",
          "gbtree",
          "gbtree",
          "dart",
          "dart",
          "dart",
          "gbtree",
          "dart",
          "gbtree"
         ],
         "xaxis": "x2",
         "y": [
          0.6875956284153006,
          0.5923030303030303,
          0.6031746031746031,
          0.5,
          0.5,
          0.5,
          0.5,
          0.5,
          0.5274996057404195,
          0.5,
          0.7238845144356956,
          0.5922173158807759,
          0.5307486631016043,
          0.5,
          0.5,
          0.5,
          0.5932614555256064,
          0.5,
          0.5,
          0.6973997787045705,
          0.5,
          0.5,
          0.7601162481142959,
          0.6951776976564512,
          0.7452538713519954,
          0.5149253731343284,
          0.6997879787305648,
          0.6805555555555556,
          0.6959697217675942,
          0.6282051282051282,
          0.6290317250495704,
          0.7228993298475588,
          0.5448369565217391,
          0.7637799771602588,
          0.6861185983827494,
          0.6922886467993157,
          0.7245671745152354,
          0.6655681567125709,
          0.7084574151280525,
          0.6699872114154943,
          0.6099254742547425,
          0.5,
          0.611449864498645,
          0.7616441709210434,
          0.7392896174863388,
          0.7181094182825485,
          0.6735221858248959,
          0.6327369623144271,
          0.7492790194664745,
          0.7100864890135578,
          0.5,
          0.7859078590785907,
          0.6807098765432098,
          0.5655191059841385,
          0.5254237288135594,
          0.7257325687110987,
          0.6814750718020472,
          0.7365650969529087,
          0.7448407202216066,
          0.5,
          0.7330491201847951,
          0.5835151515151515,
          0.5,
          0.5,
          0.7380952380952381,
          0.7315638906547998,
          0.7538580246913581,
          0.6400854815911692,
          0.7446516939474686,
          0.7506428237494156,
          0.7918831168831169,
          0.7326423576423577,
          0.7216243862520458,
          0.7745032329285602,
          0.5801015394693744,
          0.7956372840976772,
          0.5,
          0.7530972417017299,
          0.6649062725306417,
          0.7172179872718372,
          0.7329697736748064,
          0.7376284814323608,
          0.7266775777414075,
          0.6473235156615241,
          0.8106568364611261,
          0.5,
          0.7103174603174602,
          0.7069393912503328,
          0.7197178379988088,
          0.6778455284552845,
          0.7602553603335318,
          0.5629370629370629,
          0.7320593735390368,
          0.7908110440034513,
          0.7233333333333333,
          0.5457575757575758,
          0.772977022977023,
          0.7775054073540015,
          0.71195420886884,
          0.7354733090185677,
          0.5121951219512195,
          0.5,
          0.6684751261715933,
          0.5338599162542824,
          0.5382234663302319
         ],
         "yaxis": "y2"
        },
        {
         "marker": {
          "color": [
           0,
           1,
           2,
           3,
           4,
           5,
           6,
           7,
           8,
           9,
           10,
           11,
           12,
           13,
           14,
           15,
           16,
           17,
           19,
           21,
           23,
           24,
           27,
           28,
           29,
           35,
           38,
           40,
           43,
           47,
           53,
           56,
           57,
           61,
           63,
           66,
           68,
           72,
           75,
           79,
           82,
           84,
           96,
           110,
           138,
           148,
           153,
           156,
           165,
           166,
           172,
           183,
           200,
           208,
           210,
           221,
           224,
           230,
           233,
           234,
           242,
           243,
           249,
           262,
           313,
           319,
           327,
           329,
           335,
           339,
           342,
           348,
           355,
           376,
           392,
           403,
           437,
           443,
           467,
           481,
           505,
           518,
           529,
           546,
           550,
           551,
           566,
           589,
           597,
           612,
           624,
           641,
           658,
           711,
           792,
           837,
           891,
           920,
           924,
           937,
           938,
           959,
           971,
           975,
           985
          ],
          "colorbar": {
           "title": {
            "text": "Trial"
           },
           "x": 1,
           "xpad": 40
          },
          "colorscale": [
           [
            0,
            "rgb(247,251,255)"
           ],
           [
            0.125,
            "rgb(222,235,247)"
           ],
           [
            0.25,
            "rgb(198,219,239)"
           ],
           [
            0.375,
            "rgb(158,202,225)"
           ],
           [
            0.5,
            "rgb(107,174,214)"
           ],
           [
            0.625,
            "rgb(66,146,198)"
           ],
           [
            0.75,
            "rgb(33,113,181)"
           ],
           [
            0.875,
            "rgb(8,81,156)"
           ],
           [
            1,
            "rgb(8,48,107)"
           ]
          ],
          "line": {
           "color": "Grey",
           "width": 0.5
          },
          "showscale": false
         },
         "mode": "markers",
         "showlegend": false,
         "type": "scatter",
         "x": [
          0.1519657433659063,
          0.8772358222655072,
          0.883552272451488,
          0.0705194933131994,
          0.770332259213947,
          0.3598032256633325,
          0.3243641696718933,
          0.019706783299567453,
          0.143590658442389,
          0.8068844528543982,
          0.4619277376201234,
          0.38031333635415965,
          0.3192239094942692,
          0.009983869284685247,
          0.6848227787803837,
          0.6022723556660119,
          0.18259879272522483,
          0.30665507244718543,
          0.9188919456526945,
          0.90104500119808,
          0.18366641569888867,
          0.7956723727674929,
          0.5438613057019811,
          0.02910119252969701,
          0.1533089793141711,
          0.6795808666330299,
          0.744204856198039,
          0.26099748846680815,
          0.8533419205360007,
          0.9869411342924456,
          0.24452655877856286,
          0.9203381393724351,
          0.08512582933657756,
          0.712471841453517,
          0.9681045546291669,
          0.3351310910390449,
          0.795404434922915,
          0.6179558843040195,
          0.3104742242490839,
          0.33296737489046535,
          0.7722994486916306,
          0.5411643654849937,
          0.5714983646672672,
          0.7733396141062425,
          0.8765197086826964,
          0.6812945036861268,
          0.10691491703784735,
          0.5269575027769051,
          0.10556578402641834,
          0.3636145656871514,
          0.32805678515804865,
          0.6739651258262153,
          0.3777831019315059,
          0.6285497192556722,
          0.028095250538843566,
          0.9299659317763623,
          0.75068081023038,
          0.05134915222101321,
          0.48168351488347283,
          0.986823276715393,
          0.4252064658241872,
          0.6004405045951038,
          0.4074799009681429,
          0.9122660949270623,
          0.34332905144133596,
          0.6438896417557706,
          0.07209885977347734,
          0.17945388028211068,
          0.9522429332372396,
          0.5551395602903582,
          0.8142944435041236,
          0.8727142542730918,
          0.4263998437414745,
          0.7084055714647676,
          0.5076041828359755,
          0.4249370270089028,
          0.04899196457250815,
          0.6790076340958419,
          0.28510700227541264,
          0.832147418410601,
          0.3120146477220376,
          0.9615343807450268,
          0.23077824547977752,
          0.7455234045320425,
          0.21828521572361279,
          0.38053349439342476,
          0.4150051943953894,
          0.2867563033661836,
          0.9396868473109785,
          0.23614914430508438,
          0.4963278594754123,
          0.8666929240910178,
          0.8251907128545785,
          0.21777662031116252,
          0.9800889869083141,
          0.47273538134000914,
          0.4905903601092699,
          0.4908389045786558,
          0.6713339052381048,
          0.38459444863403197,
          0.9999056460904633,
          0.3246943075808018,
          0.9200275122659229,
          0.37417676819110457,
          0.7799140820576972
         ],
         "xaxis": "x3",
         "y": [
          0.6875956284153006,
          0.5923030303030303,
          0.6031746031746031,
          0.5,
          0.5,
          0.5,
          0.5,
          0.5,
          0.5274996057404195,
          0.5,
          0.7238845144356956,
          0.5922173158807759,
          0.5307486631016043,
          0.5,
          0.5,
          0.5,
          0.5932614555256064,
          0.5,
          0.5,
          0.6973997787045705,
          0.5,
          0.5,
          0.7601162481142959,
          0.6951776976564512,
          0.7452538713519954,
          0.5149253731343284,
          0.6997879787305648,
          0.6805555555555556,
          0.6959697217675942,
          0.6282051282051282,
          0.6290317250495704,
          0.7228993298475588,
          0.5448369565217391,
          0.7637799771602588,
          0.6861185983827494,
          0.6922886467993157,
          0.7245671745152354,
          0.6655681567125709,
          0.7084574151280525,
          0.6699872114154943,
          0.6099254742547425,
          0.5,
          0.611449864498645,
          0.7616441709210434,
          0.7392896174863388,
          0.7181094182825485,
          0.6735221858248959,
          0.6327369623144271,
          0.7492790194664745,
          0.7100864890135578,
          0.5,
          0.7859078590785907,
          0.6807098765432098,
          0.5655191059841385,
          0.5254237288135594,
          0.7257325687110987,
          0.6814750718020472,
          0.7365650969529087,
          0.7448407202216066,
          0.5,
          0.7330491201847951,
          0.5835151515151515,
          0.5,
          0.5,
          0.7380952380952381,
          0.7315638906547998,
          0.7538580246913581,
          0.6400854815911692,
          0.7446516939474686,
          0.7506428237494156,
          0.7918831168831169,
          0.7326423576423577,
          0.7216243862520458,
          0.7745032329285602,
          0.5801015394693744,
          0.7956372840976772,
          0.5,
          0.7530972417017299,
          0.6649062725306417,
          0.7172179872718372,
          0.7329697736748064,
          0.7376284814323608,
          0.7266775777414075,
          0.6473235156615241,
          0.8106568364611261,
          0.5,
          0.7103174603174602,
          0.7069393912503328,
          0.7197178379988088,
          0.6778455284552845,
          0.7602553603335318,
          0.5629370629370629,
          0.7320593735390368,
          0.7908110440034513,
          0.7233333333333333,
          0.5457575757575758,
          0.772977022977023,
          0.7775054073540015,
          0.71195420886884,
          0.7354733090185677,
          0.5121951219512195,
          0.5,
          0.6684751261715933,
          0.5338599162542824,
          0.5382234663302319
         ],
         "yaxis": "y3"
        },
        {
         "marker": {
          "color": [
           0,
           1,
           2,
           3,
           4,
           5,
           6,
           7,
           8,
           9,
           10,
           11,
           12,
           13,
           14,
           15,
           16,
           17,
           19,
           21,
           23,
           24,
           27,
           28,
           29,
           35,
           38,
           40,
           43,
           47,
           53,
           56,
           57,
           61,
           63,
           66,
           68,
           72,
           75,
           79,
           82,
           84,
           96,
           110,
           138,
           148,
           153,
           156,
           165,
           166,
           172,
           183,
           200,
           208,
           210,
           221,
           224,
           230,
           233,
           234,
           242,
           243,
           249,
           262,
           313,
           319,
           327,
           329,
           335,
           339,
           342,
           348,
           355,
           376,
           392,
           403,
           437,
           443,
           467,
           481,
           505,
           518,
           529,
           546,
           550,
           551,
           566,
           589,
           597,
           612,
           624,
           641,
           658,
           711,
           792,
           837,
           891,
           920,
           924,
           937,
           938,
           959,
           971,
           975,
           985
          ],
          "colorbar": {
           "title": {
            "text": "Trial"
           },
           "x": 1,
           "xpad": 40
          },
          "colorscale": [
           [
            0,
            "rgb(247,251,255)"
           ],
           [
            0.125,
            "rgb(222,235,247)"
           ],
           [
            0.25,
            "rgb(198,219,239)"
           ],
           [
            0.375,
            "rgb(158,202,225)"
           ],
           [
            0.5,
            "rgb(107,174,214)"
           ],
           [
            0.625,
            "rgb(66,146,198)"
           ],
           [
            0.75,
            "rgb(33,113,181)"
           ],
           [
            0.875,
            "rgb(8,81,156)"
           ],
           [
            1,
            "rgb(8,48,107)"
           ]
          ],
          "line": {
           "color": "Grey",
           "width": 0.5
          },
          "showscale": false
         },
         "mode": "markers",
         "showlegend": false,
         "type": "scatter",
         "x": [
          0.36309119901966735,
          0.7675952216961253,
          0.24555526783746448,
          0.47263956700011367,
          0.7413732309132903,
          0.49347335438879497,
          0.1228585813177755,
          0.7457318220652503,
          0.8249481530734623,
          0.17468885988638722,
          0.6247997055731269,
          0.3056287933723089,
          0.24733602717690908,
          0.525392481462212,
          0.7961350636109353,
          0.6723664464032131,
          0.8411500284360888,
          0.8996897251724826,
          0.21031750862016363,
          0.8258610483134792,
          0.5922464198944732,
          0.6885985450980749,
          0.23566672501364733,
          0.9168517359791256,
          0.7003183555840103,
          0.2518792264672565,
          0.39229618413678746,
          0.8227325526669554,
          0.7204015917992176,
          0.4867396056438386,
          0.0358295228562384,
          0.7006376990094872,
          0.7389636299120353,
          0.25060293643578424,
          0.3388765174367322,
          0.4535936575844499,
          0.3467011606579021,
          0.461750095697467,
          0.24881398933927037,
          0.890467828657593,
          0.8054340904790681,
          0.604269275612718,
          0.11629536094658359,
          0.40309154131194563,
          0.8814094894802063,
          0.9455717275377437,
          0.9952573775153952,
          0.9212676829196541,
          0.980269633607957,
          0.6625555161577247,
          0.43735870416365596,
          0.8346984702096594,
          0.771359730992472,
          0.2489383080727486,
          0.9125238216162483,
          0.6624906834229398,
          0.6573346274129774,
          0.4689423425220485,
          0.3590629625144554,
          0.023204783531869982,
          0.5893436697386999,
          0.017190059284559807,
          0.9311914630231473,
          0.8928771313667853,
          0.5005909842066956,
          0.9068935230119863,
          0.9597619337753222,
          0.5640333872965999,
          0.009463685745198114,
          0.726528219906544,
          0.9335130813083568,
          0.6902022184916764,
          0.32725425377970857,
          0.8437180316396193,
          0.25118054440919424,
          0.385945418857933,
          0.2990219939320502,
          0.8471244649073202,
          0.06360957897489647,
          0.7598629876096086,
          0.9920244926751146,
          0.848822572646411,
          0.8363980209755449,
          0.7907198799907865,
          0.2347427433251597,
          0.127134011088001,
          0.8996462115313303,
          0.8324929457286669,
          0.04960767143945705,
          0.8984088948041002,
          0.7064840338515535,
          0.7237655884579183,
          0.47058794691378086,
          0.8146412505031013,
          0.848043651531402,
          0.796608025352072,
          0.2489389442639384,
          0.1310691730060288,
          0.624816698030539,
          0.9062417159327865,
          0.7630225177790795,
          0.3617029698990562,
          0.6179257713442384,
          0.012387443091697786,
          0.16205712189665625
         ],
         "xaxis": "x4",
         "y": [
          0.6875956284153006,
          0.5923030303030303,
          0.6031746031746031,
          0.5,
          0.5,
          0.5,
          0.5,
          0.5,
          0.5274996057404195,
          0.5,
          0.7238845144356956,
          0.5922173158807759,
          0.5307486631016043,
          0.5,
          0.5,
          0.5,
          0.5932614555256064,
          0.5,
          0.5,
          0.6973997787045705,
          0.5,
          0.5,
          0.7601162481142959,
          0.6951776976564512,
          0.7452538713519954,
          0.5149253731343284,
          0.6997879787305648,
          0.6805555555555556,
          0.6959697217675942,
          0.6282051282051282,
          0.6290317250495704,
          0.7228993298475588,
          0.5448369565217391,
          0.7637799771602588,
          0.6861185983827494,
          0.6922886467993157,
          0.7245671745152354,
          0.6655681567125709,
          0.7084574151280525,
          0.6699872114154943,
          0.6099254742547425,
          0.5,
          0.611449864498645,
          0.7616441709210434,
          0.7392896174863388,
          0.7181094182825485,
          0.6735221858248959,
          0.6327369623144271,
          0.7492790194664745,
          0.7100864890135578,
          0.5,
          0.7859078590785907,
          0.6807098765432098,
          0.5655191059841385,
          0.5254237288135594,
          0.7257325687110987,
          0.6814750718020472,
          0.7365650969529087,
          0.7448407202216066,
          0.5,
          0.7330491201847951,
          0.5835151515151515,
          0.5,
          0.5,
          0.7380952380952381,
          0.7315638906547998,
          0.7538580246913581,
          0.6400854815911692,
          0.7446516939474686,
          0.7506428237494156,
          0.7918831168831169,
          0.7326423576423577,
          0.7216243862520458,
          0.7745032329285602,
          0.5801015394693744,
          0.7956372840976772,
          0.5,
          0.7530972417017299,
          0.6649062725306417,
          0.7172179872718372,
          0.7329697736748064,
          0.7376284814323608,
          0.7266775777414075,
          0.6473235156615241,
          0.8106568364611261,
          0.5,
          0.7103174603174602,
          0.7069393912503328,
          0.7197178379988088,
          0.6778455284552845,
          0.7602553603335318,
          0.5629370629370629,
          0.7320593735390368,
          0.7908110440034513,
          0.7233333333333333,
          0.5457575757575758,
          0.772977022977023,
          0.7775054073540015,
          0.71195420886884,
          0.7354733090185677,
          0.5121951219512195,
          0.5,
          0.6684751261715933,
          0.5338599162542824,
          0.5382234663302319
         ],
         "yaxis": "y4"
        },
        {
         "marker": {
          "color": [
           0,
           1,
           2,
           3,
           4,
           5,
           6,
           7,
           8,
           9,
           10,
           11,
           12,
           13,
           14,
           15,
           16,
           17,
           19,
           21,
           23,
           24,
           27,
           28,
           29,
           35,
           38,
           40,
           43,
           47,
           53,
           56,
           57,
           61,
           63,
           66,
           68,
           72,
           75,
           79,
           82,
           84,
           96,
           110,
           138,
           148,
           153,
           156,
           165,
           166,
           172,
           183,
           200,
           208,
           210,
           221,
           224,
           230,
           233,
           234,
           242,
           243,
           249,
           262,
           313,
           319,
           327,
           329,
           335,
           339,
           342,
           348,
           355,
           376,
           392,
           403,
           437,
           443,
           467,
           481,
           505,
           518,
           529,
           546,
           550,
           551,
           566,
           589,
           597,
           612,
           624,
           641,
           658,
           711,
           792,
           837,
           891,
           920,
           924,
           937,
           938,
           959,
           971,
           975,
           985
          ],
          "colorbar": {
           "title": {
            "text": "Trial"
           },
           "x": 1,
           "xpad": 40
          },
          "colorscale": [
           [
            0,
            "rgb(247,251,255)"
           ],
           [
            0.125,
            "rgb(222,235,247)"
           ],
           [
            0.25,
            "rgb(198,219,239)"
           ],
           [
            0.375,
            "rgb(158,202,225)"
           ],
           [
            0.5,
            "rgb(107,174,214)"
           ],
           [
            0.625,
            "rgb(66,146,198)"
           ],
           [
            0.75,
            "rgb(33,113,181)"
           ],
           [
            0.875,
            "rgb(8,81,156)"
           ],
           [
            1,
            "rgb(8,48,107)"
           ]
          ],
          "line": {
           "color": "Grey",
           "width": 0.5
          },
          "showscale": false
         },
         "mode": "markers",
         "showlegend": false,
         "type": "scatter",
         "x": [
          0.8766897783355315,
          0.9126814030765047,
          0.6547517915431728,
          0.04255223450550448,
          0.5097568048693956,
          0.7802773169126459,
          0.7863491751186004,
          0.5169340229205117,
          0.8574749322308913,
          0.20022810349165887,
          0.3752739218903779,
          0.257667497501188,
          0.06687092713160865,
          0.9773543640071923,
          0.6693534472170198,
          0.002340011313181174,
          0.09496574334398261,
          0.8217257316122335,
          0.8976241649185274,
          0.569388121539525,
          0.7491380920365488,
          0.06163258650918596,
          0.7724520078823465,
          0.026603064174655904,
          0.26426637426719735,
          0.6303333294091725,
          0.9243011696036113,
          0.7493266512150107,
          0.19884133405056637,
          0.47016111451017834,
          0.96814692321773,
          0.8164043998763011,
          0.9392346437982549,
          0.893388873903311,
          0.8814758508226948,
          0.802738302116096,
          0.9217391069678746,
          0.47496585655262874,
          0.04100297550512729,
          0.5751376025028533,
          0.9262721604186929,
          0.1088966316697257,
          0.38358801948094196,
          0.6202707452152408,
          0.6922602795861553,
          0.402458410418958,
          0.007358992999234512,
          0.29289004130317137,
          0.5775247396314052,
          0.6450117387222631,
          0.4786833432467793,
          0.12558932059416472,
          0.7185922491433525,
          0.43557498731558575,
          0.5142613078644086,
          0.7213314694849902,
          0.9771850592126592,
          0.4270852790741451,
          0.47096593303612433,
          0.9284646057688832,
          0.9496100884127131,
          0.5647752540863876,
          0.09470313564093748,
          0.8757868177179912,
          0.6412197410033273,
          0.42287787807558014,
          0.6920146173433643,
          0.4324499671697038,
          0.15888813801497292,
          0.6613467963866259,
          0.2926314140422836,
          0.26780420811503497,
          0.2081871026032731,
          0.23859952601804904,
          0.4345278230503393,
          0.5525324055605881,
          0.2390437776577141,
          0.8126881588893066,
          0.18923657926818765,
          0.5251203116615066,
          0.9660461515809552,
          0.6676844868118854,
          0.8866703040204615,
          0.9287928385418494,
          0.46771388214902837,
          0.2086733266086178,
          0.798315315667952,
          0.8201700028659662,
          0.9942803995020549,
          0.6680632587127227,
          0.14658586568818024,
          0.4297465576959544,
          0.655091775548194,
          0.8391761474070927,
          0.8264795574627364,
          0.6647925770927939,
          0.7245657188008942,
          0.15698134484864176,
          0.7782352920296027,
          0.7198144537299954,
          0.35179457902083333,
          0.4986802772100069,
          0.953406932946136,
          0.9775357952547183,
          0.33563436098550276
         ],
         "xaxis": "x5",
         "y": [
          0.6875956284153006,
          0.5923030303030303,
          0.6031746031746031,
          0.5,
          0.5,
          0.5,
          0.5,
          0.5,
          0.5274996057404195,
          0.5,
          0.7238845144356956,
          0.5922173158807759,
          0.5307486631016043,
          0.5,
          0.5,
          0.5,
          0.5932614555256064,
          0.5,
          0.5,
          0.6973997787045705,
          0.5,
          0.5,
          0.7601162481142959,
          0.6951776976564512,
          0.7452538713519954,
          0.5149253731343284,
          0.6997879787305648,
          0.6805555555555556,
          0.6959697217675942,
          0.6282051282051282,
          0.6290317250495704,
          0.7228993298475588,
          0.5448369565217391,
          0.7637799771602588,
          0.6861185983827494,
          0.6922886467993157,
          0.7245671745152354,
          0.6655681567125709,
          0.7084574151280525,
          0.6699872114154943,
          0.6099254742547425,
          0.5,
          0.611449864498645,
          0.7616441709210434,
          0.7392896174863388,
          0.7181094182825485,
          0.6735221858248959,
          0.6327369623144271,
          0.7492790194664745,
          0.7100864890135578,
          0.5,
          0.7859078590785907,
          0.6807098765432098,
          0.5655191059841385,
          0.5254237288135594,
          0.7257325687110987,
          0.6814750718020472,
          0.7365650969529087,
          0.7448407202216066,
          0.5,
          0.7330491201847951,
          0.5835151515151515,
          0.5,
          0.5,
          0.7380952380952381,
          0.7315638906547998,
          0.7538580246913581,
          0.6400854815911692,
          0.7446516939474686,
          0.7506428237494156,
          0.7918831168831169,
          0.7326423576423577,
          0.7216243862520458,
          0.7745032329285602,
          0.5801015394693744,
          0.7956372840976772,
          0.5,
          0.7530972417017299,
          0.6649062725306417,
          0.7172179872718372,
          0.7329697736748064,
          0.7376284814323608,
          0.7266775777414075,
          0.6473235156615241,
          0.8106568364611261,
          0.5,
          0.7103174603174602,
          0.7069393912503328,
          0.7197178379988088,
          0.6778455284552845,
          0.7602553603335318,
          0.5629370629370629,
          0.7320593735390368,
          0.7908110440034513,
          0.7233333333333333,
          0.5457575757575758,
          0.772977022977023,
          0.7775054073540015,
          0.71195420886884,
          0.7354733090185677,
          0.5121951219512195,
          0.5,
          0.6684751261715933,
          0.5338599162542824,
          0.5382234663302319
         ],
         "yaxis": "y5"
        },
        {
         "marker": {
          "color": [
           0,
           1,
           2,
           3,
           4,
           5,
           6,
           7,
           8,
           9,
           10,
           11,
           12,
           13,
           14,
           15,
           16,
           17,
           19,
           21,
           23,
           24,
           27,
           28,
           29,
           35,
           38,
           40,
           43,
           47,
           53,
           56,
           57,
           61,
           63,
           66,
           68,
           72,
           75,
           79,
           82,
           84,
           96,
           110,
           138,
           148,
           153,
           156,
           165,
           166,
           172,
           183,
           200,
           208,
           210,
           221,
           224,
           230,
           233,
           234,
           242,
           243,
           249,
           262,
           313,
           319,
           327,
           329,
           335,
           339,
           342,
           348,
           355,
           376,
           392,
           403,
           437,
           443,
           467,
           481,
           505,
           518,
           529,
           546,
           550,
           551,
           566,
           589,
           597,
           612,
           624,
           641,
           658,
           711,
           792,
           837,
           891,
           920,
           924,
           937,
           938,
           959,
           971,
           975,
           985
          ],
          "colorbar": {
           "title": {
            "text": "Trial"
           },
           "x": 1,
           "xpad": 40
          },
          "colorscale": [
           [
            0,
            "rgb(247,251,255)"
           ],
           [
            0.125,
            "rgb(222,235,247)"
           ],
           [
            0.25,
            "rgb(198,219,239)"
           ],
           [
            0.375,
            "rgb(158,202,225)"
           ],
           [
            0.5,
            "rgb(107,174,214)"
           ],
           [
            0.625,
            "rgb(66,146,198)"
           ],
           [
            0.75,
            "rgb(33,113,181)"
           ],
           [
            0.875,
            "rgb(8,81,156)"
           ],
           [
            1,
            "rgb(8,48,107)"
           ]
          ],
          "line": {
           "color": "Grey",
           "width": 0.5
          },
          "showscale": false
         },
         "mode": "markers",
         "showlegend": false,
         "type": "scatter",
         "x": [
          0.3560259381470581,
          0.2220995603889031,
          1.154148826847421,
          0.0052909210742954176,
          1.914261482222052,
          1.1929185083556237,
          1.493155714937507,
          1.1828972500356463,
          1.4363869125466338,
          0.5921077678035298,
          1.4853568005855518,
          1.9430066372551729,
          0.488810523510544,
          0.5483306224546278,
          0.06699434243014268,
          1.5773365240029737,
          0.8422359826085409,
          0.2373951444242215,
          1.8178538667836361,
          0.6148768631495752,
          0.1063419671718116,
          1.7447693755739908,
          1.8463073028031787,
          0.7616709210658023,
          0.8686498972094909,
          0.873871717347984,
          0.17186971190189163,
          1.3619119473644334,
          1.0018933897200655,
          1.6896157506543457,
          1.0229249128254478,
          0.27929917996715936,
          0.3591787089484588,
          0.5956793551040174,
          1.5329664863589878,
          0.14176116637321318,
          0.9173022241228286,
          1.1547625130898262,
          1.3533339017118813,
          0.9139663762651394,
          0.9823541805975491,
          0.805177039278364,
          0.7816456399735116,
          1.8898748835512709,
          1.8550112005113046,
          1.2759737487397043,
          1.571134960958866,
          0.316383616264926,
          1.5273677989664576,
          1.8902087026671508,
          0.8270986987846898,
          0.480703074843959,
          1.7081298237699787,
          1.2839315719988138,
          0.11334033548725864,
          1.347258042717694,
          0.8313258063087676,
          1.3008534049948028,
          0.8380274696545554,
          0.03450282499570622,
          1.0628625848427176,
          1.6769359320477664,
          0.19595657369782565,
          1.946215970651182,
          1.750289071553841,
          0.915218597014634,
          1.2595466797822212,
          1.1409320581310276,
          1.2252472199907811,
          1.872848163873399,
          1.2620982362000182,
          0.513563169066163,
          0.43531498228983645,
          0.8946649670319787,
          1.479207095442129,
          1.44418357980871,
          0.16787738150262996,
          1.507773904983625,
          0.333533825534554,
          0.5133418159776094,
          1.2356493373405815,
          0.32413516852926244,
          1.0584610170620306,
          0.06709403522371862,
          1.919342616121968,
          1.96938477520465,
          1.6344697015880614,
          1.7641219039810931,
          1.3672912157087145,
          1.8910257066286407,
          1.7881479140613517,
          1.636483284677354,
          0.6522462601369331,
          1.6834931462601341,
          0.3381879045777523,
          0.13480522534262965,
          1.1378743292440217,
          1.8386343077846266,
          1.8542040094988186,
          0.4225172471602241,
          1.3307178270061402,
          0.10372653070952734,
          1.4268204797134059,
          1.400860354942532,
          0.09806958111694404
         ],
         "xaxis": "x6",
         "y": [
          0.6875956284153006,
          0.5923030303030303,
          0.6031746031746031,
          0.5,
          0.5,
          0.5,
          0.5,
          0.5,
          0.5274996057404195,
          0.5,
          0.7238845144356956,
          0.5922173158807759,
          0.5307486631016043,
          0.5,
          0.5,
          0.5,
          0.5932614555256064,
          0.5,
          0.5,
          0.6973997787045705,
          0.5,
          0.5,
          0.7601162481142959,
          0.6951776976564512,
          0.7452538713519954,
          0.5149253731343284,
          0.6997879787305648,
          0.6805555555555556,
          0.6959697217675942,
          0.6282051282051282,
          0.6290317250495704,
          0.7228993298475588,
          0.5448369565217391,
          0.7637799771602588,
          0.6861185983827494,
          0.6922886467993157,
          0.7245671745152354,
          0.6655681567125709,
          0.7084574151280525,
          0.6699872114154943,
          0.6099254742547425,
          0.5,
          0.611449864498645,
          0.7616441709210434,
          0.7392896174863388,
          0.7181094182825485,
          0.6735221858248959,
          0.6327369623144271,
          0.7492790194664745,
          0.7100864890135578,
          0.5,
          0.7859078590785907,
          0.6807098765432098,
          0.5655191059841385,
          0.5254237288135594,
          0.7257325687110987,
          0.6814750718020472,
          0.7365650969529087,
          0.7448407202216066,
          0.5,
          0.7330491201847951,
          0.5835151515151515,
          0.5,
          0.5,
          0.7380952380952381,
          0.7315638906547998,
          0.7538580246913581,
          0.6400854815911692,
          0.7446516939474686,
          0.7506428237494156,
          0.7918831168831169,
          0.7326423576423577,
          0.7216243862520458,
          0.7745032329285602,
          0.5801015394693744,
          0.7956372840976772,
          0.5,
          0.7530972417017299,
          0.6649062725306417,
          0.7172179872718372,
          0.7329697736748064,
          0.7376284814323608,
          0.7266775777414075,
          0.6473235156615241,
          0.8106568364611261,
          0.5,
          0.7103174603174602,
          0.7069393912503328,
          0.7197178379988088,
          0.6778455284552845,
          0.7602553603335318,
          0.5629370629370629,
          0.7320593735390368,
          0.7908110440034513,
          0.7233333333333333,
          0.5457575757575758,
          0.772977022977023,
          0.7775054073540015,
          0.71195420886884,
          0.7354733090185677,
          0.5121951219512195,
          0.5,
          0.6684751261715933,
          0.5338599162542824,
          0.5382234663302319
         ],
         "yaxis": "y6"
        },
        {
         "marker": {
          "color": [
           0,
           1,
           2,
           3,
           4,
           5,
           6,
           7,
           8,
           9,
           10,
           11,
           12,
           13,
           14,
           15,
           16,
           17,
           19,
           21,
           23,
           24,
           27,
           28,
           29,
           35,
           38,
           40,
           43,
           47,
           53,
           56,
           57,
           61,
           63,
           66,
           68,
           72,
           75,
           79,
           82,
           84,
           96,
           110,
           138,
           148,
           153,
           156,
           165,
           166,
           172,
           183,
           200,
           208,
           210,
           221,
           224,
           230,
           233,
           234,
           242,
           243,
           249,
           262,
           313,
           319,
           327,
           329,
           335,
           339,
           342,
           348,
           355,
           376,
           392,
           403,
           437,
           443,
           467,
           481,
           505,
           518,
           529,
           546,
           550,
           551,
           566,
           589,
           597,
           612,
           624,
           641,
           658,
           711,
           792,
           837,
           891,
           920,
           924,
           937,
           938,
           959,
           971,
           975,
           985
          ],
          "colorbar": {
           "title": {
            "text": "Trial"
           },
           "x": 1,
           "xpad": 40
          },
          "colorscale": [
           [
            0,
            "rgb(247,251,255)"
           ],
           [
            0.125,
            "rgb(222,235,247)"
           ],
           [
            0.25,
            "rgb(198,219,239)"
           ],
           [
            0.375,
            "rgb(158,202,225)"
           ],
           [
            0.5,
            "rgb(107,174,214)"
           ],
           [
            0.625,
            "rgb(66,146,198)"
           ],
           [
            0.75,
            "rgb(33,113,181)"
           ],
           [
            0.875,
            "rgb(8,81,156)"
           ],
           [
            1,
            "rgb(8,48,107)"
           ]
          ],
          "line": {
           "color": "Grey",
           "width": 0.5
          },
          "showscale": false
         },
         "mode": "markers",
         "showlegend": false,
         "type": "scatter",
         "x": [
          38.094368233831176,
          71.10903416400303,
          14.471380175696074,
          30.9619980868774,
          61.22798476333474,
          99.47615978809122,
          94.63149958826315,
          12.420775049132855,
          57.01644756328977,
          77.03543437904456,
          33.02164708341589,
          27.03231079277297,
          30.992015272145334,
          8.651115792751549,
          80.09819017192122,
          47.83515595672599,
          19.78112945196961,
          57.38182541206088,
          45.438347254168775,
          6.79689538152971,
          14.09397611909303,
          35.491526930424634,
          9.408269794684253,
          23.03839928561094,
          20.222356782052334,
          12.073767087175261,
          46.89870233315289,
          28.795431529984207,
          20.378168909141557,
          62.117323890303666,
          57.16651028302616,
          39.30878514923315,
          15.25260989418241,
          3.5478572965633135,
          63.470379146708424,
          6.8692272698385235,
          18.95282364439145,
          70.54873146719954,
          32.35815050219212,
          15.674387377557295,
          80.42733613065523,
          78.06898719103,
          16.623631923424806,
          21.147600487312552,
          15.097395983211356,
          13.80264702860443,
          14.669341554182928,
          1.58323505090489,
          7.4542377584287625,
          18.48095557051112,
          42.156398199938984,
          23.05219069901952,
          46.00452569362022,
          24.541868608235447,
          29.295310632098253,
          20.182689609003074,
          31.432573733837696,
          28.507792721902256,
          53.43444879570663,
          24.362445898908145,
          25.391446444409496,
          49.315036670465325,
          24.85759283699789,
          26.175646387279226,
          9.953923574930425,
          13.023461243378778,
          1.990608814869034,
          14.668789013432441,
          13.953895506057208,
          10.340187055340266,
          5.380881081219982,
          0.46807266962976996,
          17.996745770863264,
          11.836903170640486,
          82.5449577135714,
          5.191935932632276,
          44.31844366868123,
          8.483321561746616,
          19.140685385714097,
          41.663618667490994,
          22.182652053088553,
          14.803061887672108,
          25.042114281409386,
          3.8400441947315165,
          0.4784987632103332,
          2.651489294529979,
          11.219854352367548,
          30.553448040568036,
          11.20438021255412,
          34.48090258298079,
          3.215053925271786,
          36.86551579134245,
          25.894333275982447,
          14.957948742728675,
          51.82629947411254,
          54.07695206074867,
          4.802888061068948,
          3.61695332917951,
          36.65438747763587,
          3.8686455662786865,
          18.577472630089854,
          11.34052428673494,
          60.17953900330869,
          10.027367223114531,
          42.485900253678835
         ],
         "xaxis": "x7",
         "y": [
          0.6875956284153006,
          0.5923030303030303,
          0.6031746031746031,
          0.5,
          0.5,
          0.5,
          0.5,
          0.5,
          0.5274996057404195,
          0.5,
          0.7238845144356956,
          0.5922173158807759,
          0.5307486631016043,
          0.5,
          0.5,
          0.5,
          0.5932614555256064,
          0.5,
          0.5,
          0.6973997787045705,
          0.5,
          0.5,
          0.7601162481142959,
          0.6951776976564512,
          0.7452538713519954,
          0.5149253731343284,
          0.6997879787305648,
          0.6805555555555556,
          0.6959697217675942,
          0.6282051282051282,
          0.6290317250495704,
          0.7228993298475588,
          0.5448369565217391,
          0.7637799771602588,
          0.6861185983827494,
          0.6922886467993157,
          0.7245671745152354,
          0.6655681567125709,
          0.7084574151280525,
          0.6699872114154943,
          0.6099254742547425,
          0.5,
          0.611449864498645,
          0.7616441709210434,
          0.7392896174863388,
          0.7181094182825485,
          0.6735221858248959,
          0.6327369623144271,
          0.7492790194664745,
          0.7100864890135578,
          0.5,
          0.7859078590785907,
          0.6807098765432098,
          0.5655191059841385,
          0.5254237288135594,
          0.7257325687110987,
          0.6814750718020472,
          0.7365650969529087,
          0.7448407202216066,
          0.5,
          0.7330491201847951,
          0.5835151515151515,
          0.5,
          0.5,
          0.7380952380952381,
          0.7315638906547998,
          0.7538580246913581,
          0.6400854815911692,
          0.7446516939474686,
          0.7506428237494156,
          0.7918831168831169,
          0.7326423576423577,
          0.7216243862520458,
          0.7745032329285602,
          0.5801015394693744,
          0.7956372840976772,
          0.5,
          0.7530972417017299,
          0.6649062725306417,
          0.7172179872718372,
          0.7329697736748064,
          0.7376284814323608,
          0.7266775777414075,
          0.6473235156615241,
          0.8106568364611261,
          0.5,
          0.7103174603174602,
          0.7069393912503328,
          0.7197178379988088,
          0.6778455284552845,
          0.7602553603335318,
          0.5629370629370629,
          0.7320593735390368,
          0.7908110440034513,
          0.7233333333333333,
          0.5457575757575758,
          0.772977022977023,
          0.7775054073540015,
          0.71195420886884,
          0.7354733090185677,
          0.5121951219512195,
          0.5,
          0.6684751261715933,
          0.5338599162542824,
          0.5382234663302319
         ],
         "yaxis": "y7"
        },
        {
         "marker": {
          "color": [
           0,
           1,
           2,
           3,
           4,
           5,
           6,
           7,
           8,
           9,
           10,
           11,
           12,
           13,
           14,
           15,
           16,
           17,
           19,
           21,
           23,
           24,
           27,
           28,
           29,
           35,
           38,
           40,
           43,
           47,
           53,
           56,
           57,
           61,
           63,
           66,
           68,
           72,
           75,
           79,
           82,
           84,
           96,
           110,
           138,
           148,
           153,
           156,
           165,
           166,
           172,
           183,
           200,
           208,
           210,
           221,
           224,
           230,
           233,
           234,
           242,
           243,
           249,
           262,
           313,
           319,
           327,
           329,
           335,
           339,
           342,
           348,
           355,
           376,
           392,
           403,
           437,
           443,
           467,
           481,
           505,
           518,
           529,
           546,
           550,
           551,
           566,
           589,
           597,
           612,
           624,
           641,
           658,
           711,
           792,
           837,
           891,
           920,
           924,
           937,
           938,
           959,
           971,
           975,
           985
          ],
          "colorbar": {
           "title": {
            "text": "Trial"
           },
           "x": 1,
           "xpad": 40
          },
          "colorscale": [
           [
            0,
            "rgb(247,251,255)"
           ],
           [
            0.125,
            "rgb(222,235,247)"
           ],
           [
            0.25,
            "rgb(198,219,239)"
           ],
           [
            0.375,
            "rgb(158,202,225)"
           ],
           [
            0.5,
            "rgb(107,174,214)"
           ],
           [
            0.625,
            "rgb(66,146,198)"
           ],
           [
            0.75,
            "rgb(33,113,181)"
           ],
           [
            0.875,
            "rgb(8,81,156)"
           ],
           [
            1,
            "rgb(8,48,107)"
           ]
          ],
          "line": {
           "color": "Grey",
           "width": 0.5
          },
          "showscale": false
         },
         "mode": "markers",
         "showlegend": false,
         "type": "scatter",
         "x": [
          "depthwise",
          "lossguide",
          "lossguide",
          "depthwise",
          "depthwise",
          "lossguide",
          "depthwise",
          "lossguide",
          "depthwise",
          "depthwise",
          "depthwise",
          "depthwise",
          "depthwise",
          "lossguide",
          "lossguide",
          "depthwise",
          "depthwise",
          "depthwise",
          "lossguide",
          "lossguide",
          "depthwise",
          "lossguide",
          "depthwise",
          "lossguide",
          "depthwise",
          "depthwise",
          "lossguide",
          "lossguide",
          "depthwise",
          "lossguide",
          "depthwise",
          "depthwise",
          "depthwise",
          "lossguide",
          "depthwise",
          "lossguide",
          "depthwise",
          "lossguide",
          "lossguide",
          "depthwise",
          "depthwise",
          "depthwise",
          "depthwise",
          "lossguide",
          "depthwise",
          "lossguide",
          "depthwise",
          "depthwise",
          "depthwise",
          "lossguide",
          "depthwise",
          "depthwise",
          "depthwise",
          "lossguide",
          "depthwise",
          "depthwise",
          "depthwise",
          "depthwise",
          "depthwise",
          "lossguide",
          "depthwise",
          "depthwise",
          "depthwise",
          "lossguide",
          "lossguide",
          "depthwise",
          "lossguide",
          "lossguide",
          "depthwise",
          "depthwise",
          "depthwise",
          "lossguide",
          "depthwise",
          "depthwise",
          "depthwise",
          "depthwise",
          "lossguide",
          "lossguide",
          "depthwise",
          "depthwise",
          "depthwise",
          "lossguide",
          "depthwise",
          "lossguide",
          "depthwise",
          "lossguide",
          "depthwise",
          "depthwise",
          "depthwise",
          "lossguide",
          "lossguide",
          "lossguide",
          "depthwise",
          "depthwise",
          "lossguide",
          "depthwise",
          "depthwise",
          "lossguide",
          "lossguide",
          "depthwise",
          "lossguide",
          "depthwise",
          "depthwise",
          "lossguide",
          "depthwise"
         ],
         "xaxis": "x8",
         "y": [
          0.6875956284153006,
          0.5923030303030303,
          0.6031746031746031,
          0.5,
          0.5,
          0.5,
          0.5,
          0.5,
          0.5274996057404195,
          0.5,
          0.7238845144356956,
          0.5922173158807759,
          0.5307486631016043,
          0.5,
          0.5,
          0.5,
          0.5932614555256064,
          0.5,
          0.5,
          0.6973997787045705,
          0.5,
          0.5,
          0.7601162481142959,
          0.6951776976564512,
          0.7452538713519954,
          0.5149253731343284,
          0.6997879787305648,
          0.6805555555555556,
          0.6959697217675942,
          0.6282051282051282,
          0.6290317250495704,
          0.7228993298475588,
          0.5448369565217391,
          0.7637799771602588,
          0.6861185983827494,
          0.6922886467993157,
          0.7245671745152354,
          0.6655681567125709,
          0.7084574151280525,
          0.6699872114154943,
          0.6099254742547425,
          0.5,
          0.611449864498645,
          0.7616441709210434,
          0.7392896174863388,
          0.7181094182825485,
          0.6735221858248959,
          0.6327369623144271,
          0.7492790194664745,
          0.7100864890135578,
          0.5,
          0.7859078590785907,
          0.6807098765432098,
          0.5655191059841385,
          0.5254237288135594,
          0.7257325687110987,
          0.6814750718020472,
          0.7365650969529087,
          0.7448407202216066,
          0.5,
          0.7330491201847951,
          0.5835151515151515,
          0.5,
          0.5,
          0.7380952380952381,
          0.7315638906547998,
          0.7538580246913581,
          0.6400854815911692,
          0.7446516939474686,
          0.7506428237494156,
          0.7918831168831169,
          0.7326423576423577,
          0.7216243862520458,
          0.7745032329285602,
          0.5801015394693744,
          0.7956372840976772,
          0.5,
          0.7530972417017299,
          0.6649062725306417,
          0.7172179872718372,
          0.7329697736748064,
          0.7376284814323608,
          0.7266775777414075,
          0.6473235156615241,
          0.8106568364611261,
          0.5,
          0.7103174603174602,
          0.7069393912503328,
          0.7197178379988088,
          0.6778455284552845,
          0.7602553603335318,
          0.5629370629370629,
          0.7320593735390368,
          0.7908110440034513,
          0.7233333333333333,
          0.5457575757575758,
          0.772977022977023,
          0.7775054073540015,
          0.71195420886884,
          0.7354733090185677,
          0.5121951219512195,
          0.5,
          0.6684751261715933,
          0.5338599162542824,
          0.5382234663302319
         ],
         "yaxis": "y8"
        },
        {
         "marker": {
          "color": [
           0,
           1,
           2,
           3,
           4,
           5,
           6,
           7,
           8,
           9,
           10,
           11,
           12,
           13,
           14,
           15,
           16,
           17,
           19,
           21,
           23,
           24,
           27,
           28,
           29,
           35,
           38,
           40,
           43,
           47,
           53,
           56,
           57,
           61,
           63,
           66,
           68,
           72,
           75,
           79,
           82,
           84,
           96,
           110,
           138,
           148,
           153,
           156,
           165,
           166,
           172,
           183,
           200,
           208,
           210,
           221,
           224,
           230,
           233,
           234,
           242,
           243,
           249,
           262,
           313,
           319,
           327,
           329,
           335,
           339,
           342,
           348,
           355,
           376,
           392,
           403,
           437,
           443,
           467,
           481,
           505,
           518,
           529,
           546,
           550,
           551,
           566,
           589,
           597,
           612,
           624,
           641,
           658,
           711,
           792,
           837,
           891,
           920,
           924,
           937,
           938,
           959,
           971,
           975,
           985
          ],
          "colorbar": {
           "title": {
            "text": "Trial"
           },
           "x": 1,
           "xpad": 40
          },
          "colorscale": [
           [
            0,
            "rgb(247,251,255)"
           ],
           [
            0.125,
            "rgb(222,235,247)"
           ],
           [
            0.25,
            "rgb(198,219,239)"
           ],
           [
            0.375,
            "rgb(158,202,225)"
           ],
           [
            0.5,
            "rgb(107,174,214)"
           ],
           [
            0.625,
            "rgb(66,146,198)"
           ],
           [
            0.75,
            "rgb(33,113,181)"
           ],
           [
            0.875,
            "rgb(8,81,156)"
           ],
           [
            1,
            "rgb(8,48,107)"
           ]
          ],
          "line": {
           "color": "Grey",
           "width": 0.5
          },
          "showscale": false
         },
         "mode": "markers",
         "showlegend": false,
         "type": "scatter",
         "x": [
          6.864798910027463,
          5.222240167872422,
          6.167956513968236,
          2.4928115995842846,
          7.675937671528639,
          3.164877789773844,
          2.6732448030818325,
          2.7830578648995665,
          7.070403165132455,
          8.90150920628387,
          2.5416531603667005,
          9.603303438401879,
          3.10634496150604,
          6.879767877665468,
          1.49755117699356,
          8.58124442178478,
          1.5193935602476305,
          9.570165091980497,
          8.317518412154977,
          8.375515815091868,
          2.6790089628473637,
          8.872057655016283,
          1.9982387627460814,
          6.58817651253934,
          0.33319960336791266,
          1.218969552498781,
          6.5164854281831355,
          4.900080095606936,
          4.9777104668454015,
          0.9975784355999534,
          1.0336319870499002,
          3.43693680752901,
          9.871403091227899,
          8.040536642600589,
          6.763243815573086,
          6.233259062091937,
          6.148729850925642,
          0.8136470054871439,
          6.35929380736712,
          9.669055695126502,
          2.222505771669304,
          8.831283465687164,
          9.6821125668999,
          0.04894052523712617,
          0.583555423609822,
          1.2948307328311006,
          4.033031756374481,
          5.064014017602567,
          2.016938224449771,
          9.707293750938254,
          6.564120133847427,
          5.496870871466786,
          1.2490442121643777,
          2.762919001674363,
          3.376618533125973,
          2.713805856496543,
          7.967177341465745,
          0.6527227888885898,
          0.16365638897894627,
          3.989490497516546,
          4.270743237482361,
          0.05521591607186037,
          7.691887781638079,
          8.57934864976477,
          3.1496106642516373,
          0.36606149959896345,
          2.6522960079806737,
          6.467451113057563,
          0.3392500196458592,
          6.850366849755801,
          7.168941136704722,
          8.714889486424127,
          0.5050907900860456,
          7.304836946225511,
          6.523977110960381,
          2.8831414763544982,
          9.054730337521208,
          4.007589150122669,
          6.4646698191393845,
          2.1396755986906366,
          8.67635470240785,
          1.964782094244953,
          5.991179288663047,
          9.394787276392323,
          1.2024475199373714,
          1.0492984112960693,
          6.331703268366725,
          6.673035217618185,
          3.112725323282283,
          8.565855284921724,
          8.678846428734461,
          4.246293599664949,
          3.7217391032126304,
          0.9935310211871096,
          9.569027318365599,
          2.306770284125025,
          1.602055934462066,
          2.8676786684862106,
          6.1573466731744775,
          7.36376844238142,
          3.595051211994279,
          1.9177426015610033,
          5.468082082494562,
          5.35862619324759,
          9.073998287905043
         ],
         "xaxis": "x9",
         "y": [
          0.6875956284153006,
          0.5923030303030303,
          0.6031746031746031,
          0.5,
          0.5,
          0.5,
          0.5,
          0.5,
          0.5274996057404195,
          0.5,
          0.7238845144356956,
          0.5922173158807759,
          0.5307486631016043,
          0.5,
          0.5,
          0.5,
          0.5932614555256064,
          0.5,
          0.5,
          0.6973997787045705,
          0.5,
          0.5,
          0.7601162481142959,
          0.6951776976564512,
          0.7452538713519954,
          0.5149253731343284,
          0.6997879787305648,
          0.6805555555555556,
          0.6959697217675942,
          0.6282051282051282,
          0.6290317250495704,
          0.7228993298475588,
          0.5448369565217391,
          0.7637799771602588,
          0.6861185983827494,
          0.6922886467993157,
          0.7245671745152354,
          0.6655681567125709,
          0.7084574151280525,
          0.6699872114154943,
          0.6099254742547425,
          0.5,
          0.611449864498645,
          0.7616441709210434,
          0.7392896174863388,
          0.7181094182825485,
          0.6735221858248959,
          0.6327369623144271,
          0.7492790194664745,
          0.7100864890135578,
          0.5,
          0.7859078590785907,
          0.6807098765432098,
          0.5655191059841385,
          0.5254237288135594,
          0.7257325687110987,
          0.6814750718020472,
          0.7365650969529087,
          0.7448407202216066,
          0.5,
          0.7330491201847951,
          0.5835151515151515,
          0.5,
          0.5,
          0.7380952380952381,
          0.7315638906547998,
          0.7538580246913581,
          0.6400854815911692,
          0.7446516939474686,
          0.7506428237494156,
          0.7918831168831169,
          0.7326423576423577,
          0.7216243862520458,
          0.7745032329285602,
          0.5801015394693744,
          0.7956372840976772,
          0.5,
          0.7530972417017299,
          0.6649062725306417,
          0.7172179872718372,
          0.7329697736748064,
          0.7376284814323608,
          0.7266775777414075,
          0.6473235156615241,
          0.8106568364611261,
          0.5,
          0.7103174603174602,
          0.7069393912503328,
          0.7197178379988088,
          0.6778455284552845,
          0.7602553603335318,
          0.5629370629370629,
          0.7320593735390368,
          0.7908110440034513,
          0.7233333333333333,
          0.5457575757575758,
          0.772977022977023,
          0.7775054073540015,
          0.71195420886884,
          0.7354733090185677,
          0.5121951219512195,
          0.5,
          0.6684751261715933,
          0.5338599162542824,
          0.5382234663302319
         ],
         "yaxis": "y9"
        },
        {
         "marker": {
          "color": [
           0,
           1,
           2,
           3,
           4,
           5,
           6,
           7,
           8,
           9,
           10,
           11,
           12,
           13,
           14,
           15,
           16,
           17,
           19,
           21,
           23,
           24,
           27,
           28,
           29,
           35,
           38,
           40,
           43,
           47,
           53,
           56,
           57,
           61,
           63,
           66,
           68,
           72,
           75,
           79,
           82,
           84,
           96,
           110,
           138,
           148,
           153,
           156,
           165,
           166,
           172,
           183,
           200,
           208,
           210,
           221,
           224,
           230,
           233,
           234,
           242,
           243,
           249,
           262,
           313,
           319,
           327,
           329,
           335,
           339,
           342,
           348,
           355,
           376,
           392,
           403,
           437,
           443,
           467,
           481,
           505,
           518,
           529,
           546,
           550,
           551,
           566,
           589,
           597,
           612,
           624,
           641,
           658,
           711,
           792,
           837,
           891,
           920,
           924,
           937,
           938,
           959,
           971,
           975,
           985
          ],
          "colorbar": {
           "title": {
            "text": "Trial"
           },
           "x": 1,
           "xpad": 40
          },
          "colorscale": [
           [
            0,
            "rgb(247,251,255)"
           ],
           [
            0.125,
            "rgb(222,235,247)"
           ],
           [
            0.25,
            "rgb(198,219,239)"
           ],
           [
            0.375,
            "rgb(158,202,225)"
           ],
           [
            0.5,
            "rgb(107,174,214)"
           ],
           [
            0.625,
            "rgb(66,146,198)"
           ],
           [
            0.75,
            "rgb(33,113,181)"
           ],
           [
            0.875,
            "rgb(8,81,156)"
           ],
           [
            1,
            "rgb(8,48,107)"
           ]
          ],
          "line": {
           "color": "Grey",
           "width": 0.5
          },
          "showscale": false
         },
         "mode": "markers",
         "showlegend": false,
         "type": "scatter",
         "x": [
          721,
          985,
          879,
          715,
          901,
          279,
          910,
          236,
          614,
          493,
          120,
          604,
          566,
          973,
          935,
          613,
          444,
          737,
          666,
          798,
          841,
          177,
          566,
          996,
          89,
          508,
          74,
          819,
          889,
          483,
          535,
          267,
          696,
          294,
          347,
          468,
          436,
          720,
          180,
          311,
          817,
          329,
          989,
          649,
          428,
          913,
          588,
          473,
          340,
          517,
          990,
          411,
          108,
          673,
          977,
          835,
          296,
          18,
          683,
          698,
          314,
          653,
          396,
          168,
          254,
          547,
          54,
          888,
          501,
          64,
          654,
          577,
          639,
          967,
          269,
          906,
          424,
          81,
          551,
          45,
          948,
          298,
          261,
          532,
          778,
          719,
          136,
          967,
          764,
          225,
          25,
          305,
          548,
          757,
          71,
          300,
          598,
          659,
          150,
          397,
          679,
          164,
          931,
          592,
          365
         ],
         "xaxis": "x10",
         "y": [
          0.6875956284153006,
          0.5923030303030303,
          0.6031746031746031,
          0.5,
          0.5,
          0.5,
          0.5,
          0.5,
          0.5274996057404195,
          0.5,
          0.7238845144356956,
          0.5922173158807759,
          0.5307486631016043,
          0.5,
          0.5,
          0.5,
          0.5932614555256064,
          0.5,
          0.5,
          0.6973997787045705,
          0.5,
          0.5,
          0.7601162481142959,
          0.6951776976564512,
          0.7452538713519954,
          0.5149253731343284,
          0.6997879787305648,
          0.6805555555555556,
          0.6959697217675942,
          0.6282051282051282,
          0.6290317250495704,
          0.7228993298475588,
          0.5448369565217391,
          0.7637799771602588,
          0.6861185983827494,
          0.6922886467993157,
          0.7245671745152354,
          0.6655681567125709,
          0.7084574151280525,
          0.6699872114154943,
          0.6099254742547425,
          0.5,
          0.611449864498645,
          0.7616441709210434,
          0.7392896174863388,
          0.7181094182825485,
          0.6735221858248959,
          0.6327369623144271,
          0.7492790194664745,
          0.7100864890135578,
          0.5,
          0.7859078590785907,
          0.6807098765432098,
          0.5655191059841385,
          0.5254237288135594,
          0.7257325687110987,
          0.6814750718020472,
          0.7365650969529087,
          0.7448407202216066,
          0.5,
          0.7330491201847951,
          0.5835151515151515,
          0.5,
          0.5,
          0.7380952380952381,
          0.7315638906547998,
          0.7538580246913581,
          0.6400854815911692,
          0.7446516939474686,
          0.7506428237494156,
          0.7918831168831169,
          0.7326423576423577,
          0.7216243862520458,
          0.7745032329285602,
          0.5801015394693744,
          0.7956372840976772,
          0.5,
          0.7530972417017299,
          0.6649062725306417,
          0.7172179872718372,
          0.7329697736748064,
          0.7376284814323608,
          0.7266775777414075,
          0.6473235156615241,
          0.8106568364611261,
          0.5,
          0.7103174603174602,
          0.7069393912503328,
          0.7197178379988088,
          0.6778455284552845,
          0.7602553603335318,
          0.5629370629370629,
          0.7320593735390368,
          0.7908110440034513,
          0.7233333333333333,
          0.5457575757575758,
          0.772977022977023,
          0.7775054073540015,
          0.71195420886884,
          0.7354733090185677,
          0.5121951219512195,
          0.5,
          0.6684751261715933,
          0.5338599162542824,
          0.5382234663302319
         ],
         "yaxis": "y10"
        },
        {
         "marker": {
          "color": [
           0,
           1,
           2,
           3,
           4,
           5,
           6,
           7,
           8,
           9,
           10,
           11,
           12,
           13,
           14,
           15,
           16,
           17,
           19,
           21,
           23,
           24,
           27,
           28,
           29,
           35,
           38,
           40,
           43,
           47,
           53,
           56,
           57,
           61,
           63,
           66,
           68,
           72,
           75,
           79,
           82,
           84,
           96,
           110,
           138,
           148,
           153,
           156,
           165,
           166,
           172,
           183,
           200,
           208,
           210,
           221,
           224,
           230,
           233,
           234,
           242,
           243,
           249,
           262,
           313,
           319,
           327,
           329,
           335,
           339,
           342,
           348,
           355,
           376,
           392,
           403,
           437,
           443,
           467,
           481,
           505,
           518,
           529,
           546,
           550,
           551,
           566,
           589,
           597,
           612,
           624,
           641,
           658,
           711,
           792,
           837,
           891,
           920,
           924,
           937,
           938,
           959,
           971,
           975,
           985
          ],
          "colorbar": {
           "title": {
            "text": "Trial"
           },
           "x": 1,
           "xpad": 40
          },
          "colorscale": [
           [
            0,
            "rgb(247,251,255)"
           ],
           [
            0.125,
            "rgb(222,235,247)"
           ],
           [
            0.25,
            "rgb(198,219,239)"
           ],
           [
            0.375,
            "rgb(158,202,225)"
           ],
           [
            0.5,
            "rgb(107,174,214)"
           ],
           [
            0.625,
            "rgb(66,146,198)"
           ],
           [
            0.75,
            "rgb(33,113,181)"
           ],
           [
            0.875,
            "rgb(8,81,156)"
           ],
           [
            1,
            "rgb(8,48,107)"
           ]
          ],
          "line": {
           "color": "Grey",
           "width": 0.5
          },
          "showscale": false
         },
         "mode": "markers",
         "showlegend": false,
         "type": "scatter",
         "x": [
          8,
          4,
          8,
          8,
          3,
          5,
          5,
          3,
          7,
          6,
          4,
          7,
          5,
          3,
          8,
          3,
          8,
          7,
          6,
          3,
          4,
          7,
          4,
          7,
          6,
          4,
          7,
          8,
          6,
          3,
          6,
          5,
          7,
          8,
          6,
          5,
          6,
          3,
          6,
          4,
          7,
          4,
          3,
          6,
          7,
          6,
          3,
          4,
          7,
          6,
          5,
          3,
          5,
          8,
          6,
          6,
          4,
          5,
          3,
          8,
          5,
          8,
          3,
          6,
          3,
          5,
          3,
          6,
          7,
          6,
          4,
          6,
          7,
          5,
          6,
          6,
          5,
          8,
          5,
          8,
          5,
          6,
          6,
          6,
          3,
          8,
          3,
          7,
          7,
          6,
          5,
          8,
          5,
          5,
          4,
          3,
          6,
          6,
          8,
          3,
          7,
          4,
          4,
          6,
          4
         ],
         "xaxis": "x11",
         "y": [
          0.6875956284153006,
          0.5923030303030303,
          0.6031746031746031,
          0.5,
          0.5,
          0.5,
          0.5,
          0.5,
          0.5274996057404195,
          0.5,
          0.7238845144356956,
          0.5922173158807759,
          0.5307486631016043,
          0.5,
          0.5,
          0.5,
          0.5932614555256064,
          0.5,
          0.5,
          0.6973997787045705,
          0.5,
          0.5,
          0.7601162481142959,
          0.6951776976564512,
          0.7452538713519954,
          0.5149253731343284,
          0.6997879787305648,
          0.6805555555555556,
          0.6959697217675942,
          0.6282051282051282,
          0.6290317250495704,
          0.7228993298475588,
          0.5448369565217391,
          0.7637799771602588,
          0.6861185983827494,
          0.6922886467993157,
          0.7245671745152354,
          0.6655681567125709,
          0.7084574151280525,
          0.6699872114154943,
          0.6099254742547425,
          0.5,
          0.611449864498645,
          0.7616441709210434,
          0.7392896174863388,
          0.7181094182825485,
          0.6735221858248959,
          0.6327369623144271,
          0.7492790194664745,
          0.7100864890135578,
          0.5,
          0.7859078590785907,
          0.6807098765432098,
          0.5655191059841385,
          0.5254237288135594,
          0.7257325687110987,
          0.6814750718020472,
          0.7365650969529087,
          0.7448407202216066,
          0.5,
          0.7330491201847951,
          0.5835151515151515,
          0.5,
          0.5,
          0.7380952380952381,
          0.7315638906547998,
          0.7538580246913581,
          0.6400854815911692,
          0.7446516939474686,
          0.7506428237494156,
          0.7918831168831169,
          0.7326423576423577,
          0.7216243862520458,
          0.7745032329285602,
          0.5801015394693744,
          0.7956372840976772,
          0.5,
          0.7530972417017299,
          0.6649062725306417,
          0.7172179872718372,
          0.7329697736748064,
          0.7376284814323608,
          0.7266775777414075,
          0.6473235156615241,
          0.8106568364611261,
          0.5,
          0.7103174603174602,
          0.7069393912503328,
          0.7197178379988088,
          0.6778455284552845,
          0.7602553603335318,
          0.5629370629370629,
          0.7320593735390368,
          0.7908110440034513,
          0.7233333333333333,
          0.5457575757575758,
          0.772977022977023,
          0.7775054073540015,
          0.71195420886884,
          0.7354733090185677,
          0.5121951219512195,
          0.5,
          0.6684751261715933,
          0.5338599162542824,
          0.5382234663302319
         ],
         "yaxis": "y11"
        },
        {
         "marker": {
          "color": [
           1,
           2,
           5,
           7,
           13,
           14,
           19,
           21,
           24,
           28,
           38,
           40,
           47,
           61,
           66,
           72,
           75,
           110,
           148,
           166,
           208,
           234,
           262,
           313,
           327,
           329,
           348,
           437,
           443,
           518,
           546,
           551,
           612,
           624,
           641,
           792,
           920,
           924,
           938,
           975
          ],
          "colorbar": {
           "title": {
            "text": "Trial"
           },
           "x": 1,
           "xpad": 40
          },
          "colorscale": [
           [
            0,
            "rgb(247,251,255)"
           ],
           [
            0.125,
            "rgb(222,235,247)"
           ],
           [
            0.25,
            "rgb(198,219,239)"
           ],
           [
            0.375,
            "rgb(158,202,225)"
           ],
           [
            0.5,
            "rgb(107,174,214)"
           ],
           [
            0.625,
            "rgb(66,146,198)"
           ],
           [
            0.75,
            "rgb(33,113,181)"
           ],
           [
            0.875,
            "rgb(8,81,156)"
           ],
           [
            1,
            "rgb(8,48,107)"
           ]
          ],
          "line": {
           "color": "Grey",
           "width": 0.5
          },
          "showscale": false
         },
         "mode": "markers",
         "showlegend": false,
         "type": "scatter",
         "x": [
          17,
          16,
          12,
          15,
          10,
          5,
          12,
          11,
          14,
          15,
          12,
          4,
          19,
          11,
          19,
          9,
          2,
          20,
          13,
          19,
          12,
          12,
          4,
          11,
          5,
          7,
          6,
          12,
          6,
          17,
          13,
          13,
          18,
          17,
          18,
          3,
          13,
          14,
          11,
          8
         ],
         "xaxis": "x12",
         "y": [
          0.5923030303030303,
          0.6031746031746031,
          0.5,
          0.5,
          0.5,
          0.5,
          0.5,
          0.6973997787045705,
          0.5,
          0.6951776976564512,
          0.6997879787305648,
          0.6805555555555556,
          0.6282051282051282,
          0.7637799771602588,
          0.6922886467993157,
          0.6655681567125709,
          0.7084574151280525,
          0.7616441709210434,
          0.7181094182825485,
          0.7100864890135578,
          0.5655191059841385,
          0.5,
          0.5,
          0.7380952380952381,
          0.7538580246913581,
          0.6400854815911692,
          0.7326423576423577,
          0.5,
          0.7530972417017299,
          0.7376284814323608,
          0.6473235156615241,
          0.5,
          0.6778455284552845,
          0.7602553603335318,
          0.5629370629370629,
          0.7233333333333333,
          0.7775054073540015,
          0.71195420886884,
          0.5121951219512195,
          0.5338599162542824
         ],
         "yaxis": "y12"
        },
        {
         "marker": {
          "color": [
           0,
           1,
           2,
           3,
           4,
           5,
           6,
           7,
           8,
           9,
           10,
           11,
           12,
           13,
           14,
           15,
           16,
           17,
           19,
           21,
           23,
           24,
           27,
           28,
           29,
           35,
           38,
           40,
           43,
           47,
           53,
           56,
           57,
           61,
           63,
           66,
           68,
           72,
           75,
           79,
           82,
           84,
           96,
           110,
           138,
           148,
           153,
           156,
           165,
           166,
           172,
           183,
           200,
           208,
           210,
           221,
           224,
           230,
           233,
           234,
           242,
           243,
           249,
           262,
           313,
           319,
           327,
           329,
           335,
           339,
           342,
           348,
           355,
           376,
           392,
           403,
           437,
           443,
           467,
           481,
           505,
           518,
           529,
           546,
           550,
           551,
           566,
           589,
           597,
           612,
           624,
           641,
           658,
           711,
           792,
           837,
           891,
           920,
           924,
           937,
           938,
           959,
           971,
           975,
           985
          ],
          "colorbar": {
           "title": {
            "text": "Trial"
           },
           "x": 1,
           "xpad": 40
          },
          "colorscale": [
           [
            0,
            "rgb(247,251,255)"
           ],
           [
            0.125,
            "rgb(222,235,247)"
           ],
           [
            0.25,
            "rgb(198,219,239)"
           ],
           [
            0.375,
            "rgb(158,202,225)"
           ],
           [
            0.5,
            "rgb(107,174,214)"
           ],
           [
            0.625,
            "rgb(66,146,198)"
           ],
           [
            0.75,
            "rgb(33,113,181)"
           ],
           [
            0.875,
            "rgb(8,81,156)"
           ],
           [
            1,
            "rgb(8,48,107)"
           ]
          ],
          "line": {
           "color": "Grey",
           "width": 0.5
          },
          "showscale": false
         },
         "mode": "markers",
         "showlegend": false,
         "type": "scatter",
         "x": [
          4,
          10,
          8,
          4,
          2,
          2,
          1,
          5,
          4,
          7,
          2,
          5,
          3,
          10,
          9,
          8,
          1,
          3,
          2,
          3,
          4,
          7,
          5,
          9,
          9,
          3,
          8,
          9,
          8,
          6,
          4,
          8,
          8,
          10,
          5,
          3,
          8,
          10,
          7,
          9,
          4,
          2,
          4,
          3,
          9,
          7,
          2,
          1,
          3,
          8,
          10,
          3,
          6,
          2,
          5,
          7,
          7,
          5,
          4,
          3,
          8,
          10,
          6,
          5,
          6,
          7,
          4,
          1,
          1,
          4,
          9,
          4,
          5,
          8,
          7,
          10,
          3,
          1,
          6,
          9,
          6,
          8,
          5,
          2,
          3,
          2,
          7,
          6,
          5,
          6,
          1,
          8,
          4,
          8,
          7,
          5,
          4,
          8,
          4,
          10,
          3,
          9,
          1,
          5,
          4
         ],
         "xaxis": "x13",
         "y": [
          0.6875956284153006,
          0.5923030303030303,
          0.6031746031746031,
          0.5,
          0.5,
          0.5,
          0.5,
          0.5,
          0.5274996057404195,
          0.5,
          0.7238845144356956,
          0.5922173158807759,
          0.5307486631016043,
          0.5,
          0.5,
          0.5,
          0.5932614555256064,
          0.5,
          0.5,
          0.6973997787045705,
          0.5,
          0.5,
          0.7601162481142959,
          0.6951776976564512,
          0.7452538713519954,
          0.5149253731343284,
          0.6997879787305648,
          0.6805555555555556,
          0.6959697217675942,
          0.6282051282051282,
          0.6290317250495704,
          0.7228993298475588,
          0.5448369565217391,
          0.7637799771602588,
          0.6861185983827494,
          0.6922886467993157,
          0.7245671745152354,
          0.6655681567125709,
          0.7084574151280525,
          0.6699872114154943,
          0.6099254742547425,
          0.5,
          0.611449864498645,
          0.7616441709210434,
          0.7392896174863388,
          0.7181094182825485,
          0.6735221858248959,
          0.6327369623144271,
          0.7492790194664745,
          0.7100864890135578,
          0.5,
          0.7859078590785907,
          0.6807098765432098,
          0.5655191059841385,
          0.5254237288135594,
          0.7257325687110987,
          0.6814750718020472,
          0.7365650969529087,
          0.7448407202216066,
          0.5,
          0.7330491201847951,
          0.5835151515151515,
          0.5,
          0.5,
          0.7380952380952381,
          0.7315638906547998,
          0.7538580246913581,
          0.6400854815911692,
          0.7446516939474686,
          0.7506428237494156,
          0.7918831168831169,
          0.7326423576423577,
          0.7216243862520458,
          0.7745032329285602,
          0.5801015394693744,
          0.7956372840976772,
          0.5,
          0.7530972417017299,
          0.6649062725306417,
          0.7172179872718372,
          0.7329697736748064,
          0.7376284814323608,
          0.7266775777414075,
          0.6473235156615241,
          0.8106568364611261,
          0.5,
          0.7103174603174602,
          0.7069393912503328,
          0.7197178379988088,
          0.6778455284552845,
          0.7602553603335318,
          0.5629370629370629,
          0.7320593735390368,
          0.7908110440034513,
          0.7233333333333333,
          0.5457575757575758,
          0.772977022977023,
          0.7775054073540015,
          0.71195420886884,
          0.7354733090185677,
          0.5121951219512195,
          0.5,
          0.6684751261715933,
          0.5338599162542824,
          0.5382234663302319
         ],
         "yaxis": "y13"
        },
        {
         "marker": {
          "color": [
           1,
           2,
           7,
           10,
           12,
           13,
           16,
           23,
           27,
           29,
           40,
           43,
           53,
           56,
           57,
           68,
           75,
           82,
           110,
           138,
           148,
           156,
           165,
           166,
           208,
           221,
           230,
           242,
           243,
           249,
           262,
           313,
           319,
           339,
           342,
           392,
           437,
           467,
           481,
           550,
           551,
           597,
           641,
           658,
           891,
           937,
           938,
           959,
           975
          ],
          "colorbar": {
           "title": {
            "text": "Trial"
           },
           "x": 1,
           "xpad": 40
          },
          "colorscale": [
           [
            0,
            "rgb(247,251,255)"
           ],
           [
            0.125,
            "rgb(222,235,247)"
           ],
           [
            0.25,
            "rgb(198,219,239)"
           ],
           [
            0.375,
            "rgb(158,202,225)"
           ],
           [
            0.5,
            "rgb(107,174,214)"
           ],
           [
            0.625,
            "rgb(66,146,198)"
           ],
           [
            0.75,
            "rgb(33,113,181)"
           ],
           [
            0.875,
            "rgb(8,81,156)"
           ],
           [
            1,
            "rgb(8,48,107)"
           ]
          ],
          "line": {
           "color": "Grey",
           "width": 0.5
          },
          "showscale": false
         },
         "mode": "markers",
         "showlegend": false,
         "type": "scatter",
         "x": [
          "forest",
          "tree",
          "forest",
          "tree",
          "tree",
          "tree",
          "tree",
          "forest",
          "tree",
          "forest",
          "forest",
          "forest",
          "tree",
          "forest",
          "tree",
          "tree",
          "forest",
          "tree",
          "tree",
          "tree",
          "tree",
          "forest",
          "forest",
          "forest",
          "tree",
          "forest",
          "tree",
          "forest",
          "tree",
          "tree",
          "forest",
          "tree",
          "tree",
          "tree",
          "tree",
          "forest",
          "forest",
          "forest",
          "tree",
          "forest",
          "forest",
          "tree",
          "forest",
          "tree",
          "tree",
          "tree",
          "forest",
          "forest",
          "tree"
         ],
         "xaxis": "x14",
         "y": [
          0.5923030303030303,
          0.6031746031746031,
          0.5,
          0.7238845144356956,
          0.5307486631016043,
          0.5,
          0.5932614555256064,
          0.5,
          0.7601162481142959,
          0.7452538713519954,
          0.6805555555555556,
          0.6959697217675942,
          0.6290317250495704,
          0.7228993298475588,
          0.5448369565217391,
          0.7245671745152354,
          0.7084574151280525,
          0.6099254742547425,
          0.7616441709210434,
          0.7392896174863388,
          0.7181094182825485,
          0.6327369623144271,
          0.7492790194664745,
          0.7100864890135578,
          0.5655191059841385,
          0.7257325687110987,
          0.7365650969529087,
          0.7330491201847951,
          0.5835151515151515,
          0.5,
          0.5,
          0.7380952380952381,
          0.7315638906547998,
          0.7506428237494156,
          0.7918831168831169,
          0.5801015394693744,
          0.5,
          0.6649062725306417,
          0.7172179872718372,
          0.8106568364611261,
          0.5,
          0.7197178379988088,
          0.5629370629370629,
          0.7320593735390368,
          0.772977022977023,
          0.7354733090185677,
          0.5121951219512195,
          0.5,
          0.5338599162542824
         ],
         "yaxis": "y14"
        },
        {
         "marker": {
          "color": [
           0,
           1,
           2,
           3,
           4,
           5,
           6,
           7,
           8,
           9,
           10,
           11,
           12,
           13,
           14,
           15,
           16,
           17,
           19,
           21,
           23,
           24,
           27,
           28,
           29,
           35,
           38,
           40,
           43,
           47,
           53,
           56,
           57,
           61,
           63,
           66,
           68,
           72,
           75,
           79,
           82,
           84,
           96,
           110,
           138,
           148,
           153,
           156,
           165,
           166,
           172,
           183,
           200,
           208,
           210,
           221,
           224,
           230,
           233,
           234,
           242,
           243,
           249,
           262,
           313,
           319,
           327,
           329,
           335,
           339,
           342,
           348,
           355,
           376,
           392,
           403,
           437,
           443,
           467,
           481,
           505,
           518,
           529,
           546,
           550,
           551,
           566,
           589,
           597,
           612,
           624,
           641,
           658,
           711,
           792,
           837,
           891,
           920,
           924,
           937,
           938,
           959,
           971,
           975,
           985
          ],
          "colorbar": {
           "title": {
            "text": "Trial"
           },
           "x": 1,
           "xpad": 40
          },
          "colorscale": [
           [
            0,
            "rgb(247,251,255)"
           ],
           [
            0.125,
            "rgb(222,235,247)"
           ],
           [
            0.25,
            "rgb(198,219,239)"
           ],
           [
            0.375,
            "rgb(158,202,225)"
           ],
           [
            0.5,
            "rgb(107,174,214)"
           ],
           [
            0.625,
            "rgb(66,146,198)"
           ],
           [
            0.75,
            "rgb(33,113,181)"
           ],
           [
            0.875,
            "rgb(8,81,156)"
           ],
           [
            1,
            "rgb(8,48,107)"
           ]
          ],
          "line": {
           "color": "Grey",
           "width": 0.5
          },
          "showscale": false
         },
         "mode": "markers",
         "showlegend": false,
         "type": "scatter",
         "x": [
          235,
          230,
          984,
          122,
          159,
          186,
          597,
          204,
          152,
          104,
          967,
          131,
          429,
          718,
          629,
          588,
          278,
          928,
          241,
          378,
          574,
          121,
          361,
          931,
          937,
          269,
          239,
          727,
          509,
          893,
          603,
          303,
          259,
          316,
          825,
          747,
          155,
          539,
          963,
          816,
          487,
          525,
          925,
          732,
          592,
          522,
          587,
          210,
          146,
          618,
          233,
          696,
          137,
          441,
          915,
          605,
          509,
          245,
          553,
          189,
          969,
          501,
          882,
          558,
          177,
          327,
          649,
          223,
          187,
          427,
          268,
          426,
          841,
          525,
          461,
          526,
          153,
          834,
          470,
          682,
          509,
          210,
          459,
          447,
          699,
          719,
          675,
          876,
          920,
          122,
          383,
          915,
          879,
          950,
          346,
          131,
          804,
          583,
          335,
          616,
          236,
          575,
          370,
          276,
          515
         ],
         "xaxis": "x15",
         "y": [
          0.6875956284153006,
          0.5923030303030303,
          0.6031746031746031,
          0.5,
          0.5,
          0.5,
          0.5,
          0.5,
          0.5274996057404195,
          0.5,
          0.7238845144356956,
          0.5922173158807759,
          0.5307486631016043,
          0.5,
          0.5,
          0.5,
          0.5932614555256064,
          0.5,
          0.5,
          0.6973997787045705,
          0.5,
          0.5,
          0.7601162481142959,
          0.6951776976564512,
          0.7452538713519954,
          0.5149253731343284,
          0.6997879787305648,
          0.6805555555555556,
          0.6959697217675942,
          0.6282051282051282,
          0.6290317250495704,
          0.7228993298475588,
          0.5448369565217391,
          0.7637799771602588,
          0.6861185983827494,
          0.6922886467993157,
          0.7245671745152354,
          0.6655681567125709,
          0.7084574151280525,
          0.6699872114154943,
          0.6099254742547425,
          0.5,
          0.611449864498645,
          0.7616441709210434,
          0.7392896174863388,
          0.7181094182825485,
          0.6735221858248959,
          0.6327369623144271,
          0.7492790194664745,
          0.7100864890135578,
          0.5,
          0.7859078590785907,
          0.6807098765432098,
          0.5655191059841385,
          0.5254237288135594,
          0.7257325687110987,
          0.6814750718020472,
          0.7365650969529087,
          0.7448407202216066,
          0.5,
          0.7330491201847951,
          0.5835151515151515,
          0.5,
          0.5,
          0.7380952380952381,
          0.7315638906547998,
          0.7538580246913581,
          0.6400854815911692,
          0.7446516939474686,
          0.7506428237494156,
          0.7918831168831169,
          0.7326423576423577,
          0.7216243862520458,
          0.7745032329285602,
          0.5801015394693744,
          0.7956372840976772,
          0.5,
          0.7530972417017299,
          0.6649062725306417,
          0.7172179872718372,
          0.7329697736748064,
          0.7376284814323608,
          0.7266775777414075,
          0.6473235156615241,
          0.8106568364611261,
          0.5,
          0.7103174603174602,
          0.7069393912503328,
          0.7197178379988088,
          0.6778455284552845,
          0.7602553603335318,
          0.5629370629370629,
          0.7320593735390368,
          0.7908110440034513,
          0.7233333333333333,
          0.5457575757575758,
          0.772977022977023,
          0.7775054073540015,
          0.71195420886884,
          0.7354733090185677,
          0.5121951219512195,
          0.5,
          0.6684751261715933,
          0.5338599162542824,
          0.5382234663302319
         ],
         "yaxis": "y15"
        },
        {
         "marker": {
          "color": [
           0,
           1,
           2,
           3,
           4,
           5,
           6,
           7,
           8,
           9,
           10,
           11,
           12,
           13,
           14,
           15,
           16,
           17,
           19,
           21,
           23,
           24,
           27,
           28,
           29,
           35,
           38,
           40,
           43,
           47,
           53,
           56,
           57,
           61,
           63,
           66,
           68,
           72,
           75,
           79,
           82,
           84,
           96,
           110,
           138,
           148,
           153,
           156,
           165,
           166,
           172,
           183,
           200,
           208,
           210,
           221,
           224,
           230,
           233,
           234,
           242,
           243,
           249,
           262,
           313,
           319,
           327,
           329,
           335,
           339,
           342,
           348,
           355,
           376,
           392,
           403,
           437,
           443,
           467,
           481,
           505,
           518,
           529,
           546,
           550,
           551,
           566,
           589,
           597,
           612,
           624,
           641,
           658,
           711,
           792,
           837,
           891,
           920,
           924,
           937,
           938,
           959,
           971,
           975,
           985
          ],
          "colorbar": {
           "title": {
            "text": "Trial"
           },
           "x": 1,
           "xpad": 40
          },
          "colorscale": [
           [
            0,
            "rgb(247,251,255)"
           ],
           [
            0.125,
            "rgb(222,235,247)"
           ],
           [
            0.25,
            "rgb(198,219,239)"
           ],
           [
            0.375,
            "rgb(158,202,225)"
           ],
           [
            0.5,
            "rgb(107,174,214)"
           ],
           [
            0.625,
            "rgb(66,146,198)"
           ],
           [
            0.75,
            "rgb(33,113,181)"
           ],
           [
            0.875,
            "rgb(8,81,156)"
           ],
           [
            1,
            "rgb(8,48,107)"
           ]
          ],
          "line": {
           "color": "Grey",
           "width": 0.5
          },
          "showscale": false
         },
         "mode": "markers",
         "showlegend": false,
         "type": "scatter",
         "x": [
          57,
          67,
          2,
          17,
          47,
          11,
          43,
          48,
          97,
          58,
          79,
          80,
          96,
          40,
          57,
          67,
          64,
          6,
          21,
          64,
          3,
          67,
          28,
          94,
          82,
          32,
          66,
          100,
          27,
          18,
          18,
          88,
          56,
          48,
          23,
          5,
          95,
          44,
          83,
          16,
          34,
          82,
          71,
          67,
          29,
          98,
          97,
          62,
          92,
          42,
          72,
          80,
          18,
          33,
          96,
          95,
          93,
          57,
          15,
          97,
          34,
          91,
          32,
          84,
          65,
          28,
          50,
          80,
          74,
          67,
          62,
          7,
          16,
          93,
          82,
          10,
          61,
          22,
          71,
          64,
          75,
          89,
          91,
          9,
          86,
          18,
          47,
          39,
          90,
          79,
          67,
          92,
          8,
          98,
          64,
          60,
          94,
          84,
          65,
          24,
          85,
          76,
          75,
          87,
          50
         ],
         "xaxis": "x16",
         "y": [
          0.6875956284153006,
          0.5923030303030303,
          0.6031746031746031,
          0.5,
          0.5,
          0.5,
          0.5,
          0.5,
          0.5274996057404195,
          0.5,
          0.7238845144356956,
          0.5922173158807759,
          0.5307486631016043,
          0.5,
          0.5,
          0.5,
          0.5932614555256064,
          0.5,
          0.5,
          0.6973997787045705,
          0.5,
          0.5,
          0.7601162481142959,
          0.6951776976564512,
          0.7452538713519954,
          0.5149253731343284,
          0.6997879787305648,
          0.6805555555555556,
          0.6959697217675942,
          0.6282051282051282,
          0.6290317250495704,
          0.7228993298475588,
          0.5448369565217391,
          0.7637799771602588,
          0.6861185983827494,
          0.6922886467993157,
          0.7245671745152354,
          0.6655681567125709,
          0.7084574151280525,
          0.6699872114154943,
          0.6099254742547425,
          0.5,
          0.611449864498645,
          0.7616441709210434,
          0.7392896174863388,
          0.7181094182825485,
          0.6735221858248959,
          0.6327369623144271,
          0.7492790194664745,
          0.7100864890135578,
          0.5,
          0.7859078590785907,
          0.6807098765432098,
          0.5655191059841385,
          0.5254237288135594,
          0.7257325687110987,
          0.6814750718020472,
          0.7365650969529087,
          0.7448407202216066,
          0.5,
          0.7330491201847951,
          0.5835151515151515,
          0.5,
          0.5,
          0.7380952380952381,
          0.7315638906547998,
          0.7538580246913581,
          0.6400854815911692,
          0.7446516939474686,
          0.7506428237494156,
          0.7918831168831169,
          0.7326423576423577,
          0.7216243862520458,
          0.7745032329285602,
          0.5801015394693744,
          0.7956372840976772,
          0.5,
          0.7530972417017299,
          0.6649062725306417,
          0.7172179872718372,
          0.7329697736748064,
          0.7376284814323608,
          0.7266775777414075,
          0.6473235156615241,
          0.8106568364611261,
          0.5,
          0.7103174603174602,
          0.7069393912503328,
          0.7197178379988088,
          0.6778455284552845,
          0.7602553603335318,
          0.5629370629370629,
          0.7320593735390368,
          0.7908110440034513,
          0.7233333333333333,
          0.5457575757575758,
          0.772977022977023,
          0.7775054073540015,
          0.71195420886884,
          0.7354733090185677,
          0.5121951219512195,
          0.5,
          0.6684751261715933,
          0.5338599162542824,
          0.5382234663302319
         ],
         "yaxis": "y16"
        },
        {
         "marker": {
          "color": [
           1,
           2,
           7,
           10,
           12,
           13,
           16,
           23,
           27,
           29,
           40,
           43,
           53,
           56,
           57,
           68,
           75,
           82,
           110,
           138,
           148,
           156,
           165,
           166,
           208,
           221,
           230,
           242,
           243,
           249,
           262,
           313,
           319,
           339,
           342,
           392,
           437,
           467,
           481,
           550,
           551,
           597,
           641,
           658,
           891,
           937,
           938,
           959,
           975
          ],
          "colorbar": {
           "title": {
            "text": "Trial"
           },
           "x": 1,
           "xpad": 40
          },
          "colorscale": [
           [
            0,
            "rgb(247,251,255)"
           ],
           [
            0.125,
            "rgb(222,235,247)"
           ],
           [
            0.25,
            "rgb(198,219,239)"
           ],
           [
            0.375,
            "rgb(158,202,225)"
           ],
           [
            0.5,
            "rgb(107,174,214)"
           ],
           [
            0.625,
            "rgb(66,146,198)"
           ],
           [
            0.75,
            "rgb(33,113,181)"
           ],
           [
            0.875,
            "rgb(8,81,156)"
           ],
           [
            1,
            "rgb(8,48,107)"
           ]
          ],
          "line": {
           "color": "Grey",
           "width": 0.5
          },
          "showscale": false
         },
         "mode": "markers",
         "showlegend": false,
         "type": "scatter",
         "x": [
          true,
          true,
          false,
          true,
          true,
          false,
          false,
          true,
          true,
          true,
          false,
          true,
          false,
          false,
          true,
          true,
          true,
          false,
          true,
          false,
          true,
          false,
          false,
          false,
          false,
          true,
          false,
          true,
          false,
          false,
          true,
          false,
          true,
          false,
          true,
          true,
          false,
          true,
          true,
          false,
          true,
          false,
          false,
          true,
          true,
          false,
          false,
          true,
          false
         ],
         "xaxis": "x17",
         "y": [
          0.5923030303030303,
          0.6031746031746031,
          0.5,
          0.7238845144356956,
          0.5307486631016043,
          0.5,
          0.5932614555256064,
          0.5,
          0.7601162481142959,
          0.7452538713519954,
          0.6805555555555556,
          0.6959697217675942,
          0.6290317250495704,
          0.7228993298475588,
          0.5448369565217391,
          0.7245671745152354,
          0.7084574151280525,
          0.6099254742547425,
          0.7616441709210434,
          0.7392896174863388,
          0.7181094182825485,
          0.6327369623144271,
          0.7492790194664745,
          0.7100864890135578,
          0.5655191059841385,
          0.7257325687110987,
          0.7365650969529087,
          0.7330491201847951,
          0.5835151515151515,
          0.5,
          0.5,
          0.7380952380952381,
          0.7315638906547998,
          0.7506428237494156,
          0.7918831168831169,
          0.5801015394693744,
          0.5,
          0.6649062725306417,
          0.7172179872718372,
          0.8106568364611261,
          0.5,
          0.7197178379988088,
          0.5629370629370629,
          0.7320593735390368,
          0.772977022977023,
          0.7354733090185677,
          0.5121951219512195,
          0.5,
          0.5338599162542824
         ],
         "yaxis": "y17"
        },
        {
         "marker": {
          "color": [
           1,
           2,
           7,
           10,
           12,
           13,
           16,
           23,
           27,
           29,
           40,
           43,
           53,
           56,
           57,
           68,
           75,
           82,
           110,
           138,
           148,
           156,
           165,
           166,
           208,
           221,
           230,
           242,
           243,
           249,
           262,
           313,
           319,
           339,
           342,
           392,
           437,
           467,
           481,
           550,
           551,
           597,
           641,
           658,
           891,
           937,
           938,
           959,
           975
          ],
          "colorbar": {
           "title": {
            "text": "Trial"
           },
           "x": 1,
           "xpad": 40
          },
          "colorscale": [
           [
            0,
            "rgb(247,251,255)"
           ],
           [
            0.125,
            "rgb(222,235,247)"
           ],
           [
            0.25,
            "rgb(198,219,239)"
           ],
           [
            0.375,
            "rgb(158,202,225)"
           ],
           [
            0.5,
            "rgb(107,174,214)"
           ],
           [
            0.625,
            "rgb(66,146,198)"
           ],
           [
            0.75,
            "rgb(33,113,181)"
           ],
           [
            0.875,
            "rgb(8,81,156)"
           ],
           [
            1,
            "rgb(8,48,107)"
           ]
          ],
          "line": {
           "color": "Grey",
           "width": 0.5
          },
          "showscale": false
         },
         "mode": "markers",
         "showlegend": false,
         "type": "scatter",
         "x": [
          0.565017898383613,
          0.8452488423148113,
          0.8616939554952495,
          0.5037419998164143,
          0.08799065043039168,
          0.45012210211149806,
          0.5980599887287884,
          0.4264456309256355,
          0.49646359857316336,
          0.6110226485671741,
          0.8629920941246219,
          0.18566747381128254,
          0.24984437955193195,
          0.8400040446973674,
          0.1069331804665284,
          0.5854000967405801,
          0.3250595542994763,
          0.41286457614447114,
          0.7566766780474778,
          0.4536938136983395,
          0.6778248621256365,
          0.4192238178874733,
          0.4161125847694074,
          0.17789191305144603,
          0.4006765030464713,
          0.7861972645781379,
          0.7599490107267675,
          0.7477123779003569,
          0.062145345030313916,
          0.5410954388589997,
          0.9950573913134607,
          0.2713322735708436,
          0.8843718274287006,
          0.8490411586985489,
          0.8353698932414667,
          0.9899276707867883,
          0.21213262602532965,
          0.8720628506656577,
          0.008323631156573351,
          0.5825632256548552,
          0.6344428595634237,
          0.5200205904632614,
          0.8226440232947271,
          0.852816254401057,
          0.13468880183337167,
          0.6395582361386846,
          0.04249482648618227,
          0.592077531817285,
          0.7823633386010431
         ],
         "xaxis": "x18",
         "y": [
          0.5923030303030303,
          0.6031746031746031,
          0.5,
          0.7238845144356956,
          0.5307486631016043,
          0.5,
          0.5932614555256064,
          0.5,
          0.7601162481142959,
          0.7452538713519954,
          0.6805555555555556,
          0.6959697217675942,
          0.6290317250495704,
          0.7228993298475588,
          0.5448369565217391,
          0.7245671745152354,
          0.7084574151280525,
          0.6099254742547425,
          0.7616441709210434,
          0.7392896174863388,
          0.7181094182825485,
          0.6327369623144271,
          0.7492790194664745,
          0.7100864890135578,
          0.5655191059841385,
          0.7257325687110987,
          0.7365650969529087,
          0.7330491201847951,
          0.5835151515151515,
          0.5,
          0.5,
          0.7380952380952381,
          0.7315638906547998,
          0.7506428237494156,
          0.7918831168831169,
          0.5801015394693744,
          0.5,
          0.6649062725306417,
          0.7172179872718372,
          0.8106568364611261,
          0.5,
          0.7197178379988088,
          0.5629370629370629,
          0.7320593735390368,
          0.772977022977023,
          0.7354733090185677,
          0.5121951219512195,
          0.5,
          0.5338599162542824
         ],
         "yaxis": "y18"
        },
        {
         "marker": {
          "color": [
           1,
           2,
           7,
           10,
           12,
           13,
           16,
           23,
           27,
           29,
           40,
           43,
           53,
           56,
           57,
           68,
           75,
           82,
           110,
           138,
           148,
           156,
           165,
           166,
           208,
           221,
           230,
           242,
           243,
           249,
           262,
           313,
           319,
           339,
           342,
           392,
           437,
           467,
           481,
           550,
           551,
           597,
           641,
           658,
           891,
           937,
           938,
           959,
           975
          ],
          "colorbar": {
           "title": {
            "text": "Trial"
           },
           "x": 1,
           "xpad": 40
          },
          "colorscale": [
           [
            0,
            "rgb(247,251,255)"
           ],
           [
            0.125,
            "rgb(222,235,247)"
           ],
           [
            0.25,
            "rgb(198,219,239)"
           ],
           [
            0.375,
            "rgb(158,202,225)"
           ],
           [
            0.5,
            "rgb(107,174,214)"
           ],
           [
            0.625,
            "rgb(66,146,198)"
           ],
           [
            0.75,
            "rgb(33,113,181)"
           ],
           [
            0.875,
            "rgb(8,81,156)"
           ],
           [
            1,
            "rgb(8,48,107)"
           ]
          ],
          "line": {
           "color": "Grey",
           "width": 0.5
          },
          "showscale": false
         },
         "mode": "markers",
         "showlegend": false,
         "type": "scatter",
         "x": [
          "uniform",
          "uniform",
          "weighted",
          "uniform",
          "uniform",
          "weighted",
          "uniform",
          "weighted",
          "uniform",
          "weighted",
          "weighted",
          "weighted",
          "uniform",
          "weighted",
          "weighted",
          "weighted",
          "uniform",
          "uniform",
          "uniform",
          "weighted",
          "uniform",
          "weighted",
          "weighted",
          "uniform",
          "weighted",
          "uniform",
          "weighted",
          "weighted",
          "weighted",
          "uniform",
          "uniform",
          "weighted",
          "weighted",
          "weighted",
          "uniform",
          "weighted",
          "weighted",
          "weighted",
          "uniform",
          "uniform",
          "weighted",
          "weighted",
          "weighted",
          "weighted",
          "weighted",
          "uniform",
          "uniform",
          "uniform",
          "weighted"
         ],
         "xaxis": "x19",
         "y": [
          0.5923030303030303,
          0.6031746031746031,
          0.5,
          0.7238845144356956,
          0.5307486631016043,
          0.5,
          0.5932614555256064,
          0.5,
          0.7601162481142959,
          0.7452538713519954,
          0.6805555555555556,
          0.6959697217675942,
          0.6290317250495704,
          0.7228993298475588,
          0.5448369565217391,
          0.7245671745152354,
          0.7084574151280525,
          0.6099254742547425,
          0.7616441709210434,
          0.7392896174863388,
          0.7181094182825485,
          0.6327369623144271,
          0.7492790194664745,
          0.7100864890135578,
          0.5655191059841385,
          0.7257325687110987,
          0.7365650969529087,
          0.7330491201847951,
          0.5835151515151515,
          0.5,
          0.5,
          0.7380952380952381,
          0.7315638906547998,
          0.7506428237494156,
          0.7918831168831169,
          0.5801015394693744,
          0.5,
          0.6649062725306417,
          0.7172179872718372,
          0.8106568364611261,
          0.5,
          0.7197178379988088,
          0.5629370629370629,
          0.7320593735390368,
          0.772977022977023,
          0.7354733090185677,
          0.5121951219512195,
          0.5,
          0.5338599162542824
         ],
         "yaxis": "y19"
        },
        {
         "marker": {
          "color": [
           0,
           1,
           2,
           3,
           4,
           5,
           6,
           7,
           8,
           9,
           10,
           11,
           12,
           13,
           14,
           15,
           16,
           17,
           19,
           21,
           23,
           24,
           27,
           28,
           29,
           35,
           38,
           40,
           43,
           47,
           53,
           56,
           57,
           61,
           63,
           66,
           68,
           72,
           75,
           79,
           82,
           84,
           96,
           110,
           138,
           148,
           153,
           156,
           165,
           166,
           172,
           183,
           200,
           208,
           210,
           221,
           224,
           230,
           233,
           234,
           242,
           243,
           249,
           262,
           313,
           319,
           327,
           329,
           335,
           339,
           342,
           348,
           355,
           376,
           392,
           403,
           437,
           443,
           467,
           481,
           505,
           518,
           529,
           546,
           550,
           551,
           566,
           589,
           597,
           612,
           624,
           641,
           658,
           711,
           792,
           837,
           891,
           920,
           924,
           937,
           938,
           959,
           971,
           975,
           985
          ],
          "colorbar": {
           "title": {
            "text": "Trial"
           },
           "x": 1,
           "xpad": 40
          },
          "colorscale": [
           [
            0,
            "rgb(247,251,255)"
           ],
           [
            0.125,
            "rgb(222,235,247)"
           ],
           [
            0.25,
            "rgb(198,219,239)"
           ],
           [
            0.375,
            "rgb(158,202,225)"
           ],
           [
            0.5,
            "rgb(107,174,214)"
           ],
           [
            0.625,
            "rgb(66,146,198)"
           ],
           [
            0.75,
            "rgb(33,113,181)"
           ],
           [
            0.875,
            "rgb(8,81,156)"
           ],
           [
            1,
            "rgb(8,48,107)"
           ]
          ],
          "line": {
           "color": "Grey",
           "width": 0.5
          },
          "showscale": false
         },
         "mode": "markers",
         "showlegend": false,
         "type": "scatter",
         "x": [
          5.986094112085548,
          7.829321199534818,
          2.815462797677199,
          2.57542552617263,
          0.6901377196494257,
          3.210548043882501,
          0.23909330717407765,
          1.9160331659505179,
          9.681505557891908,
          2.491621162774158,
          6.340830716820069,
          3.682759567019298,
          6.682028217559166,
          2.0252620080526853,
          8.218337264222397,
          1.0957038694307095,
          2.5387185443341296,
          1.830687561582776,
          2.718243493750568,
          5.216077586055307,
          1.9027860598357258,
          3.6083852423773384,
          7.482825526930782,
          6.597641533076281,
          5.774247922872045,
          1.4727988908964382,
          6.678021553704172,
          3.323532564356316,
          7.674843275692115,
          9.086033207685341,
          7.201228287165694,
          6.493380477544596,
          9.287771476935385,
          5.463776663208758,
          6.748641890166562,
          3.270697574453552,
          4.967724015477017,
          6.922347498040373,
          6.168184037921879,
          3.0565537209283935,
          7.414924417174326,
          3.7040374405163985,
          7.480440766031685,
          5.822450628676694,
          8.208075350738191,
          2.7277488700729218,
          9.354738894777379,
          2.149649878896685,
          7.098232437586818,
          8.237325688493764,
          2.7052520498873562,
          5.047381458038168,
          9.204158064800863,
          4.045583336690792,
          4.077299768313647,
          8.755898117904767,
          9.65435253435461,
          5.8973582451206195,
          5.733582648618289,
          3.827215886190703,
          7.878518206346893,
          8.167789062731595,
          3.6714037654429403,
          2.261730501327143,
          4.727915311575255,
          9.29182819992342,
          7.094700439948631,
          9.462968235178295,
          5.870480602383161,
          8.559488368709943,
          4.742566689609228,
          2.831093592222991,
          5.373740535874045,
          4.537757975955391,
          9.427455991643873,
          6.499902829270119,
          7.2240414860961515,
          7.975907446583068,
          6.597937311115434,
          6.2759034202020185,
          6.404093489138874,
          3.3806888506180823,
          3.156925260400443,
          2.3941248983400234,
          4.35990649757306,
          0.9767931802438903,
          8.056724722850397,
          9.793648222578224,
          6.851656490077843,
          9.741941080627402,
          9.18105469272066,
          9.263972204794898,
          4.113033079968214,
          4.715982047708538,
          5.469210220096703,
          7.799713906890116,
          8.695302489649162,
          7.738767223607327,
          9.564014382415257,
          8.867657670253696,
          3.2924986611946605,
          2.8594695311734117,
          9.498349992106057,
          3.9564467734931634,
          5.853116229000317
         ],
         "xaxis": "x20",
         "y": [
          0.6875956284153006,
          0.5923030303030303,
          0.6031746031746031,
          0.5,
          0.5,
          0.5,
          0.5,
          0.5,
          0.5274996057404195,
          0.5,
          0.7238845144356956,
          0.5922173158807759,
          0.5307486631016043,
          0.5,
          0.5,
          0.5,
          0.5932614555256064,
          0.5,
          0.5,
          0.6973997787045705,
          0.5,
          0.5,
          0.7601162481142959,
          0.6951776976564512,
          0.7452538713519954,
          0.5149253731343284,
          0.6997879787305648,
          0.6805555555555556,
          0.6959697217675942,
          0.6282051282051282,
          0.6290317250495704,
          0.7228993298475588,
          0.5448369565217391,
          0.7637799771602588,
          0.6861185983827494,
          0.6922886467993157,
          0.7245671745152354,
          0.6655681567125709,
          0.7084574151280525,
          0.6699872114154943,
          0.6099254742547425,
          0.5,
          0.611449864498645,
          0.7616441709210434,
          0.7392896174863388,
          0.7181094182825485,
          0.6735221858248959,
          0.6327369623144271,
          0.7492790194664745,
          0.7100864890135578,
          0.5,
          0.7859078590785907,
          0.6807098765432098,
          0.5655191059841385,
          0.5254237288135594,
          0.7257325687110987,
          0.6814750718020472,
          0.7365650969529087,
          0.7448407202216066,
          0.5,
          0.7330491201847951,
          0.5835151515151515,
          0.5,
          0.5,
          0.7380952380952381,
          0.7315638906547998,
          0.7538580246913581,
          0.6400854815911692,
          0.7446516939474686,
          0.7506428237494156,
          0.7918831168831169,
          0.7326423576423577,
          0.7216243862520458,
          0.7745032329285602,
          0.5801015394693744,
          0.7956372840976772,
          0.5,
          0.7530972417017299,
          0.6649062725306417,
          0.7172179872718372,
          0.7329697736748064,
          0.7376284814323608,
          0.7266775777414075,
          0.6473235156615241,
          0.8106568364611261,
          0.5,
          0.7103174603174602,
          0.7069393912503328,
          0.7197178379988088,
          0.6778455284552845,
          0.7602553603335318,
          0.5629370629370629,
          0.7320593735390368,
          0.7908110440034513,
          0.7233333333333333,
          0.5457575757575758,
          0.772977022977023,
          0.7775054073540015,
          0.71195420886884,
          0.7354733090185677,
          0.5121951219512195,
          0.5,
          0.6684751261715933,
          0.5338599162542824,
          0.5382234663302319
         ],
         "yaxis": "y20"
        },
        {
         "marker": {
          "color": [
           1,
           2,
           7,
           10,
           12,
           13,
           16,
           23,
           27,
           29,
           40,
           43,
           53,
           56,
           57,
           68,
           75,
           82,
           110,
           138,
           148,
           156,
           165,
           166,
           208,
           221,
           230,
           242,
           243,
           249,
           262,
           313,
           319,
           339,
           342,
           392,
           437,
           467,
           481,
           550,
           551,
           597,
           641,
           658,
           891,
           937,
           938,
           959,
           975
          ],
          "colorbar": {
           "title": {
            "text": "Trial"
           },
           "x": 1,
           "xpad": 40
          },
          "colorscale": [
           [
            0,
            "rgb(247,251,255)"
           ],
           [
            0.125,
            "rgb(222,235,247)"
           ],
           [
            0.25,
            "rgb(198,219,239)"
           ],
           [
            0.375,
            "rgb(158,202,225)"
           ],
           [
            0.5,
            "rgb(107,174,214)"
           ],
           [
            0.625,
            "rgb(66,146,198)"
           ],
           [
            0.75,
            "rgb(33,113,181)"
           ],
           [
            0.875,
            "rgb(8,81,156)"
           ],
           [
            1,
            "rgb(8,48,107)"
           ]
          ],
          "line": {
           "color": "Grey",
           "width": 0.5
          },
          "showscale": false
         },
         "mode": "markers",
         "showlegend": false,
         "type": "scatter",
         "x": [
          0.9711438906980456,
          0.3497482856836578,
          0.9734162163111295,
          0.43865252196979587,
          0.34074479532736096,
          0.10437961394660683,
          0.9133843368520074,
          0.73336809091644,
          0.4160569295354075,
          0.48034429123713923,
          0.22684367907990244,
          0.005751927457646841,
          0.8445252138112223,
          0.27786182701187884,
          0.7526180869111803,
          0.8345372430981207,
          0.2543247083204083,
          0.3034103277397838,
          0.09825095192008429,
          0.3308475078650675,
          0.8213593851317855,
          0.4756352422979122,
          0.36826601052636304,
          0.2416541002379737,
          0.18003491834336108,
          0.8260478248643508,
          0.12172199662091149,
          0.9182883548199824,
          0.4785933295039325,
          0.13573048053851428,
          0.4644308039399887,
          0.4586516674976754,
          0.5781662107797407,
          0.6602977027464514,
          0.646216532472177,
          0.31716237850709145,
          0.8443823970587448,
          0.9367359208446072,
          0.17474425759974863,
          0.9013912160619871,
          0.3330724174732143,
          0.43523626981525165,
          0.6887977384830828,
          0.7351553884728931,
          0.5565168019147936,
          0.5848303632715476,
          0.606676564007005,
          0.8829457683654953,
          0.09570897352910172
         ],
         "xaxis": "x21",
         "y": [
          0.5923030303030303,
          0.6031746031746031,
          0.5,
          0.7238845144356956,
          0.5307486631016043,
          0.5,
          0.5932614555256064,
          0.5,
          0.7601162481142959,
          0.7452538713519954,
          0.6805555555555556,
          0.6959697217675942,
          0.6290317250495704,
          0.7228993298475588,
          0.5448369565217391,
          0.7245671745152354,
          0.7084574151280525,
          0.6099254742547425,
          0.7616441709210434,
          0.7392896174863388,
          0.7181094182825485,
          0.6327369623144271,
          0.7492790194664745,
          0.7100864890135578,
          0.5655191059841385,
          0.7257325687110987,
          0.7365650969529087,
          0.7330491201847951,
          0.5835151515151515,
          0.5,
          0.5,
          0.7380952380952381,
          0.7315638906547998,
          0.7506428237494156,
          0.7918831168831169,
          0.5801015394693744,
          0.5,
          0.6649062725306417,
          0.7172179872718372,
          0.8106568364611261,
          0.5,
          0.7197178379988088,
          0.5629370629370629,
          0.7320593735390368,
          0.772977022977023,
          0.7354733090185677,
          0.5121951219512195,
          0.5,
          0.5338599162542824
         ],
         "yaxis": "y21"
        },
        {
         "marker": {
          "color": [
           0,
           1,
           2,
           3,
           4,
           5,
           6,
           7,
           8,
           9,
           10,
           11,
           12,
           13,
           14,
           15,
           16,
           17,
           19,
           21,
           23,
           24,
           27,
           28,
           29,
           35,
           38,
           40,
           43,
           47,
           53,
           56,
           57,
           61,
           63,
           66,
           68,
           72,
           75,
           79,
           82,
           84,
           96,
           110,
           138,
           148,
           153,
           156,
           165,
           166,
           172,
           183,
           200,
           208,
           210,
           221,
           224,
           230,
           233,
           234,
           242,
           243,
           249,
           262,
           313,
           319,
           327,
           329,
           335,
           339,
           342,
           348,
           355,
           376,
           392,
           403,
           437,
           443,
           467,
           481,
           505,
           518,
           529,
           546,
           550,
           551,
           566,
           589,
           597,
           612,
           624,
           641,
           658,
           711,
           792,
           837,
           891,
           920,
           924,
           937,
           938,
           959,
           971,
           975,
           985
          ],
          "colorbar": {
           "title": {
            "text": "Trial"
           },
           "x": 1,
           "xpad": 40
          },
          "colorscale": [
           [
            0,
            "rgb(247,251,255)"
           ],
           [
            0.125,
            "rgb(222,235,247)"
           ],
           [
            0.25,
            "rgb(198,219,239)"
           ],
           [
            0.375,
            "rgb(158,202,225)"
           ],
           [
            0.5,
            "rgb(107,174,214)"
           ],
           [
            0.625,
            "rgb(66,146,198)"
           ],
           [
            0.75,
            "rgb(33,113,181)"
           ],
           [
            0.875,
            "rgb(8,81,156)"
           ],
           [
            1,
            "rgb(8,48,107)"
           ]
          ],
          "line": {
           "color": "Grey",
           "width": 0.5
          },
          "showscale": false
         },
         "mode": "markers",
         "showlegend": false,
         "type": "scatter",
         "x": [
          0.5062898713186776,
          0.9008842491890147,
          0.34198421327115613,
          0.7110467369342558,
          0.6393020533465543,
          0.575056298815209,
          0.7463560663009723,
          0.14727516507758875,
          0.639953869803119,
          0.2329820335294627,
          0.8062574049573108,
          0.3809429999460946,
          0.6840549753899937,
          0.5391370918443245,
          0.1027846273497695,
          0.20352507697775943,
          0.9881261612767216,
          0.39045926569961076,
          0.2197518436525091,
          0.21067216755955603,
          0.2139661205775139,
          0.2710477381517482,
          0.9070598140890122,
          0.33088102823433785,
          0.7274003906800519,
          0.5582907347982261,
          0.9628382175125344,
          0.840301223117413,
          0.5673054591900507,
          0.9672086954532394,
          0.5604750797772342,
          0.8292232885901256,
          0.8981068736994493,
          0.35727494338997257,
          0.7754390155068945,
          0.7845495242276289,
          0.9299868512410042,
          0.8058191149788072,
          0.6752322893496885,
          0.6736267391130116,
          0.8114592771035031,
          0.8163022297422328,
          0.3737773861787206,
          0.4033281029940432,
          0.8241810903995685,
          0.6064575241715296,
          0.9452864107110402,
          0.9897777546421356,
          0.5360469523085555,
          0.9216987941387373,
          0.9397719185177276,
          0.4804276305403533,
          0.6745759025944309,
          0.9213670488705145,
          0.29998554451870385,
          0.8429258261401241,
          0.9773912966490669,
          0.4715427149880289,
          0.8920102482313486,
          0.8408710988370038,
          0.5872103728849518,
          0.7495724385633571,
          0.7888060714775315,
          0.3486745809251156,
          0.8564586049571401,
          0.4855595152655212,
          0.8239618405666967,
          0.9254835966410978,
          0.7053165552309387,
          0.3495933747096832,
          0.9752295631120064,
          0.7116142735229206,
          0.8296929842269007,
          0.5619548508790472,
          0.9661772576391782,
          0.6244395109862307,
          0.9856510740242869,
          0.7151335208507866,
          0.5667279706703617,
          0.635226555267602,
          0.7288315620685384,
          0.48376979896777905,
          0.9340672250111981,
          0.4015852704154448,
          0.9920986223684604,
          0.7891787310003409,
          0.9508365818673721,
          0.5503498387841559,
          0.6289084981818434,
          0.9088196455614588,
          0.5036046061713021,
          0.4613315456894078,
          0.9258433039021405,
          0.505081164967836,
          0.9685810935732377,
          0.4741798778123967,
          0.6283729152266171,
          0.4126527926764795,
          0.9936222793738448,
          0.8723839328948794,
          0.2478577285428071,
          0.9940254865019191,
          0.7902423809057341,
          0.7166505956216116,
          0.48901016833073374
         ],
         "xaxis": "x22",
         "y": [
          0.6875956284153006,
          0.5923030303030303,
          0.6031746031746031,
          0.5,
          0.5,
          0.5,
          0.5,
          0.5,
          0.5274996057404195,
          0.5,
          0.7238845144356956,
          0.5922173158807759,
          0.5307486631016043,
          0.5,
          0.5,
          0.5,
          0.5932614555256064,
          0.5,
          0.5,
          0.6973997787045705,
          0.5,
          0.5,
          0.7601162481142959,
          0.6951776976564512,
          0.7452538713519954,
          0.5149253731343284,
          0.6997879787305648,
          0.6805555555555556,
          0.6959697217675942,
          0.6282051282051282,
          0.6290317250495704,
          0.7228993298475588,
          0.5448369565217391,
          0.7637799771602588,
          0.6861185983827494,
          0.6922886467993157,
          0.7245671745152354,
          0.6655681567125709,
          0.7084574151280525,
          0.6699872114154943,
          0.6099254742547425,
          0.5,
          0.611449864498645,
          0.7616441709210434,
          0.7392896174863388,
          0.7181094182825485,
          0.6735221858248959,
          0.6327369623144271,
          0.7492790194664745,
          0.7100864890135578,
          0.5,
          0.7859078590785907,
          0.6807098765432098,
          0.5655191059841385,
          0.5254237288135594,
          0.7257325687110987,
          0.6814750718020472,
          0.7365650969529087,
          0.7448407202216066,
          0.5,
          0.7330491201847951,
          0.5835151515151515,
          0.5,
          0.5,
          0.7380952380952381,
          0.7315638906547998,
          0.7538580246913581,
          0.6400854815911692,
          0.7446516939474686,
          0.7506428237494156,
          0.7918831168831169,
          0.7326423576423577,
          0.7216243862520458,
          0.7745032329285602,
          0.5801015394693744,
          0.7956372840976772,
          0.5,
          0.7530972417017299,
          0.6649062725306417,
          0.7172179872718372,
          0.7329697736748064,
          0.7376284814323608,
          0.7266775777414075,
          0.6473235156615241,
          0.8106568364611261,
          0.5,
          0.7103174603174602,
          0.7069393912503328,
          0.7197178379988088,
          0.6778455284552845,
          0.7602553603335318,
          0.5629370629370629,
          0.7320593735390368,
          0.7908110440034513,
          0.7233333333333333,
          0.5457575757575758,
          0.772977022977023,
          0.7775054073540015,
          0.71195420886884,
          0.7354733090185677,
          0.5121951219512195,
          0.5,
          0.6684751261715933,
          0.5338599162542824,
          0.5382234663302319
         ],
         "yaxis": "y22"
        }
       ],
       "layout": {
        "template": {
         "data": {
          "bar": [
           {
            "error_x": {
             "color": "#2a3f5f"
            },
            "error_y": {
             "color": "#2a3f5f"
            },
            "marker": {
             "line": {
              "color": "#E5ECF6",
              "width": 0.5
             },
             "pattern": {
              "fillmode": "overlay",
              "size": 10,
              "solidity": 0.2
             }
            },
            "type": "bar"
           }
          ],
          "barpolar": [
           {
            "marker": {
             "line": {
              "color": "#E5ECF6",
              "width": 0.5
             },
             "pattern": {
              "fillmode": "overlay",
              "size": 10,
              "solidity": 0.2
             }
            },
            "type": "barpolar"
           }
          ],
          "carpet": [
           {
            "aaxis": {
             "endlinecolor": "#2a3f5f",
             "gridcolor": "white",
             "linecolor": "white",
             "minorgridcolor": "white",
             "startlinecolor": "#2a3f5f"
            },
            "baxis": {
             "endlinecolor": "#2a3f5f",
             "gridcolor": "white",
             "linecolor": "white",
             "minorgridcolor": "white",
             "startlinecolor": "#2a3f5f"
            },
            "type": "carpet"
           }
          ],
          "choropleth": [
           {
            "colorbar": {
             "outlinewidth": 0,
             "ticks": ""
            },
            "type": "choropleth"
           }
          ],
          "contour": [
           {
            "colorbar": {
             "outlinewidth": 0,
             "ticks": ""
            },
            "colorscale": [
             [
              0,
              "#0d0887"
             ],
             [
              0.1111111111111111,
              "#46039f"
             ],
             [
              0.2222222222222222,
              "#7201a8"
             ],
             [
              0.3333333333333333,
              "#9c179e"
             ],
             [
              0.4444444444444444,
              "#bd3786"
             ],
             [
              0.5555555555555556,
              "#d8576b"
             ],
             [
              0.6666666666666666,
              "#ed7953"
             ],
             [
              0.7777777777777778,
              "#fb9f3a"
             ],
             [
              0.8888888888888888,
              "#fdca26"
             ],
             [
              1,
              "#f0f921"
             ]
            ],
            "type": "contour"
           }
          ],
          "contourcarpet": [
           {
            "colorbar": {
             "outlinewidth": 0,
             "ticks": ""
            },
            "type": "contourcarpet"
           }
          ],
          "heatmap": [
           {
            "colorbar": {
             "outlinewidth": 0,
             "ticks": ""
            },
            "colorscale": [
             [
              0,
              "#0d0887"
             ],
             [
              0.1111111111111111,
              "#46039f"
             ],
             [
              0.2222222222222222,
              "#7201a8"
             ],
             [
              0.3333333333333333,
              "#9c179e"
             ],
             [
              0.4444444444444444,
              "#bd3786"
             ],
             [
              0.5555555555555556,
              "#d8576b"
             ],
             [
              0.6666666666666666,
              "#ed7953"
             ],
             [
              0.7777777777777778,
              "#fb9f3a"
             ],
             [
              0.8888888888888888,
              "#fdca26"
             ],
             [
              1,
              "#f0f921"
             ]
            ],
            "type": "heatmap"
           }
          ],
          "heatmapgl": [
           {
            "colorbar": {
             "outlinewidth": 0,
             "ticks": ""
            },
            "colorscale": [
             [
              0,
              "#0d0887"
             ],
             [
              0.1111111111111111,
              "#46039f"
             ],
             [
              0.2222222222222222,
              "#7201a8"
             ],
             [
              0.3333333333333333,
              "#9c179e"
             ],
             [
              0.4444444444444444,
              "#bd3786"
             ],
             [
              0.5555555555555556,
              "#d8576b"
             ],
             [
              0.6666666666666666,
              "#ed7953"
             ],
             [
              0.7777777777777778,
              "#fb9f3a"
             ],
             [
              0.8888888888888888,
              "#fdca26"
             ],
             [
              1,
              "#f0f921"
             ]
            ],
            "type": "heatmapgl"
           }
          ],
          "histogram": [
           {
            "marker": {
             "pattern": {
              "fillmode": "overlay",
              "size": 10,
              "solidity": 0.2
             }
            },
            "type": "histogram"
           }
          ],
          "histogram2d": [
           {
            "colorbar": {
             "outlinewidth": 0,
             "ticks": ""
            },
            "colorscale": [
             [
              0,
              "#0d0887"
             ],
             [
              0.1111111111111111,
              "#46039f"
             ],
             [
              0.2222222222222222,
              "#7201a8"
             ],
             [
              0.3333333333333333,
              "#9c179e"
             ],
             [
              0.4444444444444444,
              "#bd3786"
             ],
             [
              0.5555555555555556,
              "#d8576b"
             ],
             [
              0.6666666666666666,
              "#ed7953"
             ],
             [
              0.7777777777777778,
              "#fb9f3a"
             ],
             [
              0.8888888888888888,
              "#fdca26"
             ],
             [
              1,
              "#f0f921"
             ]
            ],
            "type": "histogram2d"
           }
          ],
          "histogram2dcontour": [
           {
            "colorbar": {
             "outlinewidth": 0,
             "ticks": ""
            },
            "colorscale": [
             [
              0,
              "#0d0887"
             ],
             [
              0.1111111111111111,
              "#46039f"
             ],
             [
              0.2222222222222222,
              "#7201a8"
             ],
             [
              0.3333333333333333,
              "#9c179e"
             ],
             [
              0.4444444444444444,
              "#bd3786"
             ],
             [
              0.5555555555555556,
              "#d8576b"
             ],
             [
              0.6666666666666666,
              "#ed7953"
             ],
             [
              0.7777777777777778,
              "#fb9f3a"
             ],
             [
              0.8888888888888888,
              "#fdca26"
             ],
             [
              1,
              "#f0f921"
             ]
            ],
            "type": "histogram2dcontour"
           }
          ],
          "mesh3d": [
           {
            "colorbar": {
             "outlinewidth": 0,
             "ticks": ""
            },
            "type": "mesh3d"
           }
          ],
          "parcoords": [
           {
            "line": {
             "colorbar": {
              "outlinewidth": 0,
              "ticks": ""
             }
            },
            "type": "parcoords"
           }
          ],
          "pie": [
           {
            "automargin": true,
            "type": "pie"
           }
          ],
          "scatter": [
           {
            "fillpattern": {
             "fillmode": "overlay",
             "size": 10,
             "solidity": 0.2
            },
            "type": "scatter"
           }
          ],
          "scatter3d": [
           {
            "line": {
             "colorbar": {
              "outlinewidth": 0,
              "ticks": ""
             }
            },
            "marker": {
             "colorbar": {
              "outlinewidth": 0,
              "ticks": ""
             }
            },
            "type": "scatter3d"
           }
          ],
          "scattercarpet": [
           {
            "marker": {
             "colorbar": {
              "outlinewidth": 0,
              "ticks": ""
             }
            },
            "type": "scattercarpet"
           }
          ],
          "scattergeo": [
           {
            "marker": {
             "colorbar": {
              "outlinewidth": 0,
              "ticks": ""
             }
            },
            "type": "scattergeo"
           }
          ],
          "scattergl": [
           {
            "marker": {
             "colorbar": {
              "outlinewidth": 0,
              "ticks": ""
             }
            },
            "type": "scattergl"
           }
          ],
          "scattermapbox": [
           {
            "marker": {
             "colorbar": {
              "outlinewidth": 0,
              "ticks": ""
             }
            },
            "type": "scattermapbox"
           }
          ],
          "scatterpolar": [
           {
            "marker": {
             "colorbar": {
              "outlinewidth": 0,
              "ticks": ""
             }
            },
            "type": "scatterpolar"
           }
          ],
          "scatterpolargl": [
           {
            "marker": {
             "colorbar": {
              "outlinewidth": 0,
              "ticks": ""
             }
            },
            "type": "scatterpolargl"
           }
          ],
          "scatterternary": [
           {
            "marker": {
             "colorbar": {
              "outlinewidth": 0,
              "ticks": ""
             }
            },
            "type": "scatterternary"
           }
          ],
          "surface": [
           {
            "colorbar": {
             "outlinewidth": 0,
             "ticks": ""
            },
            "colorscale": [
             [
              0,
              "#0d0887"
             ],
             [
              0.1111111111111111,
              "#46039f"
             ],
             [
              0.2222222222222222,
              "#7201a8"
             ],
             [
              0.3333333333333333,
              "#9c179e"
             ],
             [
              0.4444444444444444,
              "#bd3786"
             ],
             [
              0.5555555555555556,
              "#d8576b"
             ],
             [
              0.6666666666666666,
              "#ed7953"
             ],
             [
              0.7777777777777778,
              "#fb9f3a"
             ],
             [
              0.8888888888888888,
              "#fdca26"
             ],
             [
              1,
              "#f0f921"
             ]
            ],
            "type": "surface"
           }
          ],
          "table": [
           {
            "cells": {
             "fill": {
              "color": "#EBF0F8"
             },
             "line": {
              "color": "white"
             }
            },
            "header": {
             "fill": {
              "color": "#C8D4E3"
             },
             "line": {
              "color": "white"
             }
            },
            "type": "table"
           }
          ]
         },
         "layout": {
          "annotationdefaults": {
           "arrowcolor": "#2a3f5f",
           "arrowhead": 0,
           "arrowwidth": 1
          },
          "autotypenumbers": "strict",
          "coloraxis": {
           "colorbar": {
            "outlinewidth": 0,
            "ticks": ""
           }
          },
          "colorscale": {
           "diverging": [
            [
             0,
             "#8e0152"
            ],
            [
             0.1,
             "#c51b7d"
            ],
            [
             0.2,
             "#de77ae"
            ],
            [
             0.3,
             "#f1b6da"
            ],
            [
             0.4,
             "#fde0ef"
            ],
            [
             0.5,
             "#f7f7f7"
            ],
            [
             0.6,
             "#e6f5d0"
            ],
            [
             0.7,
             "#b8e186"
            ],
            [
             0.8,
             "#7fbc41"
            ],
            [
             0.9,
             "#4d9221"
            ],
            [
             1,
             "#276419"
            ]
           ],
           "sequential": [
            [
             0,
             "#0d0887"
            ],
            [
             0.1111111111111111,
             "#46039f"
            ],
            [
             0.2222222222222222,
             "#7201a8"
            ],
            [
             0.3333333333333333,
             "#9c179e"
            ],
            [
             0.4444444444444444,
             "#bd3786"
            ],
            [
             0.5555555555555556,
             "#d8576b"
            ],
            [
             0.6666666666666666,
             "#ed7953"
            ],
            [
             0.7777777777777778,
             "#fb9f3a"
            ],
            [
             0.8888888888888888,
             "#fdca26"
            ],
            [
             1,
             "#f0f921"
            ]
           ],
           "sequentialminus": [
            [
             0,
             "#0d0887"
            ],
            [
             0.1111111111111111,
             "#46039f"
            ],
            [
             0.2222222222222222,
             "#7201a8"
            ],
            [
             0.3333333333333333,
             "#9c179e"
            ],
            [
             0.4444444444444444,
             "#bd3786"
            ],
            [
             0.5555555555555556,
             "#d8576b"
            ],
            [
             0.6666666666666666,
             "#ed7953"
            ],
            [
             0.7777777777777778,
             "#fb9f3a"
            ],
            [
             0.8888888888888888,
             "#fdca26"
            ],
            [
             1,
             "#f0f921"
            ]
           ]
          },
          "colorway": [
           "#636efa",
           "#EF553B",
           "#00cc96",
           "#ab63fa",
           "#FFA15A",
           "#19d3f3",
           "#FF6692",
           "#B6E880",
           "#FF97FF",
           "#FECB52"
          ],
          "font": {
           "color": "#2a3f5f"
          },
          "geo": {
           "bgcolor": "white",
           "lakecolor": "white",
           "landcolor": "#E5ECF6",
           "showlakes": true,
           "showland": true,
           "subunitcolor": "white"
          },
          "hoverlabel": {
           "align": "left"
          },
          "hovermode": "closest",
          "mapbox": {
           "style": "light"
          },
          "paper_bgcolor": "white",
          "plot_bgcolor": "#E5ECF6",
          "polar": {
           "angularaxis": {
            "gridcolor": "white",
            "linecolor": "white",
            "ticks": ""
           },
           "bgcolor": "#E5ECF6",
           "radialaxis": {
            "gridcolor": "white",
            "linecolor": "white",
            "ticks": ""
           }
          },
          "scene": {
           "xaxis": {
            "backgroundcolor": "#E5ECF6",
            "gridcolor": "white",
            "gridwidth": 2,
            "linecolor": "white",
            "showbackground": true,
            "ticks": "",
            "zerolinecolor": "white"
           },
           "yaxis": {
            "backgroundcolor": "#E5ECF6",
            "gridcolor": "white",
            "gridwidth": 2,
            "linecolor": "white",
            "showbackground": true,
            "ticks": "",
            "zerolinecolor": "white"
           },
           "zaxis": {
            "backgroundcolor": "#E5ECF6",
            "gridcolor": "white",
            "gridwidth": 2,
            "linecolor": "white",
            "showbackground": true,
            "ticks": "",
            "zerolinecolor": "white"
           }
          },
          "shapedefaults": {
           "line": {
            "color": "#2a3f5f"
           }
          },
          "ternary": {
           "aaxis": {
            "gridcolor": "white",
            "linecolor": "white",
            "ticks": ""
           },
           "baxis": {
            "gridcolor": "white",
            "linecolor": "white",
            "ticks": ""
           },
           "bgcolor": "#E5ECF6",
           "caxis": {
            "gridcolor": "white",
            "linecolor": "white",
            "ticks": ""
           }
          },
          "title": {
           "x": 0.05
          },
          "xaxis": {
           "automargin": true,
           "gridcolor": "white",
           "linecolor": "white",
           "ticks": "",
           "title": {
            "standoff": 15
           },
           "zerolinecolor": "white",
           "zerolinewidth": 2
          },
          "yaxis": {
           "automargin": true,
           "gridcolor": "white",
           "linecolor": "white",
           "ticks": "",
           "title": {
            "standoff": 15
           },
           "zerolinecolor": "white",
           "zerolinewidth": 2
          }
         }
        },
        "title": {
         "text": "Slice Plot"
        },
        "width": 6600,
        "xaxis": {
         "anchor": "y",
         "domain": [
          0,
          0.03677685950413223
         ],
         "title": {
          "text": "alpha"
         }
        },
        "xaxis10": {
         "anchor": "y10",
         "domain": [
          0.4128099173553719,
          0.44958677685950416
         ],
         "title": {
          "text": "max_bin"
         }
        },
        "xaxis11": {
         "anchor": "y11",
         "domain": [
          0.45867768595041325,
          0.4954545454545455
         ],
         "title": {
          "text": "max_depth"
         }
        },
        "xaxis12": {
         "anchor": "y12",
         "domain": [
          0.5045454545454545,
          0.5413223140495868
         ],
         "title": {
          "text": "max_leaves"
         }
        },
        "xaxis13": {
         "anchor": "y13",
         "domain": [
          0.5504132231404959,
          0.5871900826446281
         ],
         "title": {
          "text": "min_child_weight"
         }
        },
        "xaxis14": {
         "anchor": "y14",
         "domain": [
          0.5962809917355372,
          0.6330578512396694
         ],
         "title": {
          "text": "normalize_type"
         }
        },
        "xaxis15": {
         "anchor": "y15",
         "domain": [
          0.6421487603305785,
          0.6789256198347108
         ],
         "title": {
          "text": "num_boost_round"
         }
        },
        "xaxis16": {
         "anchor": "y16",
         "domain": [
          0.6880165289256198,
          0.724793388429752
         ],
         "title": {
          "text": "num_parallel_tree"
         }
        },
        "xaxis17": {
         "anchor": "y17",
         "domain": [
          0.7338842975206612,
          0.7706611570247934
         ],
         "title": {
          "text": "one_drop"
         }
        },
        "xaxis18": {
         "anchor": "y18",
         "domain": [
          0.7797520661157025,
          0.8165289256198347
         ],
         "title": {
          "text": "rate_drop"
         }
        },
        "xaxis19": {
         "anchor": "y19",
         "domain": [
          0.8256198347107438,
          0.8623966942148761
         ],
         "title": {
          "text": "sample_type"
         }
        },
        "xaxis2": {
         "anchor": "y2",
         "domain": [
          0.045867768595041325,
          0.08264462809917356
         ],
         "title": {
          "text": "booster"
         }
        },
        "xaxis20": {
         "anchor": "y20",
         "domain": [
          0.8714876033057851,
          0.9082644628099174
         ],
         "title": {
          "text": "scale_pos_weight"
         }
        },
        "xaxis21": {
         "anchor": "y21",
         "domain": [
          0.9173553719008265,
          0.9541322314049587
         ],
         "title": {
          "text": "skip_drop"
         }
        },
        "xaxis22": {
         "anchor": "y22",
         "domain": [
          0.9632231404958678,
          1
         ],
         "title": {
          "text": "subsample"
         }
        },
        "xaxis3": {
         "anchor": "y3",
         "domain": [
          0.09173553719008265,
          0.12851239669421488
         ],
         "title": {
          "text": "colsample_bylevel"
         }
        },
        "xaxis4": {
         "anchor": "y4",
         "domain": [
          0.13760330578512397,
          0.1743801652892562
         ],
         "title": {
          "text": "colsample_bynode"
         }
        },
        "xaxis5": {
         "anchor": "y5",
         "domain": [
          0.1834710743801653,
          0.22024793388429753
         ],
         "title": {
          "text": "colsample_bytree"
         }
        },
        "xaxis6": {
         "anchor": "y6",
         "domain": [
          0.22933884297520662,
          0.26611570247933886
         ],
         "title": {
          "text": "eta"
         }
        },
        "xaxis7": {
         "anchor": "y7",
         "domain": [
          0.27520661157024795,
          0.3119834710743802
         ],
         "title": {
          "text": "gamma"
         }
        },
        "xaxis8": {
         "anchor": "y8",
         "domain": [
          0.3210743801652893,
          0.3578512396694215
         ],
         "title": {
          "text": "grow_policy"
         }
        },
        "xaxis9": {
         "anchor": "y9",
         "domain": [
          0.3669421487603306,
          0.40371900826446283
         ],
         "title": {
          "text": "lambda"
         }
        },
        "yaxis": {
         "anchor": "x",
         "domain": [
          0,
          1
         ],
         "title": {
          "text": "Objective Value"
         }
        },
        "yaxis10": {
         "anchor": "x10",
         "domain": [
          0,
          1
         ],
         "matches": "y",
         "showticklabels": false
        },
        "yaxis11": {
         "anchor": "x11",
         "domain": [
          0,
          1
         ],
         "matches": "y",
         "showticklabels": false
        },
        "yaxis12": {
         "anchor": "x12",
         "domain": [
          0,
          1
         ],
         "matches": "y",
         "showticklabels": false
        },
        "yaxis13": {
         "anchor": "x13",
         "domain": [
          0,
          1
         ],
         "matches": "y",
         "showticklabels": false
        },
        "yaxis14": {
         "anchor": "x14",
         "domain": [
          0,
          1
         ],
         "matches": "y",
         "showticklabels": false
        },
        "yaxis15": {
         "anchor": "x15",
         "domain": [
          0,
          1
         ],
         "matches": "y",
         "showticklabels": false
        },
        "yaxis16": {
         "anchor": "x16",
         "domain": [
          0,
          1
         ],
         "matches": "y",
         "showticklabels": false
        },
        "yaxis17": {
         "anchor": "x17",
         "domain": [
          0,
          1
         ],
         "matches": "y",
         "showticklabels": false
        },
        "yaxis18": {
         "anchor": "x18",
         "domain": [
          0,
          1
         ],
         "matches": "y",
         "showticklabels": false
        },
        "yaxis19": {
         "anchor": "x19",
         "domain": [
          0,
          1
         ],
         "matches": "y",
         "showticklabels": false
        },
        "yaxis2": {
         "anchor": "x2",
         "domain": [
          0,
          1
         ],
         "matches": "y",
         "showticklabels": false
        },
        "yaxis20": {
         "anchor": "x20",
         "domain": [
          0,
          1
         ],
         "matches": "y",
         "showticklabels": false
        },
        "yaxis21": {
         "anchor": "x21",
         "domain": [
          0,
          1
         ],
         "matches": "y",
         "showticklabels": false
        },
        "yaxis22": {
         "anchor": "x22",
         "domain": [
          0,
          1
         ],
         "matches": "y",
         "showticklabels": false
        },
        "yaxis3": {
         "anchor": "x3",
         "domain": [
          0,
          1
         ],
         "matches": "y",
         "showticklabels": false
        },
        "yaxis4": {
         "anchor": "x4",
         "domain": [
          0,
          1
         ],
         "matches": "y",
         "showticklabels": false
        },
        "yaxis5": {
         "anchor": "x5",
         "domain": [
          0,
          1
         ],
         "matches": "y",
         "showticklabels": false
        },
        "yaxis6": {
         "anchor": "x6",
         "domain": [
          0,
          1
         ],
         "matches": "y",
         "showticklabels": false
        },
        "yaxis7": {
         "anchor": "x7",
         "domain": [
          0,
          1
         ],
         "matches": "y",
         "showticklabels": false
        },
        "yaxis8": {
         "anchor": "x8",
         "domain": [
          0,
          1
         ],
         "matches": "y",
         "showticklabels": false
        },
        "yaxis9": {
         "anchor": "x9",
         "domain": [
          0,
          1
         ],
         "matches": "y",
         "showticklabels": false
        }
       }
      }
     },
     "metadata": {},
     "output_type": "display_data"
    }
   ],
   "source": [
    "optuna.visualization.plot_slice(study_max)"
   ]
  },
  {
   "cell_type": "code",
   "execution_count": 22,
   "metadata": {},
   "outputs": [
    {
     "data": {
      "application/vnd.plotly.v1+json": {
       "config": {
        "plotlyServerURL": "https://plot.ly"
       },
       "data": [
        {
         "cliponaxis": false,
         "hovertemplate": [
          "grow_policy (CategoricalDistribution): 0.000495632651169582<extra></extra>",
          "booster (CategoricalDistribution): 0.0010703583546552227<extra></extra>",
          "max_depth (IntDistribution): 0.0021178589852712975<extra></extra>",
          "min_child_weight (IntDistribution): 0.003996788595123326<extra></extra>",
          "colsample_bylevel (FloatDistribution): 0.005352133124299186<extra></extra>",
          "num_boost_round (IntDistribution): 0.009213035628218999<extra></extra>",
          "lambda (FloatDistribution): 0.011253676146666291<extra></extra>",
          "alpha (FloatDistribution): 0.013019952077878824<extra></extra>",
          "colsample_bytree (FloatDistribution): 0.019237572154156068<extra></extra>",
          "colsample_bynode (FloatDistribution): 0.022842306978944984<extra></extra>",
          "max_bin (IntDistribution): 0.026788134543723682<extra></extra>",
          "num_parallel_tree (IntDistribution): 0.027742945235410026<extra></extra>",
          "subsample (FloatDistribution): 0.029878983671958275<extra></extra>",
          "eta (FloatDistribution): 0.046045585990935424<extra></extra>",
          "gamma (FloatDistribution): 0.2002080646616726<extra></extra>",
          "scale_pos_weight (FloatDistribution): 0.5807369711999163<extra></extra>"
         ],
         "marker": {
          "color": "rgb(66,146,198)"
         },
         "orientation": "h",
         "text": [
          "<0.01",
          "<0.01",
          "<0.01",
          "<0.01",
          "<0.01",
          "<0.01",
          "0.01",
          "0.01",
          "0.02",
          "0.02",
          "0.03",
          "0.03",
          "0.03",
          "0.05",
          "0.20",
          "0.58"
         ],
         "textposition": "outside",
         "type": "bar",
         "x": [
          0.000495632651169582,
          0.0010703583546552227,
          0.0021178589852712975,
          0.003996788595123326,
          0.005352133124299186,
          0.009213035628218999,
          0.011253676146666291,
          0.013019952077878824,
          0.019237572154156068,
          0.022842306978944984,
          0.026788134543723682,
          0.027742945235410026,
          0.029878983671958275,
          0.046045585990935424,
          0.2002080646616726,
          0.5807369711999163
         ],
         "y": [
          "grow_policy",
          "booster",
          "max_depth",
          "min_child_weight",
          "colsample_bylevel",
          "num_boost_round",
          "lambda",
          "alpha",
          "colsample_bytree",
          "colsample_bynode",
          "max_bin",
          "num_parallel_tree",
          "subsample",
          "eta",
          "gamma",
          "scale_pos_weight"
         ]
        }
       ],
       "layout": {
        "showlegend": false,
        "template": {
         "data": {
          "bar": [
           {
            "error_x": {
             "color": "#2a3f5f"
            },
            "error_y": {
             "color": "#2a3f5f"
            },
            "marker": {
             "line": {
              "color": "#E5ECF6",
              "width": 0.5
             },
             "pattern": {
              "fillmode": "overlay",
              "size": 10,
              "solidity": 0.2
             }
            },
            "type": "bar"
           }
          ],
          "barpolar": [
           {
            "marker": {
             "line": {
              "color": "#E5ECF6",
              "width": 0.5
             },
             "pattern": {
              "fillmode": "overlay",
              "size": 10,
              "solidity": 0.2
             }
            },
            "type": "barpolar"
           }
          ],
          "carpet": [
           {
            "aaxis": {
             "endlinecolor": "#2a3f5f",
             "gridcolor": "white",
             "linecolor": "white",
             "minorgridcolor": "white",
             "startlinecolor": "#2a3f5f"
            },
            "baxis": {
             "endlinecolor": "#2a3f5f",
             "gridcolor": "white",
             "linecolor": "white",
             "minorgridcolor": "white",
             "startlinecolor": "#2a3f5f"
            },
            "type": "carpet"
           }
          ],
          "choropleth": [
           {
            "colorbar": {
             "outlinewidth": 0,
             "ticks": ""
            },
            "type": "choropleth"
           }
          ],
          "contour": [
           {
            "colorbar": {
             "outlinewidth": 0,
             "ticks": ""
            },
            "colorscale": [
             [
              0,
              "#0d0887"
             ],
             [
              0.1111111111111111,
              "#46039f"
             ],
             [
              0.2222222222222222,
              "#7201a8"
             ],
             [
              0.3333333333333333,
              "#9c179e"
             ],
             [
              0.4444444444444444,
              "#bd3786"
             ],
             [
              0.5555555555555556,
              "#d8576b"
             ],
             [
              0.6666666666666666,
              "#ed7953"
             ],
             [
              0.7777777777777778,
              "#fb9f3a"
             ],
             [
              0.8888888888888888,
              "#fdca26"
             ],
             [
              1,
              "#f0f921"
             ]
            ],
            "type": "contour"
           }
          ],
          "contourcarpet": [
           {
            "colorbar": {
             "outlinewidth": 0,
             "ticks": ""
            },
            "type": "contourcarpet"
           }
          ],
          "heatmap": [
           {
            "colorbar": {
             "outlinewidth": 0,
             "ticks": ""
            },
            "colorscale": [
             [
              0,
              "#0d0887"
             ],
             [
              0.1111111111111111,
              "#46039f"
             ],
             [
              0.2222222222222222,
              "#7201a8"
             ],
             [
              0.3333333333333333,
              "#9c179e"
             ],
             [
              0.4444444444444444,
              "#bd3786"
             ],
             [
              0.5555555555555556,
              "#d8576b"
             ],
             [
              0.6666666666666666,
              "#ed7953"
             ],
             [
              0.7777777777777778,
              "#fb9f3a"
             ],
             [
              0.8888888888888888,
              "#fdca26"
             ],
             [
              1,
              "#f0f921"
             ]
            ],
            "type": "heatmap"
           }
          ],
          "heatmapgl": [
           {
            "colorbar": {
             "outlinewidth": 0,
             "ticks": ""
            },
            "colorscale": [
             [
              0,
              "#0d0887"
             ],
             [
              0.1111111111111111,
              "#46039f"
             ],
             [
              0.2222222222222222,
              "#7201a8"
             ],
             [
              0.3333333333333333,
              "#9c179e"
             ],
             [
              0.4444444444444444,
              "#bd3786"
             ],
             [
              0.5555555555555556,
              "#d8576b"
             ],
             [
              0.6666666666666666,
              "#ed7953"
             ],
             [
              0.7777777777777778,
              "#fb9f3a"
             ],
             [
              0.8888888888888888,
              "#fdca26"
             ],
             [
              1,
              "#f0f921"
             ]
            ],
            "type": "heatmapgl"
           }
          ],
          "histogram": [
           {
            "marker": {
             "pattern": {
              "fillmode": "overlay",
              "size": 10,
              "solidity": 0.2
             }
            },
            "type": "histogram"
           }
          ],
          "histogram2d": [
           {
            "colorbar": {
             "outlinewidth": 0,
             "ticks": ""
            },
            "colorscale": [
             [
              0,
              "#0d0887"
             ],
             [
              0.1111111111111111,
              "#46039f"
             ],
             [
              0.2222222222222222,
              "#7201a8"
             ],
             [
              0.3333333333333333,
              "#9c179e"
             ],
             [
              0.4444444444444444,
              "#bd3786"
             ],
             [
              0.5555555555555556,
              "#d8576b"
             ],
             [
              0.6666666666666666,
              "#ed7953"
             ],
             [
              0.7777777777777778,
              "#fb9f3a"
             ],
             [
              0.8888888888888888,
              "#fdca26"
             ],
             [
              1,
              "#f0f921"
             ]
            ],
            "type": "histogram2d"
           }
          ],
          "histogram2dcontour": [
           {
            "colorbar": {
             "outlinewidth": 0,
             "ticks": ""
            },
            "colorscale": [
             [
              0,
              "#0d0887"
             ],
             [
              0.1111111111111111,
              "#46039f"
             ],
             [
              0.2222222222222222,
              "#7201a8"
             ],
             [
              0.3333333333333333,
              "#9c179e"
             ],
             [
              0.4444444444444444,
              "#bd3786"
             ],
             [
              0.5555555555555556,
              "#d8576b"
             ],
             [
              0.6666666666666666,
              "#ed7953"
             ],
             [
              0.7777777777777778,
              "#fb9f3a"
             ],
             [
              0.8888888888888888,
              "#fdca26"
             ],
             [
              1,
              "#f0f921"
             ]
            ],
            "type": "histogram2dcontour"
           }
          ],
          "mesh3d": [
           {
            "colorbar": {
             "outlinewidth": 0,
             "ticks": ""
            },
            "type": "mesh3d"
           }
          ],
          "parcoords": [
           {
            "line": {
             "colorbar": {
              "outlinewidth": 0,
              "ticks": ""
             }
            },
            "type": "parcoords"
           }
          ],
          "pie": [
           {
            "automargin": true,
            "type": "pie"
           }
          ],
          "scatter": [
           {
            "fillpattern": {
             "fillmode": "overlay",
             "size": 10,
             "solidity": 0.2
            },
            "type": "scatter"
           }
          ],
          "scatter3d": [
           {
            "line": {
             "colorbar": {
              "outlinewidth": 0,
              "ticks": ""
             }
            },
            "marker": {
             "colorbar": {
              "outlinewidth": 0,
              "ticks": ""
             }
            },
            "type": "scatter3d"
           }
          ],
          "scattercarpet": [
           {
            "marker": {
             "colorbar": {
              "outlinewidth": 0,
              "ticks": ""
             }
            },
            "type": "scattercarpet"
           }
          ],
          "scattergeo": [
           {
            "marker": {
             "colorbar": {
              "outlinewidth": 0,
              "ticks": ""
             }
            },
            "type": "scattergeo"
           }
          ],
          "scattergl": [
           {
            "marker": {
             "colorbar": {
              "outlinewidth": 0,
              "ticks": ""
             }
            },
            "type": "scattergl"
           }
          ],
          "scattermapbox": [
           {
            "marker": {
             "colorbar": {
              "outlinewidth": 0,
              "ticks": ""
             }
            },
            "type": "scattermapbox"
           }
          ],
          "scatterpolar": [
           {
            "marker": {
             "colorbar": {
              "outlinewidth": 0,
              "ticks": ""
             }
            },
            "type": "scatterpolar"
           }
          ],
          "scatterpolargl": [
           {
            "marker": {
             "colorbar": {
              "outlinewidth": 0,
              "ticks": ""
             }
            },
            "type": "scatterpolargl"
           }
          ],
          "scatterternary": [
           {
            "marker": {
             "colorbar": {
              "outlinewidth": 0,
              "ticks": ""
             }
            },
            "type": "scatterternary"
           }
          ],
          "surface": [
           {
            "colorbar": {
             "outlinewidth": 0,
             "ticks": ""
            },
            "colorscale": [
             [
              0,
              "#0d0887"
             ],
             [
              0.1111111111111111,
              "#46039f"
             ],
             [
              0.2222222222222222,
              "#7201a8"
             ],
             [
              0.3333333333333333,
              "#9c179e"
             ],
             [
              0.4444444444444444,
              "#bd3786"
             ],
             [
              0.5555555555555556,
              "#d8576b"
             ],
             [
              0.6666666666666666,
              "#ed7953"
             ],
             [
              0.7777777777777778,
              "#fb9f3a"
             ],
             [
              0.8888888888888888,
              "#fdca26"
             ],
             [
              1,
              "#f0f921"
             ]
            ],
            "type": "surface"
           }
          ],
          "table": [
           {
            "cells": {
             "fill": {
              "color": "#EBF0F8"
             },
             "line": {
              "color": "white"
             }
            },
            "header": {
             "fill": {
              "color": "#C8D4E3"
             },
             "line": {
              "color": "white"
             }
            },
            "type": "table"
           }
          ]
         },
         "layout": {
          "annotationdefaults": {
           "arrowcolor": "#2a3f5f",
           "arrowhead": 0,
           "arrowwidth": 1
          },
          "autotypenumbers": "strict",
          "coloraxis": {
           "colorbar": {
            "outlinewidth": 0,
            "ticks": ""
           }
          },
          "colorscale": {
           "diverging": [
            [
             0,
             "#8e0152"
            ],
            [
             0.1,
             "#c51b7d"
            ],
            [
             0.2,
             "#de77ae"
            ],
            [
             0.3,
             "#f1b6da"
            ],
            [
             0.4,
             "#fde0ef"
            ],
            [
             0.5,
             "#f7f7f7"
            ],
            [
             0.6,
             "#e6f5d0"
            ],
            [
             0.7,
             "#b8e186"
            ],
            [
             0.8,
             "#7fbc41"
            ],
            [
             0.9,
             "#4d9221"
            ],
            [
             1,
             "#276419"
            ]
           ],
           "sequential": [
            [
             0,
             "#0d0887"
            ],
            [
             0.1111111111111111,
             "#46039f"
            ],
            [
             0.2222222222222222,
             "#7201a8"
            ],
            [
             0.3333333333333333,
             "#9c179e"
            ],
            [
             0.4444444444444444,
             "#bd3786"
            ],
            [
             0.5555555555555556,
             "#d8576b"
            ],
            [
             0.6666666666666666,
             "#ed7953"
            ],
            [
             0.7777777777777778,
             "#fb9f3a"
            ],
            [
             0.8888888888888888,
             "#fdca26"
            ],
            [
             1,
             "#f0f921"
            ]
           ],
           "sequentialminus": [
            [
             0,
             "#0d0887"
            ],
            [
             0.1111111111111111,
             "#46039f"
            ],
            [
             0.2222222222222222,
             "#7201a8"
            ],
            [
             0.3333333333333333,
             "#9c179e"
            ],
            [
             0.4444444444444444,
             "#bd3786"
            ],
            [
             0.5555555555555556,
             "#d8576b"
            ],
            [
             0.6666666666666666,
             "#ed7953"
            ],
            [
             0.7777777777777778,
             "#fb9f3a"
            ],
            [
             0.8888888888888888,
             "#fdca26"
            ],
            [
             1,
             "#f0f921"
            ]
           ]
          },
          "colorway": [
           "#636efa",
           "#EF553B",
           "#00cc96",
           "#ab63fa",
           "#FFA15A",
           "#19d3f3",
           "#FF6692",
           "#B6E880",
           "#FF97FF",
           "#FECB52"
          ],
          "font": {
           "color": "#2a3f5f"
          },
          "geo": {
           "bgcolor": "white",
           "lakecolor": "white",
           "landcolor": "#E5ECF6",
           "showlakes": true,
           "showland": true,
           "subunitcolor": "white"
          },
          "hoverlabel": {
           "align": "left"
          },
          "hovermode": "closest",
          "mapbox": {
           "style": "light"
          },
          "paper_bgcolor": "white",
          "plot_bgcolor": "#E5ECF6",
          "polar": {
           "angularaxis": {
            "gridcolor": "white",
            "linecolor": "white",
            "ticks": ""
           },
           "bgcolor": "#E5ECF6",
           "radialaxis": {
            "gridcolor": "white",
            "linecolor": "white",
            "ticks": ""
           }
          },
          "scene": {
           "xaxis": {
            "backgroundcolor": "#E5ECF6",
            "gridcolor": "white",
            "gridwidth": 2,
            "linecolor": "white",
            "showbackground": true,
            "ticks": "",
            "zerolinecolor": "white"
           },
           "yaxis": {
            "backgroundcolor": "#E5ECF6",
            "gridcolor": "white",
            "gridwidth": 2,
            "linecolor": "white",
            "showbackground": true,
            "ticks": "",
            "zerolinecolor": "white"
           },
           "zaxis": {
            "backgroundcolor": "#E5ECF6",
            "gridcolor": "white",
            "gridwidth": 2,
            "linecolor": "white",
            "showbackground": true,
            "ticks": "",
            "zerolinecolor": "white"
           }
          },
          "shapedefaults": {
           "line": {
            "color": "#2a3f5f"
           }
          },
          "ternary": {
           "aaxis": {
            "gridcolor": "white",
            "linecolor": "white",
            "ticks": ""
           },
           "baxis": {
            "gridcolor": "white",
            "linecolor": "white",
            "ticks": ""
           },
           "bgcolor": "#E5ECF6",
           "caxis": {
            "gridcolor": "white",
            "linecolor": "white",
            "ticks": ""
           }
          },
          "title": {
           "x": 0.05
          },
          "xaxis": {
           "automargin": true,
           "gridcolor": "white",
           "linecolor": "white",
           "ticks": "",
           "title": {
            "standoff": 15
           },
           "zerolinecolor": "white",
           "zerolinewidth": 2
          },
          "yaxis": {
           "automargin": true,
           "gridcolor": "white",
           "linecolor": "white",
           "ticks": "",
           "title": {
            "standoff": 15
           },
           "zerolinecolor": "white",
           "zerolinewidth": 2
          }
         }
        },
        "title": {
         "text": "Hyperparameter Importances"
        },
        "xaxis": {
         "title": {
          "text": "Importance for Objective Value"
         }
        },
        "yaxis": {
         "title": {
          "text": "Hyperparameter"
         }
        }
       }
      }
     },
     "metadata": {},
     "output_type": "display_data"
    }
   ],
   "source": [
    "optuna.visualization.plot_param_importances(study_max)"
   ]
  }
 ],
 "metadata": {
  "kernelspec": {
   "display_name": "rapids-23.04",
   "language": "python",
   "name": "python3"
  },
  "language_info": {
   "codemirror_mode": {
    "name": "ipython",
    "version": 3
   },
   "file_extension": ".py",
   "mimetype": "text/x-python",
   "name": "python",
   "nbconvert_exporter": "python",
   "pygments_lexer": "ipython3",
   "version": "3.11.3"
  },
  "orig_nbformat": 4
 },
 "nbformat": 4,
 "nbformat_minor": 2
}
